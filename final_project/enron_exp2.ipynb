{
 "cells": [
  {
   "cell_type": "code",
   "execution_count": 1,
   "metadata": {
    "collapsed": false
   },
   "outputs": [],
   "source": [
    "import sys\n",
    "import pickle\n",
    "import numpy as np\n",
    "import pandas as pd\n",
    "import matplotlib.pyplot as plt\n",
    "sys.path.append(\"../tools/\")\n",
    "from feature_format import featureFormat, targetFeatureSplit\n",
    "from tester import dump_classifier_and_data\n",
    "from sklearn.linear_model import LinearRegression\n",
    "\n",
    "from sklearn.cross_validation import train_test_split\n",
    "from sklearn.naive_bayes import GaussianNB\n",
    "from sklearn.tree import DecisionTreeClassifier\n",
    "from sklearn.neighbors import KNeighborsClassifier\n",
    "from sklearn.svm import SVC\n",
    "from sklearn.ensemble import AdaBoostClassifier, RandomForestClassifier\n",
    "from sklearn.metrics import f1_score, confusion_matrix\n",
    "\n",
    "from ggplot import ggplot, aes, geom_boxplot, geom_density, geom_point, geom_histogram, stat_smooth\n",
    "from ggplot import facet_wrap, facet_grid, ylim, xlim, scale_y_continuous\n",
    "from scipy.stats.stats import pearsonr\n",
    "from scipy.stats import mannwhitneyu, linregress\n",
    "%matplotlib inline"
   ]
  },
  {
   "cell_type": "markdown",
   "metadata": {},
   "source": [
    "***\n",
    "**Load Data**"
   ]
  },
  {
   "cell_type": "code",
   "execution_count": 2,
   "metadata": {
    "collapsed": true
   },
   "outputs": [],
   "source": [
    "with open(\"final_project_dataset.pkl\", \"r\") as data_file:\n",
    "    data_dict = pickle.load(data_file)"
   ]
  },
  {
   "cell_type": "code",
   "execution_count": 3,
   "metadata": {
    "collapsed": false
   },
   "outputs": [],
   "source": [
    "# load in all features except email_address\n",
    "features_list = data_dict['TOTAL'].keys() # 21 keys: 20 features, 1 label/target\n",
    "features_list.remove('email_address')\n",
    "poi_index = features_list.index('poi')\n",
    "features_list[0], features_list[poi_index] = features_list[poi_index], features_list[0]\n",
    "all_data = featureFormat(data_dict, features_list, remove_all_zeroes=False, sort_keys = True)\n",
    "labels, features = targetFeatureSplit(all_data)\n",
    "index = sorted(data_dict.keys())"
   ]
  },
  {
   "cell_type": "code",
   "execution_count": 4,
   "metadata": {
    "collapsed": true
   },
   "outputs": [],
   "source": [
    "email_address = [data_dict[key]['email_address'] for key in index]"
   ]
  },
  {
   "cell_type": "markdown",
   "metadata": {},
   "source": [
    "**Create DataFrame**"
   ]
  },
  {
   "cell_type": "code",
   "execution_count": 5,
   "metadata": {
    "collapsed": false
   },
   "outputs": [],
   "source": [
    "features_data = pd.DataFrame(features, index=index, columns=features_list[1:])\n",
    "labels_data = pd.Series(labels, index=index)\n",
    "features_data['email_address'] = email_address"
   ]
  },
  {
   "cell_type": "code",
   "execution_count": 6,
   "metadata": {
    "collapsed": false
   },
   "outputs": [],
   "source": [
    "# Recover missing value encoding by replace all 0 with 'NaN'\n",
    "features_data.replace(0, np.nan, inplace=True) # 146 data points\n",
    "# In email_address column, missing value is encoded by String type 'NaN'\n",
    "features_data['email_address'].replace('NaN', np.nan, inplace=True)"
   ]
  },
  {
   "cell_type": "markdown",
   "metadata": {},
   "source": [
    "**Remove Known Outlier - 'TOTAL'**"
   ]
  },
  {
   "cell_type": "code",
   "execution_count": 7,
   "metadata": {
    "collapsed": false
   },
   "outputs": [],
   "source": [
    "features_data.drop('TOTAL', inplace=True)\n",
    "labels_data.drop('TOTAL', inplace=True) # 145 data points"
   ]
  },
  {
   "cell_type": "markdown",
   "metadata": {},
   "source": [
    "**Split Train Test Set - only investigate data on training set**"
   ]
  },
  {
   "cell_type": "code",
   "execution_count": 8,
   "metadata": {
    "collapsed": true
   },
   "outputs": [],
   "source": [
    "features_train, features_test, labels_train, labels_test = train_test_split(features_data, labels_data,\n",
    "                                                                            test_size=.3, random_state=852)"
   ]
  },
  {
   "cell_type": "markdown",
   "metadata": {},
   "source": [
    "**Investigate Missing Value**"
   ]
  },
  {
   "cell_type": "code",
   "execution_count": 9,
   "metadata": {
    "collapsed": false
   },
   "outputs": [
    {
     "data": {
      "text/html": [
       "<div>\n",
       "<table border=\"1\" class=\"dataframe\">\n",
       "  <thead>\n",
       "    <tr style=\"text-align: right;\">\n",
       "      <th></th>\n",
       "      <th>to_messages</th>\n",
       "      <th>deferral_payments</th>\n",
       "      <th>total_payments</th>\n",
       "      <th>exercised_stock_options</th>\n",
       "      <th>bonus</th>\n",
       "      <th>restricted_stock</th>\n",
       "      <th>shared_receipt_with_poi</th>\n",
       "      <th>restricted_stock_deferred</th>\n",
       "      <th>total_stock_value</th>\n",
       "      <th>expenses</th>\n",
       "      <th>loan_advances</th>\n",
       "      <th>from_messages</th>\n",
       "      <th>other</th>\n",
       "      <th>from_this_person_to_poi</th>\n",
       "      <th>salary</th>\n",
       "      <th>director_fees</th>\n",
       "      <th>deferred_income</th>\n",
       "      <th>long_term_incentive</th>\n",
       "      <th>from_poi_to_this_person</th>\n",
       "    </tr>\n",
       "  </thead>\n",
       "  <tbody>\n",
       "    <tr>\n",
       "      <th>count</th>\n",
       "      <td>59.000000</td>\n",
       "      <td>29.000000</td>\n",
       "      <td>8.300000e+01</td>\n",
       "      <td>71.000000</td>\n",
       "      <td>53.000000</td>\n",
       "      <td>74.000000</td>\n",
       "      <td>59.000000</td>\n",
       "      <td>14.000000</td>\n",
       "      <td>87.000000</td>\n",
       "      <td>65.000000</td>\n",
       "      <td>2.00000</td>\n",
       "      <td>59.000000</td>\n",
       "      <td>61.000000</td>\n",
       "      <td>46.000000</td>\n",
       "      <td>62.000000</td>\n",
       "      <td>11.000000</td>\n",
       "      <td>29.000000</td>\n",
       "      <td>42.000000</td>\n",
       "      <td>51.000000</td>\n",
       "    </tr>\n",
       "    <tr>\n",
       "      <th>mean</th>\n",
       "      <td>2353.440678</td>\n",
       "      <td>880166.620690</td>\n",
       "      <td>3.226501e+06</td>\n",
       "      <td>3206062.056338</td>\n",
       "      <td>1338181.490566</td>\n",
       "      <td>1359581.418919</td>\n",
       "      <td>1276.593220</td>\n",
       "      <td>916403.357143</td>\n",
       "      <td>3741624.333333</td>\n",
       "      <td>58576.107692</td>\n",
       "      <td>41762500.00000</td>\n",
       "      <td>743.288136</td>\n",
       "      <td>577547.573770</td>\n",
       "      <td>59.608696</td>\n",
       "      <td>292394.161290</td>\n",
       "      <td>87226.909091</td>\n",
       "      <td>-627865.482759</td>\n",
       "      <td>774432.428571</td>\n",
       "      <td>75.862745</td>\n",
       "    </tr>\n",
       "    <tr>\n",
       "      <th>std</th>\n",
       "      <td>2873.577809</td>\n",
       "      <td>1414923.171305</td>\n",
       "      <td>1.150331e+07</td>\n",
       "      <td>6328021.679007</td>\n",
       "      <td>1435439.387902</td>\n",
       "      <td>2670741.220860</td>\n",
       "      <td>1226.609542</td>\n",
       "      <td>4188848.353305</td>\n",
       "      <td>7575367.471827</td>\n",
       "      <td>45307.081611</td>\n",
       "      <td>56232666.77386</td>\n",
       "      <td>2172.736222</td>\n",
       "      <td>1671928.021147</td>\n",
       "      <td>120.258699</td>\n",
       "      <td>203931.727353</td>\n",
       "      <td>45791.423097</td>\n",
       "      <td>1070618.751300</td>\n",
       "      <td>966995.700173</td>\n",
       "      <td>75.111389</td>\n",
       "    </tr>\n",
       "    <tr>\n",
       "      <th>min</th>\n",
       "      <td>57.000000</td>\n",
       "      <td>-102500.000000</td>\n",
       "      <td>4.750000e+02</td>\n",
       "      <td>3285.000000</td>\n",
       "      <td>100000.000000</td>\n",
       "      <td>-2604490.000000</td>\n",
       "      <td>2.000000</td>\n",
       "      <td>-560222.000000</td>\n",
       "      <td>-44093.000000</td>\n",
       "      <td>475.000000</td>\n",
       "      <td>2000000.00000</td>\n",
       "      <td>12.000000</td>\n",
       "      <td>2.000000</td>\n",
       "      <td>1.000000</td>\n",
       "      <td>477.000000</td>\n",
       "      <td>3285.000000</td>\n",
       "      <td>-3504386.000000</td>\n",
       "      <td>69223.000000</td>\n",
       "      <td>4.000000</td>\n",
       "    </tr>\n",
       "    <tr>\n",
       "      <th>25%</th>\n",
       "      <td>693.000000</td>\n",
       "      <td>93585.000000</td>\n",
       "      <td>5.964350e+05</td>\n",
       "      <td>519793.500000</td>\n",
       "      <td>509870.000000</td>\n",
       "      <td>209872.500000</td>\n",
       "      <td>464.000000</td>\n",
       "      <td>-313126.250000</td>\n",
       "      <td>502935.000000</td>\n",
       "      <td>28093.000000</td>\n",
       "      <td>21881250.00000</td>\n",
       "      <td>23.000000</td>\n",
       "      <td>1191.000000</td>\n",
       "      <td>5.000000</td>\n",
       "      <td>210966.000000</td>\n",
       "      <td>67725.000000</td>\n",
       "      <td>-400729.000000</td>\n",
       "      <td>304805.000000</td>\n",
       "      <td>25.000000</td>\n",
       "    </tr>\n",
       "    <tr>\n",
       "      <th>50%</th>\n",
       "      <td>1433.000000</td>\n",
       "      <td>214678.000000</td>\n",
       "      <td>1.130461e+06</td>\n",
       "      <td>1324578.000000</td>\n",
       "      <td>750000.000000</td>\n",
       "      <td>452178.500000</td>\n",
       "      <td>856.000000</td>\n",
       "      <td>-110291.500000</td>\n",
       "      <td>1110705.000000</td>\n",
       "      <td>50936.000000</td>\n",
       "      <td>41762500.00000</td>\n",
       "      <td>40.000000</td>\n",
       "      <td>22122.000000</td>\n",
       "      <td>14.500000</td>\n",
       "      <td>259647.500000</td>\n",
       "      <td>102492.000000</td>\n",
       "      <td>-121284.000000</td>\n",
       "      <td>442035.000000</td>\n",
       "      <td>42.000000</td>\n",
       "    </tr>\n",
       "    <tr>\n",
       "      <th>75%</th>\n",
       "      <td>2774.500000</td>\n",
       "      <td>875307.000000</td>\n",
       "      <td>2.097314e+06</td>\n",
       "      <td>2250521.500000</td>\n",
       "      <td>1350000.000000</td>\n",
       "      <td>1374893.500000</td>\n",
       "      <td>1972.000000</td>\n",
       "      <td>-51174.500000</td>\n",
       "      <td>2417231.000000</td>\n",
       "      <td>83585.000000</td>\n",
       "      <td>61643750.00000</td>\n",
       "      <td>218.000000</td>\n",
       "      <td>356071.000000</td>\n",
       "      <td>48.000000</td>\n",
       "      <td>314304.250000</td>\n",
       "      <td>114021.000000</td>\n",
       "      <td>-25000.000000</td>\n",
       "      <td>825943.250000</td>\n",
       "      <td>100.000000</td>\n",
       "    </tr>\n",
       "    <tr>\n",
       "      <th>max</th>\n",
       "      <td>15149.000000</td>\n",
       "      <td>6426990.000000</td>\n",
       "      <td>1.035598e+08</td>\n",
       "      <td>34348384.000000</td>\n",
       "      <td>7000000.000000</td>\n",
       "      <td>14761694.000000</td>\n",
       "      <td>5521.000000</td>\n",
       "      <td>15456290.000000</td>\n",
       "      <td>49110078.000000</td>\n",
       "      <td>228656.000000</td>\n",
       "      <td>81525000.00000</td>\n",
       "      <td>14368.000000</td>\n",
       "      <td>10359729.000000</td>\n",
       "      <td>609.000000</td>\n",
       "      <td>1111258.000000</td>\n",
       "      <td>137864.000000</td>\n",
       "      <td>-833.000000</td>\n",
       "      <td>5145434.000000</td>\n",
       "      <td>305.000000</td>\n",
       "    </tr>\n",
       "  </tbody>\n",
       "</table>\n",
       "</div>"
      ],
      "text/plain": [
       "        to_messages  deferral_payments  total_payments  \\\n",
       "count     59.000000          29.000000    8.300000e+01   \n",
       "mean    2353.440678      880166.620690    3.226501e+06   \n",
       "std     2873.577809     1414923.171305    1.150331e+07   \n",
       "min       57.000000     -102500.000000    4.750000e+02   \n",
       "25%      693.000000       93585.000000    5.964350e+05   \n",
       "50%     1433.000000      214678.000000    1.130461e+06   \n",
       "75%     2774.500000      875307.000000    2.097314e+06   \n",
       "max    15149.000000     6426990.000000    1.035598e+08   \n",
       "\n",
       "       exercised_stock_options           bonus  restricted_stock  \\\n",
       "count                71.000000       53.000000         74.000000   \n",
       "mean            3206062.056338  1338181.490566    1359581.418919   \n",
       "std             6328021.679007  1435439.387902    2670741.220860   \n",
       "min                3285.000000   100000.000000   -2604490.000000   \n",
       "25%              519793.500000   509870.000000     209872.500000   \n",
       "50%             1324578.000000   750000.000000     452178.500000   \n",
       "75%             2250521.500000  1350000.000000    1374893.500000   \n",
       "max            34348384.000000  7000000.000000   14761694.000000   \n",
       "\n",
       "       shared_receipt_with_poi  restricted_stock_deferred  total_stock_value  \\\n",
       "count                59.000000                  14.000000          87.000000   \n",
       "mean               1276.593220              916403.357143     3741624.333333   \n",
       "std                1226.609542             4188848.353305     7575367.471827   \n",
       "min                   2.000000             -560222.000000      -44093.000000   \n",
       "25%                 464.000000             -313126.250000      502935.000000   \n",
       "50%                 856.000000             -110291.500000     1110705.000000   \n",
       "75%                1972.000000              -51174.500000     2417231.000000   \n",
       "max                5521.000000            15456290.000000    49110078.000000   \n",
       "\n",
       "            expenses   loan_advances  from_messages            other  \\\n",
       "count      65.000000         2.00000      59.000000        61.000000   \n",
       "mean    58576.107692  41762500.00000     743.288136    577547.573770   \n",
       "std     45307.081611  56232666.77386    2172.736222   1671928.021147   \n",
       "min       475.000000   2000000.00000      12.000000         2.000000   \n",
       "25%     28093.000000  21881250.00000      23.000000      1191.000000   \n",
       "50%     50936.000000  41762500.00000      40.000000     22122.000000   \n",
       "75%     83585.000000  61643750.00000     218.000000    356071.000000   \n",
       "max    228656.000000  81525000.00000   14368.000000  10359729.000000   \n",
       "\n",
       "       from_this_person_to_poi          salary  director_fees  \\\n",
       "count                46.000000       62.000000      11.000000   \n",
       "mean                 59.608696   292394.161290   87226.909091   \n",
       "std                 120.258699   203931.727353   45791.423097   \n",
       "min                   1.000000      477.000000    3285.000000   \n",
       "25%                   5.000000   210966.000000   67725.000000   \n",
       "50%                  14.500000   259647.500000  102492.000000   \n",
       "75%                  48.000000   314304.250000  114021.000000   \n",
       "max                 609.000000  1111258.000000  137864.000000   \n",
       "\n",
       "       deferred_income  long_term_incentive  from_poi_to_this_person  \n",
       "count        29.000000            42.000000                51.000000  \n",
       "mean    -627865.482759        774432.428571                75.862745  \n",
       "std     1070618.751300        966995.700173                75.111389  \n",
       "min    -3504386.000000         69223.000000                 4.000000  \n",
       "25%     -400729.000000        304805.000000                25.000000  \n",
       "50%     -121284.000000        442035.000000                42.000000  \n",
       "75%      -25000.000000        825943.250000               100.000000  \n",
       "max        -833.000000       5145434.000000               305.000000  "
      ]
     },
     "execution_count": 9,
     "metadata": {},
     "output_type": "execute_result"
    }
   ],
   "source": [
    "features_train.describe() # train: 101 data points; test: 44 data points"
   ]
  },
  {
   "cell_type": "code",
   "execution_count": 10,
   "metadata": {
    "collapsed": true
   },
   "outputs": [],
   "source": [
    "df_nan = features_train.isnull()\n",
    "row_nan = df_nan.sum(axis=1) # count NaNs for each person/index * max value: df_nan.shape[1] = 20\n",
    "col_nan = df_nan.sum(axis=0) # count NaNs for each column/feature * max value: df_nan.shape[0] = 101"
   ]
  },
  {
   "cell_type": "markdown",
   "metadata": {},
   "source": [
    "* Investigate missing data distribution on rows/person"
   ]
  },
  {
   "cell_type": "code",
   "execution_count": 11,
   "metadata": {
    "collapsed": false
   },
   "outputs": [
    {
     "data": {
      "text/plain": [
       "count    101.000000\n",
       "mean       9.772277\n",
       "std        4.610599\n",
       "min        2.000000\n",
       "25%        5.000000\n",
       "50%       10.000000\n",
       "75%       13.000000\n",
       "max       20.000000\n",
       "dtype: float64"
      ]
     },
     "execution_count": 11,
     "metadata": {},
     "output_type": "execute_result"
    }
   ],
   "source": [
    "row_nan.describe()"
   ]
  },
  {
   "cell_type": "code",
   "execution_count": 12,
   "metadata": {
    "collapsed": false
   },
   "outputs": [
    {
     "data": {
      "image/png": "[encoded data removed]",
      "text/plain": [
       "<matplotlib.figure.Figure at 0x110dc4390>"
      ]
     },
     "metadata": {},
     "output_type": "display_data"
    }
   ],
   "source": [
    "plt.hist(row_nan.values, bins=20) # bins = df_nan.shape[1] -> number of columns/features\n",
    "plt.show()"
   ]
  },
  {
   "cell_type": "code",
   "execution_count": 13,
   "metadata": {
    "collapsed": false
   },
   "outputs": [
    {
     "name": "stdout",
     "output_type": "stream",
     "text": [
      "GRAMM WENDY L        18\n",
      "LOCKHART EUGENE E    20\n",
      "WHALEY DAVID A       18\n",
      "WROBEL BRUCE         18\n",
      "dtype: int64\n"
     ]
    }
   ],
   "source": [
    "# Extract the data points with more than 17 missing attributes/features\n",
    "ind17 = row_nan.index[row_nan.values>17]\n",
    "print row_nan.loc[ind17]\n",
    "ind20 = row_nan.index[row_nan.values==20]"
   ]
  },
  {
   "cell_type": "markdown",
   "metadata": {},
   "source": [
    "Almost all samples/data points have certain amount of missing values. Small portion of the sample points have missing values on 18 or larger features. One data point has missing values on all features. It is safe to exclude this data point from dataset (labels_train[ind20] shows that this person is also not a POI)."
   ]
  },
  {
   "cell_type": "markdown",
   "metadata": {},
   "source": [
    "**Remove Outlier - a data point with no available feature data - 'LOCKHART EUGENE E'**"
   ]
  },
  {
   "cell_type": "code",
   "execution_count": 14,
   "metadata": {
    "collapsed": false
   },
   "outputs": [
    {
     "name": "stderr",
     "output_type": "stream",
     "text": [
      "/Users/Zhongyu/anaconda/lib/python2.7/site-packages/ipykernel/__main__.py:1: SettingWithCopyWarning: \n",
      "A value is trying to be set on a copy of a slice from a DataFrame\n",
      "\n",
      "See the the caveats in the documentation: http://pandas.pydata.org/pandas-docs/stable/indexing.html#indexing-view-versus-copy\n",
      "  if __name__ == '__main__':\n"
     ]
    }
   ],
   "source": [
    "features_train.drop(ind20[0], inplace=True)\n",
    "labels_train.drop(ind20[0], inplace=True)"
   ]
  },
  {
   "cell_type": "markdown",
   "metadata": {},
   "source": [
    "* Investigate missing data distributions on columns/features"
   ]
  },
  {
   "cell_type": "code",
   "execution_count": 15,
   "metadata": {
    "collapsed": false
   },
   "outputs": [
    {
     "data": {
      "text/plain": [
       "count    20.000000\n",
       "mean     49.350000\n",
       "std      23.976469\n",
       "min      14.000000\n",
       "25%      34.500000\n",
       "50%      42.000000\n",
       "75%      62.250000\n",
       "max      99.000000\n",
       "dtype: float64"
      ]
     },
     "execution_count": 15,
     "metadata": {},
     "output_type": "execute_result"
    }
   ],
   "source": [
    "col_nan.describe()"
   ]
  },
  {
   "cell_type": "code",
   "execution_count": 16,
   "metadata": {
    "collapsed": false
   },
   "outputs": [
    {
     "data": {
      "image/png": "[encoded data removed]",
      "text/plain": [
       "<matplotlib.figure.Figure at 0x110f4ed90>"
      ]
     },
     "metadata": {},
     "output_type": "display_data"
    }
   ],
   "source": [
    "_,ax = plt.subplots()\n",
    "ind = np.array(range(0,len(col_nan.index)*5,5))\n",
    "width = 2.\n",
    "ax.bar(ind, col_nan.values/101., width)\n",
    "ax.set_xticks(ind)\n",
    "ax.set_xticklabels(col_nan.index, rotation='vertical')\n",
    "plt.show()"
   ]
  },
  {
   "cell_type": "code",
   "execution_count": 17,
   "metadata": {
    "collapsed": false
   },
   "outputs": [
    {
     "data": {
      "text/plain": [
       "total_stock_value            0.138614\n",
       "total_payments               0.178218\n",
       "email_address                0.247525\n",
       "restricted_stock             0.267327\n",
       "exercised_stock_options      0.297030\n",
       "expenses                     0.356436\n",
       "salary                       0.386139\n",
       "other                        0.396040\n",
       "shared_receipt_with_poi      0.415842\n",
       "from_messages                0.415842\n",
       "to_messages                  0.415842\n",
       "bonus                        0.475248\n",
       "from_poi_to_this_person      0.495050\n",
       "from_this_person_to_poi      0.544554\n",
       "long_term_incentive          0.584158\n",
       "deferral_payments            0.712871\n",
       "deferred_income              0.712871\n",
       "restricted_stock_deferred    0.861386\n",
       "director_fees                0.891089\n",
       "loan_advances                0.980198\n",
       "dtype: float64"
      ]
     },
     "execution_count": 17,
     "metadata": {},
     "output_type": "execute_result"
    }
   ],
   "source": [
    "col_nan_prc = col_nan/float(len(df_nan))\n",
    "col_nan_prc.order()"
   ]
  },
  {
   "cell_type": "markdown",
   "metadata": {},
   "source": [
    "All attributes have missing values. There are 5 attributes having missing values percentages higher than 60%. Discard these 5 attributes as features candidates.\n",
    "**Remove 5 attributes which have over 60% of missing data**"
   ]
  },
  {
   "cell_type": "code",
   "execution_count": 18,
   "metadata": {
    "collapsed": false
   },
   "outputs": [
    {
     "name": "stderr",
     "output_type": "stream",
     "text": [
      "/Users/Zhongyu/anaconda/lib/python2.7/site-packages/ipykernel/__main__.py:2: SettingWithCopyWarning: \n",
      "A value is trying to be set on a copy of a slice from a DataFrame\n",
      "\n",
      "See the the caveats in the documentation: http://pandas.pydata.org/pandas-docs/stable/indexing.html#indexing-view-versus-copy\n",
      "  from ipykernel import kernelapp as app\n",
      "/Users/Zhongyu/anaconda/lib/python2.7/site-packages/ipykernel/__main__.py:3: SettingWithCopyWarning: \n",
      "A value is trying to be set on a copy of a slice from a DataFrame\n",
      "\n",
      "See the the caveats in the documentation: http://pandas.pydata.org/pandas-docs/stable/indexing.html#indexing-view-versus-copy\n",
      "  app.launch_new_instance()\n"
     ]
    }
   ],
   "source": [
    "discard_cols = col_nan_prc.index[col_nan_prc.values>=0.6]\n",
    "features_train.drop(discard_cols, axis=1, inplace=True) # use axis to inform dropping index or column\n",
    "features_test.drop(discard_cols, axis=1, inplace=True)"
   ]
  },
  {
   "cell_type": "markdown",
   "metadata": {},
   "source": [
    "**Re-examine the data to do a sanity check**"
   ]
  },
  {
   "cell_type": "code",
   "execution_count": 19,
   "metadata": {
    "collapsed": false
   },
   "outputs": [
    {
     "data": {
      "text/html": [
       "<div>\n",
       "<table border=\"1\" class=\"dataframe\">\n",
       "  <thead>\n",
       "    <tr style=\"text-align: right;\">\n",
       "      <th></th>\n",
       "      <th>to_messages</th>\n",
       "      <th>total_payments</th>\n",
       "      <th>exercised_stock_options</th>\n",
       "      <th>bonus</th>\n",
       "      <th>restricted_stock</th>\n",
       "      <th>shared_receipt_with_poi</th>\n",
       "      <th>total_stock_value</th>\n",
       "      <th>expenses</th>\n",
       "      <th>from_messages</th>\n",
       "      <th>other</th>\n",
       "      <th>from_this_person_to_poi</th>\n",
       "      <th>salary</th>\n",
       "      <th>long_term_incentive</th>\n",
       "      <th>from_poi_to_this_person</th>\n",
       "    </tr>\n",
       "  </thead>\n",
       "  <tbody>\n",
       "    <tr>\n",
       "      <th>count</th>\n",
       "      <td>59.000000</td>\n",
       "      <td>8.300000e+01</td>\n",
       "      <td>71.000000</td>\n",
       "      <td>53.000000</td>\n",
       "      <td>74.000000</td>\n",
       "      <td>59.000000</td>\n",
       "      <td>87.000000</td>\n",
       "      <td>65.000000</td>\n",
       "      <td>59.000000</td>\n",
       "      <td>61.000000</td>\n",
       "      <td>46.000000</td>\n",
       "      <td>62.000000</td>\n",
       "      <td>42.000000</td>\n",
       "      <td>51.000000</td>\n",
       "    </tr>\n",
       "    <tr>\n",
       "      <th>mean</th>\n",
       "      <td>2353.440678</td>\n",
       "      <td>3.226501e+06</td>\n",
       "      <td>3206062.056338</td>\n",
       "      <td>1338181.490566</td>\n",
       "      <td>1359581.418919</td>\n",
       "      <td>1276.593220</td>\n",
       "      <td>3741624.333333</td>\n",
       "      <td>58576.107692</td>\n",
       "      <td>743.288136</td>\n",
       "      <td>577547.573770</td>\n",
       "      <td>59.608696</td>\n",
       "      <td>292394.161290</td>\n",
       "      <td>774432.428571</td>\n",
       "      <td>75.862745</td>\n",
       "    </tr>\n",
       "    <tr>\n",
       "      <th>std</th>\n",
       "      <td>2873.577809</td>\n",
       "      <td>1.150331e+07</td>\n",
       "      <td>6328021.679007</td>\n",
       "      <td>1435439.387902</td>\n",
       "      <td>2670741.220860</td>\n",
       "      <td>1226.609542</td>\n",
       "      <td>7575367.471827</td>\n",
       "      <td>45307.081611</td>\n",
       "      <td>2172.736222</td>\n",
       "      <td>1671928.021147</td>\n",
       "      <td>120.258699</td>\n",
       "      <td>203931.727353</td>\n",
       "      <td>966995.700173</td>\n",
       "      <td>75.111389</td>\n",
       "    </tr>\n",
       "    <tr>\n",
       "      <th>min</th>\n",
       "      <td>57.000000</td>\n",
       "      <td>4.750000e+02</td>\n",
       "      <td>3285.000000</td>\n",
       "      <td>100000.000000</td>\n",
       "      <td>-2604490.000000</td>\n",
       "      <td>2.000000</td>\n",
       "      <td>-44093.000000</td>\n",
       "      <td>475.000000</td>\n",
       "      <td>12.000000</td>\n",
       "      <td>2.000000</td>\n",
       "      <td>1.000000</td>\n",
       "      <td>477.000000</td>\n",
       "      <td>69223.000000</td>\n",
       "      <td>4.000000</td>\n",
       "    </tr>\n",
       "    <tr>\n",
       "      <th>25%</th>\n",
       "      <td>693.000000</td>\n",
       "      <td>5.964350e+05</td>\n",
       "      <td>519793.500000</td>\n",
       "      <td>509870.000000</td>\n",
       "      <td>209872.500000</td>\n",
       "      <td>464.000000</td>\n",
       "      <td>502935.000000</td>\n",
       "      <td>28093.000000</td>\n",
       "      <td>23.000000</td>\n",
       "      <td>1191.000000</td>\n",
       "      <td>5.000000</td>\n",
       "      <td>210966.000000</td>\n",
       "      <td>304805.000000</td>\n",
       "      <td>25.000000</td>\n",
       "    </tr>\n",
       "    <tr>\n",
       "      <th>50%</th>\n",
       "      <td>1433.000000</td>\n",
       "      <td>1.130461e+06</td>\n",
       "      <td>1324578.000000</td>\n",
       "      <td>750000.000000</td>\n",
       "      <td>452178.500000</td>\n",
       "      <td>856.000000</td>\n",
       "      <td>1110705.000000</td>\n",
       "      <td>50936.000000</td>\n",
       "      <td>40.000000</td>\n",
       "      <td>22122.000000</td>\n",
       "      <td>14.500000</td>\n",
       "      <td>259647.500000</td>\n",
       "      <td>442035.000000</td>\n",
       "      <td>42.000000</td>\n",
       "    </tr>\n",
       "    <tr>\n",
       "      <th>75%</th>\n",
       "      <td>2774.500000</td>\n",
       "      <td>2.097314e+06</td>\n",
       "      <td>2250521.500000</td>\n",
       "      <td>1350000.000000</td>\n",
       "      <td>1374893.500000</td>\n",
       "      <td>1972.000000</td>\n",
       "      <td>2417231.000000</td>\n",
       "      <td>83585.000000</td>\n",
       "      <td>218.000000</td>\n",
       "      <td>356071.000000</td>\n",
       "      <td>48.000000</td>\n",
       "      <td>314304.250000</td>\n",
       "      <td>825943.250000</td>\n",
       "      <td>100.000000</td>\n",
       "    </tr>\n",
       "    <tr>\n",
       "      <th>max</th>\n",
       "      <td>15149.000000</td>\n",
       "      <td>1.035598e+08</td>\n",
       "      <td>34348384.000000</td>\n",
       "      <td>7000000.000000</td>\n",
       "      <td>14761694.000000</td>\n",
       "      <td>5521.000000</td>\n",
       "      <td>49110078.000000</td>\n",
       "      <td>228656.000000</td>\n",
       "      <td>14368.000000</td>\n",
       "      <td>10359729.000000</td>\n",
       "      <td>609.000000</td>\n",
       "      <td>1111258.000000</td>\n",
       "      <td>5145434.000000</td>\n",
       "      <td>305.000000</td>\n",
       "    </tr>\n",
       "  </tbody>\n",
       "</table>\n",
       "</div>"
      ],
      "text/plain": [
       "        to_messages  total_payments  exercised_stock_options           bonus  \\\n",
       "count     59.000000    8.300000e+01                71.000000       53.000000   \n",
       "mean    2353.440678    3.226501e+06           3206062.056338  1338181.490566   \n",
       "std     2873.577809    1.150331e+07           6328021.679007  1435439.387902   \n",
       "min       57.000000    4.750000e+02              3285.000000   100000.000000   \n",
       "25%      693.000000    5.964350e+05            519793.500000   509870.000000   \n",
       "50%     1433.000000    1.130461e+06           1324578.000000   750000.000000   \n",
       "75%     2774.500000    2.097314e+06           2250521.500000  1350000.000000   \n",
       "max    15149.000000    1.035598e+08          34348384.000000  7000000.000000   \n",
       "\n",
       "       restricted_stock  shared_receipt_with_poi  total_stock_value  \\\n",
       "count         74.000000                59.000000          87.000000   \n",
       "mean     1359581.418919              1276.593220     3741624.333333   \n",
       "std      2670741.220860              1226.609542     7575367.471827   \n",
       "min     -2604490.000000                 2.000000      -44093.000000   \n",
       "25%       209872.500000               464.000000      502935.000000   \n",
       "50%       452178.500000               856.000000     1110705.000000   \n",
       "75%      1374893.500000              1972.000000     2417231.000000   \n",
       "max     14761694.000000              5521.000000    49110078.000000   \n",
       "\n",
       "            expenses  from_messages            other  from_this_person_to_poi  \\\n",
       "count      65.000000      59.000000        61.000000                46.000000   \n",
       "mean    58576.107692     743.288136    577547.573770                59.608696   \n",
       "std     45307.081611    2172.736222   1671928.021147               120.258699   \n",
       "min       475.000000      12.000000         2.000000                 1.000000   \n",
       "25%     28093.000000      23.000000      1191.000000                 5.000000   \n",
       "50%     50936.000000      40.000000     22122.000000                14.500000   \n",
       "75%     83585.000000     218.000000    356071.000000                48.000000   \n",
       "max    228656.000000   14368.000000  10359729.000000               609.000000   \n",
       "\n",
       "               salary  long_term_incentive  from_poi_to_this_person  \n",
       "count       62.000000            42.000000                51.000000  \n",
       "mean    292394.161290        774432.428571                75.862745  \n",
       "std     203931.727353        966995.700173                75.111389  \n",
       "min        477.000000         69223.000000                 4.000000  \n",
       "25%     210966.000000        304805.000000                25.000000  \n",
       "50%     259647.500000        442035.000000                42.000000  \n",
       "75%     314304.250000        825943.250000               100.000000  \n",
       "max    1111258.000000       5145434.000000               305.000000  "
      ]
     },
     "execution_count": 19,
     "metadata": {},
     "output_type": "execute_result"
    }
   ],
   "source": [
    "features_train.describe()"
   ]
  },
  {
   "cell_type": "markdown",
   "metadata": {},
   "source": [
    "Found that there are two attributes: **restricted_stock** and **total_stock_value** have negative minimum data."
   ]
  },
  {
   "cell_type": "code",
   "execution_count": 20,
   "metadata": {
    "collapsed": false
   },
   "outputs": [
    {
     "name": "stdout",
     "output_type": "stream",
     "text": [
      "count how many data samples have negative restricted_stock:  1\n",
      "count how many data samples have negative total stock value:  1\n"
     ]
    }
   ],
   "source": [
    "print \"count how many data samples have negative restricted_stock: \", (features_train['restricted_stock']<0).sum()\n",
    "print \"count how many data samples have negative total stock value: \", (features_train['total_stock_value']<0).sum()"
   ]
  },
  {
   "cell_type": "code",
   "execution_count": 21,
   "metadata": {
    "collapsed": false
   },
   "outputs": [
    {
     "name": "stdout",
     "output_type": "stream",
     "text": [
      "Index([u'BHATNAGAR SANJAY'], dtype='object') Index([u'BELFER ROBERT'], dtype='object')\n"
     ]
    }
   ],
   "source": [
    "neg_restricted_stock_index = features_train.index[features_train['restricted_stock']<0]\n",
    "neg_total_stock_value_index = features_train.index[features_train['total_stock_value']<0]\n",
    "print neg_restricted_stock_index, neg_total_stock_value_index"
   ]
  },
  {
   "cell_type": "code",
   "execution_count": 22,
   "metadata": {
    "collapsed": false
   },
   "outputs": [
    {
     "data": {
      "text/html": [
       "<div>\n",
       "<table border=\"1\" class=\"dataframe\">\n",
       "  <thead>\n",
       "    <tr style=\"text-align: right;\">\n",
       "      <th></th>\n",
       "      <th>to_messages</th>\n",
       "      <th>total_payments</th>\n",
       "      <th>exercised_stock_options</th>\n",
       "      <th>bonus</th>\n",
       "      <th>restricted_stock</th>\n",
       "      <th>shared_receipt_with_poi</th>\n",
       "      <th>total_stock_value</th>\n",
       "      <th>expenses</th>\n",
       "      <th>from_messages</th>\n",
       "      <th>other</th>\n",
       "      <th>from_this_person_to_poi</th>\n",
       "      <th>salary</th>\n",
       "      <th>long_term_incentive</th>\n",
       "      <th>from_poi_to_this_person</th>\n",
       "      <th>email_address</th>\n",
       "    </tr>\n",
       "  </thead>\n",
       "  <tbody>\n",
       "    <tr>\n",
       "      <th>BHATNAGAR SANJAY</th>\n",
       "      <td>523</td>\n",
       "      <td>15456290</td>\n",
       "      <td>2604490</td>\n",
       "      <td>NaN</td>\n",
       "      <td>-2604490</td>\n",
       "      <td>463</td>\n",
       "      <td>NaN</td>\n",
       "      <td>NaN</td>\n",
       "      <td>29</td>\n",
       "      <td>137864</td>\n",
       "      <td>1</td>\n",
       "      <td>NaN</td>\n",
       "      <td>NaN</td>\n",
       "      <td>NaN</td>\n",
       "      <td>sanjay.bhatnagar@enron.com</td>\n",
       "    </tr>\n",
       "  </tbody>\n",
       "</table>\n",
       "</div>"
      ],
      "text/plain": [
       "                  to_messages  total_payments  exercised_stock_options  bonus  \\\n",
       "BHATNAGAR SANJAY          523        15456290                  2604490    NaN   \n",
       "\n",
       "                  restricted_stock  shared_receipt_with_poi  \\\n",
       "BHATNAGAR SANJAY          -2604490                      463   \n",
       "\n",
       "                  total_stock_value  expenses  from_messages   other  \\\n",
       "BHATNAGAR SANJAY                NaN       NaN             29  137864   \n",
       "\n",
       "                  from_this_person_to_poi  salary  long_term_incentive  \\\n",
       "BHATNAGAR SANJAY                        1     NaN                  NaN   \n",
       "\n",
       "                  from_poi_to_this_person               email_address  \n",
       "BHATNAGAR SANJAY                      NaN  sanjay.bhatnagar@enron.com  "
      ]
     },
     "execution_count": 22,
     "metadata": {},
     "output_type": "execute_result"
    }
   ],
   "source": [
    "features_train.loc[neg_restricted_stock_index]"
   ]
  },
  {
   "cell_type": "code",
   "execution_count": 23,
   "metadata": {
    "collapsed": false
   },
   "outputs": [
    {
     "data": {
      "text/plain": [
       "BHATNAGAR SANJAY    0\n",
       "dtype: float64"
      ]
     },
     "execution_count": 23,
     "metadata": {},
     "output_type": "execute_result"
    }
   ],
   "source": [
    "labels_train.loc[neg_restricted_stock_index]"
   ]
  },
  {
   "cell_type": "code",
   "execution_count": 24,
   "metadata": {
    "collapsed": false
   },
   "outputs": [
    {
     "data": {
      "text/html": [
       "<div>\n",
       "<table border=\"1\" class=\"dataframe\">\n",
       "  <thead>\n",
       "    <tr style=\"text-align: right;\">\n",
       "      <th></th>\n",
       "      <th>to_messages</th>\n",
       "      <th>total_payments</th>\n",
       "      <th>exercised_stock_options</th>\n",
       "      <th>bonus</th>\n",
       "      <th>restricted_stock</th>\n",
       "      <th>shared_receipt_with_poi</th>\n",
       "      <th>total_stock_value</th>\n",
       "      <th>expenses</th>\n",
       "      <th>from_messages</th>\n",
       "      <th>other</th>\n",
       "      <th>from_this_person_to_poi</th>\n",
       "      <th>salary</th>\n",
       "      <th>long_term_incentive</th>\n",
       "      <th>from_poi_to_this_person</th>\n",
       "      <th>email_address</th>\n",
       "    </tr>\n",
       "  </thead>\n",
       "  <tbody>\n",
       "    <tr>\n",
       "      <th>BELFER ROBERT</th>\n",
       "      <td>NaN</td>\n",
       "      <td>102500</td>\n",
       "      <td>3285</td>\n",
       "      <td>NaN</td>\n",
       "      <td>NaN</td>\n",
       "      <td>NaN</td>\n",
       "      <td>-44093</td>\n",
       "      <td>NaN</td>\n",
       "      <td>NaN</td>\n",
       "      <td>NaN</td>\n",
       "      <td>NaN</td>\n",
       "      <td>NaN</td>\n",
       "      <td>NaN</td>\n",
       "      <td>NaN</td>\n",
       "      <td>NaN</td>\n",
       "    </tr>\n",
       "  </tbody>\n",
       "</table>\n",
       "</div>"
      ],
      "text/plain": [
       "               to_messages  total_payments  exercised_stock_options  bonus  \\\n",
       "BELFER ROBERT          NaN          102500                     3285    NaN   \n",
       "\n",
       "               restricted_stock  shared_receipt_with_poi  total_stock_value  \\\n",
       "BELFER ROBERT               NaN                      NaN             -44093   \n",
       "\n",
       "               expenses  from_messages  other  from_this_person_to_poi  \\\n",
       "BELFER ROBERT       NaN            NaN    NaN                      NaN   \n",
       "\n",
       "               salary  long_term_incentive  from_poi_to_this_person  \\\n",
       "BELFER ROBERT     NaN                  NaN                      NaN   \n",
       "\n",
       "              email_address  \n",
       "BELFER ROBERT           NaN  "
      ]
     },
     "execution_count": 24,
     "metadata": {},
     "output_type": "execute_result"
    }
   ],
   "source": [
    "features_train.loc[neg_total_stock_value_index]"
   ]
  },
  {
   "cell_type": "code",
   "execution_count": 25,
   "metadata": {
    "collapsed": false
   },
   "outputs": [
    {
     "data": {
      "text/plain": [
       "BELFER ROBERT    0\n",
       "dtype: float64"
      ]
     },
     "execution_count": 25,
     "metadata": {},
     "output_type": "execute_result"
    }
   ],
   "source": [
    "labels_train.loc[neg_total_stock_value_index]"
   ]
  },
  {
   "cell_type": "markdown",
   "metadata": {},
   "source": [
    "After examining the data samples with negative values in **restricted_stock** and **total_stock_value**, there are no abnomalities in other attributes. Since the negative values do not make real sense/do not pass sanity check, discard the two data values and **replace them with NaN**."
   ]
  },
  {
   "cell_type": "code",
   "execution_count": 26,
   "metadata": {
    "collapsed": false
   },
   "outputs": [
    {
     "name": "stderr",
     "output_type": "stream",
     "text": [
      "/Users/Zhongyu/anaconda/lib/python2.7/site-packages/pandas/core/indexing.py:115: SettingWithCopyWarning: \n",
      "A value is trying to be set on a copy of a slice from a DataFrame\n",
      "\n",
      "See the the caveats in the documentation: http://pandas.pydata.org/pandas-docs/stable/indexing.html#indexing-view-versus-copy\n",
      "  self._setitem_with_indexer(indexer, value)\n",
      "/Users/Zhongyu/anaconda/lib/python2.7/site-packages/ipykernel/__main__.py:1: SettingWithCopyWarning: \n",
      "A value is trying to be set on a copy of a slice from a DataFrame\n",
      "\n",
      "See the the caveats in the documentation: http://pandas.pydata.org/pandas-docs/stable/indexing.html#indexing-view-versus-copy\n",
      "  if __name__ == '__main__':\n",
      "/Users/Zhongyu/anaconda/lib/python2.7/site-packages/ipykernel/__main__.py:2: SettingWithCopyWarning: \n",
      "A value is trying to be set on a copy of a slice from a DataFrame\n",
      "\n",
      "See the the caveats in the documentation: http://pandas.pydata.org/pandas-docs/stable/indexing.html#indexing-view-versus-copy\n",
      "  from ipykernel import kernelapp as app\n"
     ]
    }
   ],
   "source": [
    "features_train['restricted_stock'].loc[neg_restricted_stock_index] = np.nan\n",
    "features_train['total_stock_value'].loc[neg_total_stock_value_index] = np.nan"
   ]
  },
  {
   "cell_type": "markdown",
   "metadata": {},
   "source": [
    "**Bivariant Data Analysis - One Attribute vs. Target/Label Variable**"
   ]
  },
  {
   "cell_type": "code",
   "execution_count": 27,
   "metadata": {
    "collapsed": true
   },
   "outputs": [],
   "source": [
    "def normalizer(col):\n",
    "    avg = col.mean()\n",
    "    mx  = col.max()\n",
    "    mn  = col.min()\n",
    "    std = col.std()\n",
    "    return (col-mn)/(mx-mn)#(col-avg)/std"
   ]
  },
  {
   "cell_type": "code",
   "execution_count": 28,
   "metadata": {
    "collapsed": false
   },
   "outputs": [],
   "source": [
    "# Define two functions for exploring relationship between each attribute and outcome variable\n",
    "def exp_boxplot_ggplot_series(feature, target):\n",
    "    df = pd.DataFrame(feature)\n",
    "    #df = df.apply(normalizer)\n",
    "    y_label = df.columns[0]\n",
    "    df['POI'] = target\n",
    "    df.dropna(inplace=True)\n",
    "    #rng = [-0.5, -0.4, -0.3, -0.2, -0.1, 0.0, 0.1, 0.2, 0.3, 0.4, 0.5] -> experiment purpose\n",
    "    p = ggplot(df, aes(x='POI', y=y_label)) + geom_boxplot() # + scale_y_continuous(limits=(-0.5, 0.5), breaks=rng)\n",
    "    return p\n",
    "\n",
    "def exp_boxplot_ggplot_df(features, target, normalizer=None, yrange=None):\n",
    "    df = features.copy()\n",
    "    if normalizer:\n",
    "        df = df.apply(normalizer)\n",
    "    df['POI'] = target\n",
    "    df_lng = pd.melt(df, id_vars = 'POI')\n",
    "    p = ggplot(aes(x='POI', y='value'), data=df_lng) + geom_boxplot()\n",
    "    p += facet_wrap(\"variable\")\n",
    "    if yrange:\n",
    "        ymin = min(yrange)\n",
    "        ymax = max(yrange)\n",
    "        p += ylim(ymin, ymax)\n",
    "    return p\n",
    "\n",
    "def exp_boxplot_matplt(features, target):\n",
    "    import pandas as pd\n",
    "    if isinstance(features, pd.Series):\n",
    "        boxplot_data = [features[(target==1).values].dropna().values,\n",
    "                        features[(target==0).values].dropna().values]\n",
    "        plt.boxplot(boxplot_data, labels= ['POI', 'non-POI'])\n",
    "        plt.show()\n",
    "        return\n",
    "    if isinstance(features, pd.DataFrame):\n",
    "        cols = features.columns\n",
    "        n = len(cols)\n",
    "        i = 1\n",
    "        for col in cols:\n",
    "            feature = features[col]\n",
    "            plt.subplot(1, n, i)\n",
    "            boxplot_data = [feature[(target==1).values].dropna().values,\n",
    "                        feature[(target==0).values].dropna().values]\n",
    "            plt.boxplot(boxplot_data, labels= ['POI', 'non-POI'])\n",
    "            plt.title(col)\n",
    "            i += 1\n",
    "        plt.show()\n",
    "        return"
   ]
  },
  {
   "cell_type": "code",
   "execution_count": 29,
   "metadata": {
    "collapsed": true
   },
   "outputs": [],
   "source": [
    "# Seperate features into two major categories\n",
    "financial_features = ['salary', 'total_payments', 'bonus', 'total_stock_value', 'expenses',\n",
    "                      'exercised_stock_options', 'other', 'long_term_incentive', 'restricted_stock']\n",
    "email_features = ['to_messages', 'from_poi_to_this_person', 'from_messages', \n",
    "                  'from_this_person_to_poi', 'shared_receipt_with_poi']"
   ]
  },
  {
   "cell_type": "markdown",
   "metadata": {},
   "source": [
    "* Explore financial attributes\n",
    "    * explore missing value statistics on financial_features\n",
    "        * make a deep copy of financial_features so that future operation would not impact original data frame\n",
    "        * attach label column into df_ff to make it easy for furture analysis\n",
    "        * explore missing value row wise, discard the data points with NaN on all financial features"
   ]
  },
  {
   "cell_type": "code",
   "execution_count": 30,
   "metadata": {
    "collapsed": false
   },
   "outputs": [
    {
     "name": "stdout",
     "output_type": "stream",
     "text": [
      "Index([u'POWERS WILLIAM'], dtype='object')\n"
     ]
    }
   ],
   "source": [
    "df_ff = features_train[financial_features].copy()\n",
    "df_ff['poi'] = labels_train\n",
    "df_ff_na = df_ff.isnull()\n",
    "df_ff_na_rows = df_ff_na.sum(axis=1)\n",
    "na9_ff_index = df_ff.index[df_ff_na_rows==len(financial_features)]\n",
    "na8_ff_index = df_ff.index[df_ff_na_rows==len(financial_features)-1]\n",
    "print na9_ff_index"
   ]
  },
  {
   "cell_type": "markdown",
   "metadata": {},
   "source": [
    "One data point has no available finanical features, therefore discard this row in df_ff to simplify exploring financial features. However, note that this sample can not be dropped in the original data frame since it might have valid email features. The data points with only 1 financial feature available are also printed out for references."
   ]
  },
  {
   "cell_type": "code",
   "execution_count": 31,
   "metadata": {
    "collapsed": false
   },
   "outputs": [
    {
     "data": {
      "text/html": [
       "<div>\n",
       "<table border=\"1\" class=\"dataframe\">\n",
       "  <thead>\n",
       "    <tr style=\"text-align: right;\">\n",
       "      <th></th>\n",
       "      <th>to_messages</th>\n",
       "      <th>total_payments</th>\n",
       "      <th>exercised_stock_options</th>\n",
       "      <th>bonus</th>\n",
       "      <th>restricted_stock</th>\n",
       "      <th>shared_receipt_with_poi</th>\n",
       "      <th>total_stock_value</th>\n",
       "      <th>expenses</th>\n",
       "      <th>from_messages</th>\n",
       "      <th>other</th>\n",
       "      <th>from_this_person_to_poi</th>\n",
       "      <th>salary</th>\n",
       "      <th>long_term_incentive</th>\n",
       "      <th>from_poi_to_this_person</th>\n",
       "      <th>email_address</th>\n",
       "    </tr>\n",
       "  </thead>\n",
       "  <tbody>\n",
       "    <tr>\n",
       "      <th>POWERS WILLIAM</th>\n",
       "      <td>653</td>\n",
       "      <td>NaN</td>\n",
       "      <td>NaN</td>\n",
       "      <td>NaN</td>\n",
       "      <td>NaN</td>\n",
       "      <td>12</td>\n",
       "      <td>NaN</td>\n",
       "      <td>NaN</td>\n",
       "      <td>26</td>\n",
       "      <td>NaN</td>\n",
       "      <td>NaN</td>\n",
       "      <td>NaN</td>\n",
       "      <td>NaN</td>\n",
       "      <td>NaN</td>\n",
       "      <td>ken.powers@enron.com</td>\n",
       "    </tr>\n",
       "  </tbody>\n",
       "</table>\n",
       "</div>"
      ],
      "text/plain": [
       "                to_messages  total_payments  exercised_stock_options  bonus  \\\n",
       "POWERS WILLIAM          653             NaN                      NaN    NaN   \n",
       "\n",
       "                restricted_stock  shared_receipt_with_poi  total_stock_value  \\\n",
       "POWERS WILLIAM               NaN                       12                NaN   \n",
       "\n",
       "                expenses  from_messages  other  from_this_person_to_poi  \\\n",
       "POWERS WILLIAM       NaN             26    NaN                      NaN   \n",
       "\n",
       "                salary  long_term_incentive  from_poi_to_this_person  \\\n",
       "POWERS WILLIAM     NaN                  NaN                      NaN   \n",
       "\n",
       "                       email_address  \n",
       "POWERS WILLIAM  ken.powers@enron.com  "
      ]
     },
     "execution_count": 31,
     "metadata": {},
     "output_type": "execute_result"
    }
   ],
   "source": [
    "features_train.loc[na9_ff_index]\n",
    "#print labels_train.loc[na9_ff_index]"
   ]
  },
  {
   "cell_type": "code",
   "execution_count": 32,
   "metadata": {
    "collapsed": false
   },
   "outputs": [
    {
     "data": {
      "text/plain": [
       "POWERS WILLIAM    0\n",
       "dtype: float64"
      ]
     },
     "execution_count": 32,
     "metadata": {},
     "output_type": "execute_result"
    }
   ],
   "source": [
    "labels_train.loc[na9_ff_index]"
   ]
  },
  {
   "cell_type": "code",
   "execution_count": 33,
   "metadata": {
    "collapsed": true
   },
   "outputs": [],
   "source": [
    "df_ff = df_ff.drop(na9_ff_index)"
   ]
  },
  {
   "cell_type": "code",
   "execution_count": 34,
   "metadata": {
    "collapsed": false
   },
   "outputs": [
    {
     "data": {
      "text/html": [
       "<div>\n",
       "<table border=\"1\" class=\"dataframe\">\n",
       "  <thead>\n",
       "    <tr style=\"text-align: right;\">\n",
       "      <th></th>\n",
       "      <th>salary</th>\n",
       "      <th>total_payments</th>\n",
       "      <th>bonus</th>\n",
       "      <th>total_stock_value</th>\n",
       "      <th>expenses</th>\n",
       "      <th>exercised_stock_options</th>\n",
       "      <th>other</th>\n",
       "      <th>long_term_incentive</th>\n",
       "      <th>restricted_stock</th>\n",
       "      <th>poi</th>\n",
       "    </tr>\n",
       "  </thead>\n",
       "  <tbody>\n",
       "    <tr>\n",
       "      <th>GRAMM WENDY L</th>\n",
       "      <td>NaN</td>\n",
       "      <td>119292</td>\n",
       "      <td>NaN</td>\n",
       "      <td>NaN</td>\n",
       "      <td>NaN</td>\n",
       "      <td>NaN</td>\n",
       "      <td>NaN</td>\n",
       "      <td>NaN</td>\n",
       "      <td>NaN</td>\n",
       "      <td>0</td>\n",
       "    </tr>\n",
       "    <tr>\n",
       "      <th>SAVAGE FRANK</th>\n",
       "      <td>NaN</td>\n",
       "      <td>3750</td>\n",
       "      <td>NaN</td>\n",
       "      <td>NaN</td>\n",
       "      <td>NaN</td>\n",
       "      <td>NaN</td>\n",
       "      <td>NaN</td>\n",
       "      <td>NaN</td>\n",
       "      <td>NaN</td>\n",
       "      <td>0</td>\n",
       "    </tr>\n",
       "    <tr>\n",
       "      <th>CHAN RONNIE</th>\n",
       "      <td>NaN</td>\n",
       "      <td>NaN</td>\n",
       "      <td>NaN</td>\n",
       "      <td>NaN</td>\n",
       "      <td>NaN</td>\n",
       "      <td>NaN</td>\n",
       "      <td>NaN</td>\n",
       "      <td>NaN</td>\n",
       "      <td>32460</td>\n",
       "      <td>0</td>\n",
       "    </tr>\n",
       "  </tbody>\n",
       "</table>\n",
       "</div>"
      ],
      "text/plain": [
       "               salary  total_payments  bonus  total_stock_value  expenses  \\\n",
       "GRAMM WENDY L     NaN          119292    NaN                NaN       NaN   \n",
       "SAVAGE FRANK      NaN            3750    NaN                NaN       NaN   \n",
       "CHAN RONNIE       NaN             NaN    NaN                NaN       NaN   \n",
       "\n",
       "               exercised_stock_options  other  long_term_incentive  \\\n",
       "GRAMM WENDY L                      NaN    NaN                  NaN   \n",
       "SAVAGE FRANK                       NaN    NaN                  NaN   \n",
       "CHAN RONNIE                        NaN    NaN                  NaN   \n",
       "\n",
       "               restricted_stock  poi  \n",
       "GRAMM WENDY L               NaN    0  \n",
       "SAVAGE FRANK                NaN    0  \n",
       "CHAN RONNIE               32460    0  "
      ]
     },
     "execution_count": 34,
     "metadata": {},
     "output_type": "execute_result"
    }
   ],
   "source": [
    "df_ff.loc[na8_ff_index]"
   ]
  },
  {
   "cell_type": "markdown",
   "metadata": {},
   "source": [
    "* Explore financial attributes\n",
    "    * feature selection based on bivariate analysis on financial attributes w.r.t. target variable"
   ]
  },
  {
   "cell_type": "code",
   "execution_count": 35,
   "metadata": {
    "collapsed": false,
    "scrolled": true
   },
   "outputs": [
    {
     "data": {
      "image/png": "[encoded data removed]",
      "text/plain": [
       "<matplotlib.figure.Figure at 0x11175c490>"
      ]
     },
     "metadata": {},
     "output_type": "display_data"
    },
    {
     "data": {
      "text/plain": [
       "<ggplot: (286743573)>"
      ]
     },
     "execution_count": 35,
     "metadata": {},
     "output_type": "execute_result"
    }
   ],
   "source": [
    "ff_ps = exp_boxplot_ggplot_df(df_ff.drop(['poi'], axis=1), df_ff['poi'], normalizer=normalizer, yrange=(.0, .6))\n",
    "ff_ps"
   ]
  },
  {
   "cell_type": "markdown",
   "metadata": {},
   "source": [
    "The boxplot illustrates that for most of the varibles, the distributions are left skewed: the value ranges of negative samples are narrow but higher density; longer tails on higher value ranges. Compare boxplots by categories, the distributions of **POI** and **non-POI** seperated by features **expenses**, **other**, **total_payments** seem to have little differences. Exclude them as feature candidates.\n",
    "* Explore financial attributes\n",
    "    * Explore colinearity within financial features"
   ]
  },
  {
   "cell_type": "code",
   "execution_count": 36,
   "metadata": {
    "collapsed": true
   },
   "outputs": [],
   "source": [
    "def calc_pearsonr(df_original):\n",
    "    df = df_original.copy()\n",
    "    df = df.apply(normalizer) #optional -> does not change linear statistics\n",
    "    columns = df.columns\n",
    "    n = len(columns)\n",
    "    colinear = {}\n",
    "    for colx in columns:\n",
    "        cols = ['_m', '_r', '_r2', '_p']\n",
    "        cols = [colx+s for s in cols]\n",
    "        index = []\n",
    "        vals = []\n",
    "        for coly in columns:\n",
    "            index.append(coly)\n",
    "            x = df[colx].copy()\n",
    "            y = df[coly].copy()\n",
    "            # extract the samples with no missing values in x and y\n",
    "            na_x = x.isnull()\n",
    "            na_y = y.isnull()\n",
    "            na_either = na_x | na_y \n",
    "            na_index = df.index[na_either]\n",
    "            x.drop(na_index, inplace=True)\n",
    "            y.drop(na_index, inplace=True)\n",
    "            m = len(x)\n",
    "            r, p = pearsonr(x, y)\n",
    "            vals.append([m, r, r**2, p])\n",
    "        df_temp = pd.DataFrame(vals, index=index, columns=cols)\n",
    "        colinear[colx] = (df_temp)\n",
    "    return colinear"
   ]
  },
  {
   "cell_type": "code",
   "execution_count": 37,
   "metadata": {
    "collapsed": false
   },
   "outputs": [],
   "source": [
    "colinear_stat = calc_pearsonr(df_ff.drop(['poi'], axis=1))"
   ]
  },
  {
   "cell_type": "code",
   "execution_count": 38,
   "metadata": {
    "collapsed": false
   },
   "outputs": [
    {
     "data": {
      "text/html": [
       "<div>\n",
       "<table border=\"1\" class=\"dataframe\">\n",
       "  <thead>\n",
       "    <tr style=\"text-align: right;\">\n",
       "      <th></th>\n",
       "      <th>expenses_m</th>\n",
       "      <th>expenses_r</th>\n",
       "      <th>expenses_r2</th>\n",
       "      <th>expenses_p</th>\n",
       "    </tr>\n",
       "  </thead>\n",
       "  <tbody>\n",
       "    <tr>\n",
       "      <th>salary</th>\n",
       "      <td>56</td>\n",
       "      <td>0.132775</td>\n",
       "      <td>0.017629</td>\n",
       "      <td>0.329306</td>\n",
       "    </tr>\n",
       "    <tr>\n",
       "      <th>total_payments</th>\n",
       "      <td>65</td>\n",
       "      <td>0.109747</td>\n",
       "      <td>0.012044</td>\n",
       "      <td>0.384153</td>\n",
       "    </tr>\n",
       "    <tr>\n",
       "      <th>bonus</th>\n",
       "      <td>49</td>\n",
       "      <td>-0.017618</td>\n",
       "      <td>0.000310</td>\n",
       "      <td>0.904364</td>\n",
       "    </tr>\n",
       "    <tr>\n",
       "      <th>total_stock_value</th>\n",
       "      <td>60</td>\n",
       "      <td>0.046740</td>\n",
       "      <td>0.002185</td>\n",
       "      <td>0.722871</td>\n",
       "    </tr>\n",
       "    <tr>\n",
       "      <th>expenses</th>\n",
       "      <td>65</td>\n",
       "      <td>1.000000</td>\n",
       "      <td>1.000000</td>\n",
       "      <td>0.000000</td>\n",
       "    </tr>\n",
       "    <tr>\n",
       "      <th>exercised_stock_options</th>\n",
       "      <td>46</td>\n",
       "      <td>0.058066</td>\n",
       "      <td>0.003372</td>\n",
       "      <td>0.701493</td>\n",
       "    </tr>\n",
       "    <tr>\n",
       "      <th>other</th>\n",
       "      <td>54</td>\n",
       "      <td>0.069138</td>\n",
       "      <td>0.004780</td>\n",
       "      <td>0.619354</td>\n",
       "    </tr>\n",
       "    <tr>\n",
       "      <th>long_term_incentive</th>\n",
       "      <td>36</td>\n",
       "      <td>-0.150290</td>\n",
       "      <td>0.022587</td>\n",
       "      <td>0.381628</td>\n",
       "    </tr>\n",
       "    <tr>\n",
       "      <th>restricted_stock</th>\n",
       "      <td>54</td>\n",
       "      <td>0.026078</td>\n",
       "      <td>0.000680</td>\n",
       "      <td>0.851521</td>\n",
       "    </tr>\n",
       "  </tbody>\n",
       "</table>\n",
       "</div>"
      ],
      "text/plain": [
       "                         expenses_m  expenses_r  expenses_r2  expenses_p\n",
       "salary                           56    0.132775     0.017629    0.329306\n",
       "total_payments                   65    0.109747     0.012044    0.384153\n",
       "bonus                            49   -0.017618     0.000310    0.904364\n",
       "total_stock_value                60    0.046740     0.002185    0.722871\n",
       "expenses                         65    1.000000     1.000000    0.000000\n",
       "exercised_stock_options          46    0.058066     0.003372    0.701493\n",
       "other                            54    0.069138     0.004780    0.619354\n",
       "long_term_incentive              36   -0.150290     0.022587    0.381628\n",
       "restricted_stock                 54    0.026078     0.000680    0.851521"
      ]
     },
     "execution_count": 38,
     "metadata": {},
     "output_type": "execute_result"
    }
   ],
   "source": [
    "colinear_stat['expenses']"
   ]
  },
  {
   "cell_type": "markdown",
   "metadata": {},
   "source": [
    "   * **expenses** is not statistically correlated with any features (big p-value). It is safely discard it as a feature candidate"
   ]
  },
  {
   "cell_type": "code",
   "execution_count": 39,
   "metadata": {
    "collapsed": false
   },
   "outputs": [
    {
     "data": {
      "text/html": [
       "<div>\n",
       "<table border=\"1\" class=\"dataframe\">\n",
       "  <thead>\n",
       "    <tr style=\"text-align: right;\">\n",
       "      <th></th>\n",
       "      <th>total_payments_m</th>\n",
       "      <th>total_payments_r</th>\n",
       "      <th>total_payments_r2</th>\n",
       "      <th>total_payments_p</th>\n",
       "    </tr>\n",
       "  </thead>\n",
       "  <tbody>\n",
       "    <tr>\n",
       "      <th>salary</th>\n",
       "      <td>62</td>\n",
       "      <td>0.609404</td>\n",
       "      <td>0.371374</td>\n",
       "      <td>1.468131e-07</td>\n",
       "    </tr>\n",
       "    <tr>\n",
       "      <th>total_payments</th>\n",
       "      <td>83</td>\n",
       "      <td>1.000000</td>\n",
       "      <td>1.000000</td>\n",
       "      <td>0.000000e+00</td>\n",
       "    </tr>\n",
       "    <tr>\n",
       "      <th>bonus</th>\n",
       "      <td>53</td>\n",
       "      <td>0.634809</td>\n",
       "      <td>0.402982</td>\n",
       "      <td>3.308626e-07</td>\n",
       "    </tr>\n",
       "    <tr>\n",
       "      <th>total_stock_value</th>\n",
       "      <td>71</td>\n",
       "      <td>0.687414</td>\n",
       "      <td>0.472538</td>\n",
       "      <td>3.570506e-11</td>\n",
       "    </tr>\n",
       "    <tr>\n",
       "      <th>expenses</th>\n",
       "      <td>65</td>\n",
       "      <td>0.109747</td>\n",
       "      <td>0.012044</td>\n",
       "      <td>3.841527e-01</td>\n",
       "    </tr>\n",
       "    <tr>\n",
       "      <th>exercised_stock_options</th>\n",
       "      <td>57</td>\n",
       "      <td>0.610894</td>\n",
       "      <td>0.373192</td>\n",
       "      <td>4.498095e-07</td>\n",
       "    </tr>\n",
       "    <tr>\n",
       "      <th>other</th>\n",
       "      <td>61</td>\n",
       "      <td>0.838737</td>\n",
       "      <td>0.703479</td>\n",
       "      <td>3.263832e-17</td>\n",
       "    </tr>\n",
       "    <tr>\n",
       "      <th>long_term_incentive</th>\n",
       "      <td>42</td>\n",
       "      <td>0.549531</td>\n",
       "      <td>0.301985</td>\n",
       "      <td>1.637328e-04</td>\n",
       "    </tr>\n",
       "    <tr>\n",
       "      <th>restricted_stock</th>\n",
       "      <td>61</td>\n",
       "      <td>0.638633</td>\n",
       "      <td>0.407853</td>\n",
       "      <td>3.064089e-08</td>\n",
       "    </tr>\n",
       "  </tbody>\n",
       "</table>\n",
       "</div>"
      ],
      "text/plain": [
       "                         total_payments_m  total_payments_r  \\\n",
       "salary                                 62          0.609404   \n",
       "total_payments                         83          1.000000   \n",
       "bonus                                  53          0.634809   \n",
       "total_stock_value                      71          0.687414   \n",
       "expenses                               65          0.109747   \n",
       "exercised_stock_options                57          0.610894   \n",
       "other                                  61          0.838737   \n",
       "long_term_incentive                    42          0.549531   \n",
       "restricted_stock                       61          0.638633   \n",
       "\n",
       "                         total_payments_r2  total_payments_p  \n",
       "salary                            0.371374      1.468131e-07  \n",
       "total_payments                    1.000000      0.000000e+00  \n",
       "bonus                             0.402982      3.308626e-07  \n",
       "total_stock_value                 0.472538      3.570506e-11  \n",
       "expenses                          0.012044      3.841527e-01  \n",
       "exercised_stock_options           0.373192      4.498095e-07  \n",
       "other                             0.703479      3.263832e-17  \n",
       "long_term_incentive               0.301985      1.637328e-04  \n",
       "restricted_stock                  0.407853      3.064089e-08  "
      ]
     },
     "execution_count": 39,
     "metadata": {},
     "output_type": "execute_result"
    }
   ],
   "source": [
    "colinear_stat['total_payments']"
   ]
  },
  {
   "cell_type": "code",
   "execution_count": 40,
   "metadata": {
    "collapsed": false
   },
   "outputs": [
    {
     "data": {
      "text/html": [
       "<div>\n",
       "<table border=\"1\" class=\"dataframe\">\n",
       "  <thead>\n",
       "    <tr style=\"text-align: right;\">\n",
       "      <th></th>\n",
       "      <th>other_m</th>\n",
       "      <th>other_r</th>\n",
       "      <th>other_r2</th>\n",
       "      <th>other_p</th>\n",
       "    </tr>\n",
       "  </thead>\n",
       "  <tbody>\n",
       "    <tr>\n",
       "      <th>salary</th>\n",
       "      <td>58</td>\n",
       "      <td>0.627978</td>\n",
       "      <td>0.394357</td>\n",
       "      <td>1.315817e-07</td>\n",
       "    </tr>\n",
       "    <tr>\n",
       "      <th>total_payments</th>\n",
       "      <td>61</td>\n",
       "      <td>0.838737</td>\n",
       "      <td>0.703479</td>\n",
       "      <td>3.263832e-17</td>\n",
       "    </tr>\n",
       "    <tr>\n",
       "      <th>bonus</th>\n",
       "      <td>51</td>\n",
       "      <td>0.472754</td>\n",
       "      <td>0.223496</td>\n",
       "      <td>4.599084e-04</td>\n",
       "    </tr>\n",
       "    <tr>\n",
       "      <th>total_stock_value</th>\n",
       "      <td>57</td>\n",
       "      <td>0.649027</td>\n",
       "      <td>0.421236</td>\n",
       "      <td>4.746597e-08</td>\n",
       "    </tr>\n",
       "    <tr>\n",
       "      <th>expenses</th>\n",
       "      <td>54</td>\n",
       "      <td>0.069138</td>\n",
       "      <td>0.004780</td>\n",
       "      <td>6.193535e-01</td>\n",
       "    </tr>\n",
       "    <tr>\n",
       "      <th>exercised_stock_options</th>\n",
       "      <td>44</td>\n",
       "      <td>0.559073</td>\n",
       "      <td>0.312563</td>\n",
       "      <td>7.990502e-05</td>\n",
       "    </tr>\n",
       "    <tr>\n",
       "      <th>other</th>\n",
       "      <td>61</td>\n",
       "      <td>1.000000</td>\n",
       "      <td>1.000000</td>\n",
       "      <td>0.000000e+00</td>\n",
       "    </tr>\n",
       "    <tr>\n",
       "      <th>long_term_incentive</th>\n",
       "      <td>41</td>\n",
       "      <td>0.611501</td>\n",
       "      <td>0.373933</td>\n",
       "      <td>2.162993e-05</td>\n",
       "    </tr>\n",
       "    <tr>\n",
       "      <th>restricted_stock</th>\n",
       "      <td>54</td>\n",
       "      <td>0.662451</td>\n",
       "      <td>0.438841</td>\n",
       "      <td>4.866008e-08</td>\n",
       "    </tr>\n",
       "  </tbody>\n",
       "</table>\n",
       "</div>"
      ],
      "text/plain": [
       "                         other_m   other_r  other_r2       other_p\n",
       "salary                        58  0.627978  0.394357  1.315817e-07\n",
       "total_payments                61  0.838737  0.703479  3.263832e-17\n",
       "bonus                         51  0.472754  0.223496  4.599084e-04\n",
       "total_stock_value             57  0.649027  0.421236  4.746597e-08\n",
       "expenses                      54  0.069138  0.004780  6.193535e-01\n",
       "exercised_stock_options       44  0.559073  0.312563  7.990502e-05\n",
       "other                         61  1.000000  1.000000  0.000000e+00\n",
       "long_term_incentive           41  0.611501  0.373933  2.162993e-05\n",
       "restricted_stock              54  0.662451  0.438841  4.866008e-08"
      ]
     },
     "execution_count": 40,
     "metadata": {},
     "output_type": "execute_result"
    }
   ],
   "source": [
    "colinear_stat['other']"
   ]
  },
  {
   "cell_type": "markdown",
   "metadata": {},
   "source": [
    "* Explore financial attributes\n",
    "    * Explore the missing samples in **other** and **total_payments**"
   ]
  },
  {
   "cell_type": "code",
   "execution_count": 41,
   "metadata": {
    "collapsed": false
   },
   "outputs": [],
   "source": [
    "na_index_other = df_ff.index[df_ff['other'].isnull()]\n",
    "na_index_totpy = df_ff.index[df_ff['total_payments'].isnull()]"
   ]
  },
  {
   "cell_type": "code",
   "execution_count": 42,
   "metadata": {
    "collapsed": false
   },
   "outputs": [
    {
     "name": "stdout",
     "output_type": "stream",
     "text": [
      "True\n"
     ]
    }
   ],
   "source": [
    "print set(na_index_other)&set(na_index_totpy) == set(na_index_totpy)"
   ]
  },
  {
   "cell_type": "markdown",
   "metadata": {},
   "source": [
    "* The sample points which do not have valid data in **total_payments** also do not have valid data in **other**. na_index_totpy is a subset of na_index_other\n",
    "* Decide **strategy for missing value imputation**\n",
    "    * Fill missing values in **total_payments** using categorical(POI vs non-POI) average/median\n",
    "    * Fill in missing values in **other** using categorical linear regression (or other regression techniques) from **total_payments**\n",
    "        * Need to investigate scatter plot first\n",
    "        * Need to investigate categorized pearson r and coefficient of determination r^2 first\n",
    "    * Use imputed **other** and **total_payments** and multilinear regression (or other regression technique) to impute the rest financial features\n",
    "***\n",
    "* Do a hypothesis test to see if the average of **total_payments** in POI vs non-POI is statistically different\n",
    "    * If the distribution is semi-normal/bell curve shape, do a t-test\n",
    "    * If the distribution is very not normal, do a Mann-Whiteney U test"
   ]
  },
  {
   "cell_type": "code",
   "execution_count": 43,
   "metadata": {
    "collapsed": false
   },
   "outputs": [
    {
     "data": {
      "image/png": "[encoded data removed]",
      "text/plain": [
       "<matplotlib.figure.Figure at 0x1157a7e10>"
      ]
     },
     "metadata": {},
     "output_type": "display_data"
    },
    {
     "data": {
      "text/plain": [
       "<ggplot: (272656417)>"
      ]
     },
     "execution_count": 43,
     "metadata": {},
     "output_type": "execute_result"
    }
   ],
   "source": [
    "# Examine distribution characteristics using histogram - overall histgoram vs. categorically seperated histgoram\n",
    "outlier_index = df_ff.index[df_ff['total_payments']==df_ff['total_payments'].max()]\n",
    "ggplot(df_ff.drop(outlier_index), aes(x='total_payments')) + geom_histogram()"
   ]
  },
  {
   "cell_type": "code",
   "execution_count": 44,
   "metadata": {
    "collapsed": false
   },
   "outputs": [
    {
     "data": {
      "image/png": "[encoded data removed]",
      "text/plain": [
       "<matplotlib.figure.Figure at 0x116613f90>"
      ]
     },
     "metadata": {},
     "output_type": "display_data"
    },
    {
     "data": {
      "text/plain": [
       "<ggplot: (291904113)>"
      ]
     },
     "execution_count": 44,
     "metadata": {},
     "output_type": "execute_result"
    }
   ],
   "source": [
    "ggplot(df_ff.drop(outlier_index), aes(x='total_payments')) + geom_histogram() + facet_wrap(\"poi\",ncol=2)"
   ]
  },
  {
   "cell_type": "markdown",
   "metadata": {},
   "source": [
    "Perform Non-parametric Mann-Whitney U Test to test the null hypothesis that the mean of **total_payments** of **POI** is statistically not different from the **non-POI** group."
   ]
  },
  {
   "cell_type": "code",
   "execution_count": 45,
   "metadata": {
    "collapsed": true
   },
   "outputs": [],
   "source": [
    "def group_seperator(features, target, outlier_ids=None):\n",
    "    if outlier_ids is not None:\n",
    "        pos_index = target.index.drop(outlier_ids)[target.drop(outlier_ids)==1]\n",
    "        neg_index = target.index.drop(outlier_ids)[target.drop(outlier_ids)==0]\n",
    "    else:\n",
    "        pos_index = target.index[target==1]\n",
    "        neg_index = target.index[target==0]\n",
    "    pos_feats = features.loc[pos_index]\n",
    "    neg_feats = features.loc[neg_index]\n",
    "    return pos_feats.dropna(), neg_feats.dropna()"
   ]
  },
  {
   "cell_type": "code",
   "execution_count": 46,
   "metadata": {
    "collapsed": false
   },
   "outputs": [
    {
     "name": "stdout",
     "output_type": "stream",
     "text": [
      "0.0194530636418\n"
     ]
    }
   ],
   "source": [
    "# Include the outlier impact\n",
    "pos_totpay, neg_totpay = group_seperator(df_ff['total_payments'], df_ff['poi'])\n",
    "mwu_stat, mwu_p = mannwhitneyu(pos_totpay, neg_totpay)\n",
    "print mwu_p"
   ]
  },
  {
   "cell_type": "code",
   "execution_count": 47,
   "metadata": {
    "collapsed": false
   },
   "outputs": [
    {
     "name": "stdout",
     "output_type": "stream",
     "text": [
      "0.0468581860835\n"
     ]
    }
   ],
   "source": [
    "# Exclude the outlier impact\n",
    "pos_totpay1, neg_totpay1 = group_seperator(df_ff['total_payments'].drop(outlier_index), \n",
    "                                            df_ff['poi'].drop(outlier_index))\n",
    "mwu_stat1, mwu_p1 = mannwhitneyu(pos_totpay1, neg_totpay1)\n",
    "print mwu_p1"
   ]
  },
  {
   "cell_type": "markdown",
   "metadata": {},
   "source": [
    "The Mann-Whitney U Test P values with/without the maximum outlier impact are both less than 0.05. Therefore reject the null hypothesis, and the means of **total_payments** of **POI** and **non-POI** groups are statistically different. \n",
    "* Therefore, compute the filling value sperately. Given that the histograms are extremely non-bell-curvy, and suffers from outliers, decide to use median to as the filling value for NaN."
   ]
  },
  {
   "cell_type": "code",
   "execution_count": 48,
   "metadata": {
    "collapsed": false
   },
   "outputs": [
    {
     "name": "stdout",
     "output_type": "stream",
     "text": [
      "2424083.0 1074324.0\n",
      "1130461.0\n"
     ]
    }
   ],
   "source": [
    "median_pos_totpay = pos_totpay.median()\n",
    "median_neg_totpay = neg_totpay.median()\n",
    "print median_pos_totpay, median_neg_totpay\n",
    "print df_ff['total_payments'].median()"
   ]
  },
  {
   "cell_type": "markdown",
   "metadata": {},
   "source": [
    "* Impute missing values in **total_payments** using median value of the whole samples\n",
    "\n",
    "Note: df_ff is a deep copy of a slice of the original data frame. Alternation on df_ff will not be reflected in features_train. In order to keep a record of original slice of the data frame for comparison purpose, the imputation is performed on a deep copy slice of the original data frame -> df_ff_copy."
   ]
  },
  {
   "cell_type": "code",
   "execution_count": 175,
   "metadata": {
    "collapsed": true
   },
   "outputs": [],
   "source": [
    "def impute_feat_na(feat, target, method=None, outlier_ids=None):\n",
    "    # impute missing values in given with categorical statistical parameters\n",
    "    pos_feat, neg_feat = group_seperator(feat, target, outlier_ids)\n",
    "    if method==None or method=='mean':\n",
    "        fill_pos_feat = pos_feat.mean()\n",
    "        fill_neg_feat = pos_feat.mean()\n",
    "    elif method=='median': \n",
    "        fill_pos_feat = pos_feat.median()\n",
    "        fill_neg_feat = neg_feat.median()\n",
    "    elif method=='mode':\n",
    "        fill_pos_feat = pos_feat.mode()\n",
    "        fill_neg_feat = neg_feat.mode()\n",
    "    else:\n",
    "        fill_pos_feat = pos_feat.map(method)\n",
    "        fill_neg_feat = pos_feat.map(method)\n",
    "    na_index_pos = set(feat.index[target==1]) & set(feat.index[feat.isnull()])\n",
    "    na_index_neg = set(feat.index[target==0]) & set(feat.index[feat.isnull()])\n",
    "    feat_copy = feat.copy()\n",
    "    fill = (fill_pos_feat+fill_neg_feat)/2.\n",
    "    feat_copy.loc[na_index_pos] = fill\n",
    "    feat_copy.loc[na_index_neg] = fill\n",
    "    return feat_copy, fill"
   ]
  },
  {
   "cell_type": "code",
   "execution_count": 49,
   "metadata": {
    "collapsed": false
   },
   "outputs": [],
   "source": [
    "df_ff_copy = features_train[financial_features].copy()\n",
    "df_ff_copy['poi'] = labels_train\n",
    "totpay_impute_param = df_ff_copy['total_payments'].median()\n",
    "df_ff_copy['total_payments'].fillna(totpay_impute_param, inplace=True)\n",
    "#totpay_impute_params = impute_feat_na(df_ff_copy['total_payments'], labels_train, method='median')\n",
    "#df_ff_copy['total_payments'] = totpay_impute_params[0]"
   ]
  },
  {
   "cell_type": "markdown",
   "metadata": {},
   "source": [
    "***\n",
    "* Fill in missing values in **other** using categorical linear regression (or other regression techniques) from **total_payments**\n",
    "    * Do a scatter plot to check if the it violates any simple linear regression assumptions"
   ]
  },
  {
   "cell_type": "code",
   "execution_count": 329,
   "metadata": {
    "collapsed": false
   },
   "outputs": [],
   "source": [
    "dft = df_ff_copy.drop(outlier_index)\n",
    "outlier2 = dft.index[dft['total_payments']==dft['total_payments'].max()]"
   ]
  },
  {
   "cell_type": "code",
   "execution_count": 50,
   "metadata": {
    "collapsed": false
   },
   "outputs": [
    {
     "data": {
      "image/png": "[encoded data removed]",
      "text/plain": [
       "<matplotlib.figure.Figure at 0x11690ab50>"
      ]
     },
     "metadata": {},
     "output_type": "display_data"
    },
    {
     "data": {
      "text/plain": [
       "<ggplot: (291620057)>"
      ]
     },
     "execution_count": 50,
     "metadata": {},
     "output_type": "execute_result"
    }
   ],
   "source": [
    "ggplot(df_ff.drop(outlier_index), aes(x='total_payments', y='other', color='poi'))\\\n",
    "+ geom_point() #+ scale_y_continuous(limits=(-5., 3000000)) # change limits range to adjust visulization of the plot"
   ]
  },
  {
   "cell_type": "markdown",
   "metadata": {},
   "source": [
    "* The scatter plot indicates that despite **other** and **total_payments** positively correlated with each other, there is no clear linear or polynomial relationship between each other. Therefore discard the plan of using **total_payments** to fill in missing values in **other**, simple discard **other** as a feature.\n",
    "***\n",
    "* Investigate stock features: **total_stock_value**, **exercised_stock_options**, **restricted_stock**. Decide feature selection and strategy for filling missing values for stock features.\n",
    "    * examine correlations among stock features\n",
    "    * examine missing value distributions among stock features\n",
    "    * determine strategy for filling in missing values in stock features\n",
    "        * explore stock features histogram/distribution features\n",
    "        * plot scatter plots of stock features to explore possibilities of using regression techniques to filling in missing values\n",
    "    * consider combine stock features into one single stock feature as simplicity\n",
    "***\n",
    "* examine correlations among stock features"
   ]
  },
  {
   "cell_type": "code",
   "execution_count": 51,
   "metadata": {
    "collapsed": false
   },
   "outputs": [
    {
     "data": {
      "text/html": [
       "<div>\n",
       "<table border=\"1\" class=\"dataframe\">\n",
       "  <thead>\n",
       "    <tr style=\"text-align: right;\">\n",
       "      <th></th>\n",
       "      <th>total_stock_value_m</th>\n",
       "      <th>total_stock_value_r</th>\n",
       "      <th>total_stock_value_r2</th>\n",
       "      <th>total_stock_value_p</th>\n",
       "    </tr>\n",
       "  </thead>\n",
       "  <tbody>\n",
       "    <tr>\n",
       "      <th>salary</th>\n",
       "      <td>59</td>\n",
       "      <td>0.691062</td>\n",
       "      <td>0.477567</td>\n",
       "      <td>1.376371e-09</td>\n",
       "    </tr>\n",
       "    <tr>\n",
       "      <th>total_payments</th>\n",
       "      <td>71</td>\n",
       "      <td>0.687414</td>\n",
       "      <td>0.472538</td>\n",
       "      <td>3.570506e-11</td>\n",
       "    </tr>\n",
       "    <tr>\n",
       "      <th>bonus</th>\n",
       "      <td>51</td>\n",
       "      <td>0.584549</td>\n",
       "      <td>0.341698</td>\n",
       "      <td>6.669545e-06</td>\n",
       "    </tr>\n",
       "    <tr>\n",
       "      <th>total_stock_value</th>\n",
       "      <td>86</td>\n",
       "      <td>1.000000</td>\n",
       "      <td>1.000000</td>\n",
       "      <td>0.000000e+00</td>\n",
       "    </tr>\n",
       "    <tr>\n",
       "      <th>expenses</th>\n",
       "      <td>60</td>\n",
       "      <td>0.046740</td>\n",
       "      <td>0.002185</td>\n",
       "      <td>7.228711e-01</td>\n",
       "    </tr>\n",
       "    <tr>\n",
       "      <th>exercised_stock_options</th>\n",
       "      <td>69</td>\n",
       "      <td>0.963200</td>\n",
       "      <td>0.927755</td>\n",
       "      <td>5.932075e-40</td>\n",
       "    </tr>\n",
       "    <tr>\n",
       "      <th>other</th>\n",
       "      <td>57</td>\n",
       "      <td>0.649027</td>\n",
       "      <td>0.421236</td>\n",
       "      <td>4.746597e-08</td>\n",
       "    </tr>\n",
       "    <tr>\n",
       "      <th>long_term_incentive</th>\n",
       "      <td>40</td>\n",
       "      <td>0.558871</td>\n",
       "      <td>0.312337</td>\n",
       "      <td>1.780911e-04</td>\n",
       "    </tr>\n",
       "    <tr>\n",
       "      <th>restricted_stock</th>\n",
       "      <td>71</td>\n",
       "      <td>0.864020</td>\n",
       "      <td>0.746530</td>\n",
       "      <td>3.004789e-22</td>\n",
       "    </tr>\n",
       "  </tbody>\n",
       "</table>\n",
       "</div>"
      ],
      "text/plain": [
       "                         total_stock_value_m  total_stock_value_r  \\\n",
       "salary                                    59             0.691062   \n",
       "total_payments                            71             0.687414   \n",
       "bonus                                     51             0.584549   \n",
       "total_stock_value                         86             1.000000   \n",
       "expenses                                  60             0.046740   \n",
       "exercised_stock_options                   69             0.963200   \n",
       "other                                     57             0.649027   \n",
       "long_term_incentive                       40             0.558871   \n",
       "restricted_stock                          71             0.864020   \n",
       "\n",
       "                         total_stock_value_r2  total_stock_value_p  \n",
       "salary                               0.477567         1.376371e-09  \n",
       "total_payments                       0.472538         3.570506e-11  \n",
       "bonus                                0.341698         6.669545e-06  \n",
       "total_stock_value                    1.000000         0.000000e+00  \n",
       "expenses                             0.002185         7.228711e-01  \n",
       "exercised_stock_options              0.927755         5.932075e-40  \n",
       "other                                0.421236         4.746597e-08  \n",
       "long_term_incentive                  0.312337         1.780911e-04  \n",
       "restricted_stock                     0.746530         3.004789e-22  "
      ]
     },
     "execution_count": 51,
     "metadata": {},
     "output_type": "execute_result"
    }
   ],
   "source": [
    "colinear_stat['total_stock_value']"
   ]
  },
  {
   "cell_type": "code",
   "execution_count": 52,
   "metadata": {
    "collapsed": false
   },
   "outputs": [
    {
     "data": {
      "text/html": [
       "<div>\n",
       "<table border=\"1\" class=\"dataframe\">\n",
       "  <thead>\n",
       "    <tr style=\"text-align: right;\">\n",
       "      <th></th>\n",
       "      <th>restricted_stock_m</th>\n",
       "      <th>restricted_stock_r</th>\n",
       "      <th>restricted_stock_r2</th>\n",
       "      <th>restricted_stock_p</th>\n",
       "    </tr>\n",
       "  </thead>\n",
       "  <tbody>\n",
       "    <tr>\n",
       "      <th>salary</th>\n",
       "      <td>56</td>\n",
       "      <td>0.572283</td>\n",
       "      <td>0.327508</td>\n",
       "      <td>4.064079e-06</td>\n",
       "    </tr>\n",
       "    <tr>\n",
       "      <th>total_payments</th>\n",
       "      <td>61</td>\n",
       "      <td>0.638633</td>\n",
       "      <td>0.407853</td>\n",
       "      <td>3.064089e-08</td>\n",
       "    </tr>\n",
       "    <tr>\n",
       "      <th>bonus</th>\n",
       "      <td>51</td>\n",
       "      <td>0.433801</td>\n",
       "      <td>0.188183</td>\n",
       "      <td>1.471756e-03</td>\n",
       "    </tr>\n",
       "    <tr>\n",
       "      <th>total_stock_value</th>\n",
       "      <td>71</td>\n",
       "      <td>0.864020</td>\n",
       "      <td>0.746530</td>\n",
       "      <td>3.004789e-22</td>\n",
       "    </tr>\n",
       "    <tr>\n",
       "      <th>expenses</th>\n",
       "      <td>54</td>\n",
       "      <td>0.026078</td>\n",
       "      <td>0.000680</td>\n",
       "      <td>8.515214e-01</td>\n",
       "    </tr>\n",
       "    <tr>\n",
       "      <th>exercised_stock_options</th>\n",
       "      <td>54</td>\n",
       "      <td>0.714450</td>\n",
       "      <td>0.510439</td>\n",
       "      <td>1.304509e-09</td>\n",
       "    </tr>\n",
       "    <tr>\n",
       "      <th>other</th>\n",
       "      <td>54</td>\n",
       "      <td>0.662451</td>\n",
       "      <td>0.438841</td>\n",
       "      <td>4.866008e-08</td>\n",
       "    </tr>\n",
       "    <tr>\n",
       "      <th>long_term_incentive</th>\n",
       "      <td>37</td>\n",
       "      <td>0.813528</td>\n",
       "      <td>0.661827</td>\n",
       "      <td>9.344145e-10</td>\n",
       "    </tr>\n",
       "    <tr>\n",
       "      <th>restricted_stock</th>\n",
       "      <td>73</td>\n",
       "      <td>1.000000</td>\n",
       "      <td>1.000000</td>\n",
       "      <td>0.000000e+00</td>\n",
       "    </tr>\n",
       "  </tbody>\n",
       "</table>\n",
       "</div>"
      ],
      "text/plain": [
       "                         restricted_stock_m  restricted_stock_r  \\\n",
       "salary                                   56            0.572283   \n",
       "total_payments                           61            0.638633   \n",
       "bonus                                    51            0.433801   \n",
       "total_stock_value                        71            0.864020   \n",
       "expenses                                 54            0.026078   \n",
       "exercised_stock_options                  54            0.714450   \n",
       "other                                    54            0.662451   \n",
       "long_term_incentive                      37            0.813528   \n",
       "restricted_stock                         73            1.000000   \n",
       "\n",
       "                         restricted_stock_r2  restricted_stock_p  \n",
       "salary                              0.327508        4.064079e-06  \n",
       "total_payments                      0.407853        3.064089e-08  \n",
       "bonus                               0.188183        1.471756e-03  \n",
       "total_stock_value                   0.746530        3.004789e-22  \n",
       "expenses                            0.000680        8.515214e-01  \n",
       "exercised_stock_options             0.510439        1.304509e-09  \n",
       "other                               0.438841        4.866008e-08  \n",
       "long_term_incentive                 0.661827        9.344145e-10  \n",
       "restricted_stock                    1.000000        0.000000e+00  "
      ]
     },
     "execution_count": 52,
     "metadata": {},
     "output_type": "execute_result"
    }
   ],
   "source": [
    "colinear_stat['restricted_stock']"
   ]
  },
  {
   "cell_type": "markdown",
   "metadata": {},
   "source": [
    "Three variables descirbing features of stocks: **total_stock_value**, **exercised_stock_options**, **restricted_stock** are strongly correlated. The missing value amount: **total_stock_value** < **restricted_stock** < **exercised_stock_options**.\n",
    "***\n",
    "* Examine the missing value samples' distributions among stock features"
   ]
  },
  {
   "cell_type": "code",
   "execution_count": 53,
   "metadata": {
    "collapsed": false
   },
   "outputs": [
    {
     "name": "stdout",
     "output_type": "stream",
     "text": [
      "13 28 26\n",
      "True 9\n",
      "2\n",
      "False\n"
     ]
    }
   ],
   "source": [
    "na_totstock_index = df_ff.index[df_ff[\"total_stock_value\"].isnull()]\n",
    "na_exestock_index = df_ff.index[df_ff['exercised_stock_options'].isnull()]\n",
    "na_rststock_index = df_ff.index[df_ff['restricted_stock'].isnull()]\n",
    "na_stock_index = set(na_totstock_index) & set(na_exestock_index) & set(na_rststock_index)\n",
    "na_ind1 = set(na_totstock_index) - (set(na_totstock_index)&set(na_exestock_index))\n",
    "print len(na_totstock_index), len(na_exestock_index), len(na_rststock_index)\n",
    "print na_stock_index == set(na_exestock_index) & set(na_rststock_index), len(na_stock_index)\n",
    "print len(na_ind1)\n",
    "print set(na_totstock_index) & set(na_rststock_index) == na_stock_index"
   ]
  },
  {
   "cell_type": "markdown",
   "metadata": {},
   "source": [
    "1) There are 9 data points/person having no data collection on their stock infomation (missing values in **total_stock_value**, **exercised_stock_options** and **restricted_stock**).\n",
    "\n",
    "2) There are 11 data points/person with missing values in **total_stock_value** and **exercised_stock_options**. There is 2 data point/person has **exercised_stock_options** but does not have **total_stock_value**.\n",
    "    * Examine these 2 speical person"
   ]
  },
  {
   "cell_type": "code",
   "execution_count": 54,
   "metadata": {
    "collapsed": false
   },
   "outputs": [
    {
     "data": {
      "text/html": [
       "<div>\n",
       "<table border=\"1\" class=\"dataframe\">\n",
       "  <thead>\n",
       "    <tr style=\"text-align: right;\">\n",
       "      <th></th>\n",
       "      <th>to_messages</th>\n",
       "      <th>total_payments</th>\n",
       "      <th>exercised_stock_options</th>\n",
       "      <th>bonus</th>\n",
       "      <th>restricted_stock</th>\n",
       "      <th>shared_receipt_with_poi</th>\n",
       "      <th>total_stock_value</th>\n",
       "      <th>expenses</th>\n",
       "      <th>from_messages</th>\n",
       "      <th>other</th>\n",
       "      <th>from_this_person_to_poi</th>\n",
       "      <th>salary</th>\n",
       "      <th>long_term_incentive</th>\n",
       "      <th>from_poi_to_this_person</th>\n",
       "      <th>email_address</th>\n",
       "    </tr>\n",
       "  </thead>\n",
       "  <tbody>\n",
       "    <tr>\n",
       "      <th>BELFER ROBERT</th>\n",
       "      <td>NaN</td>\n",
       "      <td>102500</td>\n",
       "      <td>3285</td>\n",
       "      <td>NaN</td>\n",
       "      <td>NaN</td>\n",
       "      <td>NaN</td>\n",
       "      <td>NaN</td>\n",
       "      <td>NaN</td>\n",
       "      <td>NaN</td>\n",
       "      <td>NaN</td>\n",
       "      <td>NaN</td>\n",
       "      <td>NaN</td>\n",
       "      <td>NaN</td>\n",
       "      <td>NaN</td>\n",
       "      <td>NaN</td>\n",
       "    </tr>\n",
       "    <tr>\n",
       "      <th>BHATNAGAR SANJAY</th>\n",
       "      <td>523</td>\n",
       "      <td>15456290</td>\n",
       "      <td>2604490</td>\n",
       "      <td>NaN</td>\n",
       "      <td>NaN</td>\n",
       "      <td>463</td>\n",
       "      <td>NaN</td>\n",
       "      <td>NaN</td>\n",
       "      <td>29</td>\n",
       "      <td>137864</td>\n",
       "      <td>1</td>\n",
       "      <td>NaN</td>\n",
       "      <td>NaN</td>\n",
       "      <td>NaN</td>\n",
       "      <td>sanjay.bhatnagar@enron.com</td>\n",
       "    </tr>\n",
       "  </tbody>\n",
       "</table>\n",
       "</div>"
      ],
      "text/plain": [
       "                  to_messages  total_payments  exercised_stock_options  bonus  \\\n",
       "BELFER ROBERT             NaN          102500                     3285    NaN   \n",
       "BHATNAGAR SANJAY          523        15456290                  2604490    NaN   \n",
       "\n",
       "                  restricted_stock  shared_receipt_with_poi  \\\n",
       "BELFER ROBERT                  NaN                      NaN   \n",
       "BHATNAGAR SANJAY               NaN                      463   \n",
       "\n",
       "                  total_stock_value  expenses  from_messages   other  \\\n",
       "BELFER ROBERT                   NaN       NaN            NaN     NaN   \n",
       "BHATNAGAR SANJAY                NaN       NaN             29  137864   \n",
       "\n",
       "                  from_this_person_to_poi  salary  long_term_incentive  \\\n",
       "BELFER ROBERT                         NaN     NaN                  NaN   \n",
       "BHATNAGAR SANJAY                        1     NaN                  NaN   \n",
       "\n",
       "                  from_poi_to_this_person               email_address  \n",
       "BELFER ROBERT                         NaN                         NaN  \n",
       "BHATNAGAR SANJAY                      NaN  sanjay.bhatnagar@enron.com  "
      ]
     },
     "execution_count": 54,
     "metadata": {},
     "output_type": "execute_result"
    }
   ],
   "source": [
    "features_train.loc[na_ind1]"
   ]
  },
  {
   "cell_type": "code",
   "execution_count": 55,
   "metadata": {
    "collapsed": false
   },
   "outputs": [
    {
     "name": "stdout",
     "output_type": "stream",
     "text": [
      "Index([u'BELFER ROBERT'], dtype='object')\n",
      "Index([u'BHATNAGAR SANJAY'], dtype='object')\n"
     ]
    }
   ],
   "source": [
    "print neg_total_stock_value_index\n",
    "print neg_restricted_stock_index"
   ]
  },
  {
   "cell_type": "markdown",
   "metadata": {},
   "source": [
    "The 2 person who have **exercised_stock_options** but do not have **total_stock_value** are the 2 person with negative invalid values in **total_stock_values** / **restricted_stock**.\n",
    "\n",
    "Note: Restricted stock, also known as letter stock or restricted securities, refers to stock of a company that is not fully transferable (from the stock-issuing company to the person receiving the stock award) until certain conditions (restrictions) have been met.\n",
    "***\n",
    "**Missing Value Imputation Strategy for Stock Features**\n",
    "* Imputate missing values in **total_stock_value** using mean/median/mode -> need to fill in 12 missing values\n",
    "\n",
    "* (Do hypothesis test to decide if seperate linear models need to be fitted for **POI** and **non-POI**.) Use simple linear regression (remove outliers) to imputate missing values in **exercised_stock_options** from **total_stock_value**\n",
    "* ( Do hypothesis test to decide if seperate linear models need to be fitted for **POI** and **non-POI** (optional-skip))Use **total_stock_value** (and **exercised_stock_options**) to train linear regression model (remove outliers), use it to imputate missing **restricted_stock** values -> need to fill 25 missing values\n",
    "***\n",
    "* step 1: impute missing values in **total_stock_value**"
   ]
  },
  {
   "cell_type": "code",
   "execution_count": 56,
   "metadata": {
    "collapsed": false
   },
   "outputs": [
    {
     "data": {
      "image/png": "[encoded data removed]",
      "text/plain": [
       "<matplotlib.figure.Figure at 0x11692ef10>"
      ]
     },
     "metadata": {},
     "output_type": "display_data"
    },
    {
     "data": {
      "text/plain": [
       "<ggplot: (292343541)>"
      ]
     },
     "execution_count": 56,
     "metadata": {},
     "output_type": "execute_result"
    }
   ],
   "source": [
    "ggplot(df_ff, aes(x='total_stock_value')) + geom_histogram() + facet_wrap(\"poi\",ncol=2)"
   ]
  },
  {
   "cell_type": "markdown",
   "metadata": {},
   "source": [
    "**Use median to impute missing values in total_stock_value** since the distribution is not bell curve and too sensetive to outliers, average is not a good candidate"
   ]
  },
  {
   "cell_type": "code",
   "execution_count": 57,
   "metadata": {
    "collapsed": false
   },
   "outputs": [
    {
     "name": "stdout",
     "output_type": "stream",
     "text": [
      "1918887.0 1038185.0\n",
      "1114549.5\n"
     ]
    }
   ],
   "source": [
    "pos_totstock, neg_totstock = group_seperator(df_ff['total_stock_value'], df_ff['poi'])\n",
    "median_pos_totstock = pos_totstock.median()\n",
    "median_neg_totstock = neg_totstock.median()\n",
    "print median_pos_totstock, median_neg_totstock\n",
    "print df_ff['total_stock_value'].median()"
   ]
  },
  {
   "cell_type": "code",
   "execution_count": 58,
   "metadata": {
    "collapsed": true
   },
   "outputs": [],
   "source": [
    "totstock_impute_param = df_ff['total_stock_value'].median()\n",
    "df_ff_copy['total_stock_value'].fillna(totstock_impute_param, inplace=True)\n",
    "#totstock_impute_params = impute_feat_na(df_ff_copy['total_stock_value'], labels_train, method='median')\n",
    "#df_ff_copy['total_stock_value'] = totstock_impute_params[0]"
   ]
  },
  {
   "cell_type": "markdown",
   "metadata": {},
   "source": [
    "***\n",
    "* step2: build linear regression model, use **total_stock_value** to impute missing values in **exercised_stock_options**"
   ]
  },
  {
   "cell_type": "code",
   "execution_count": 59,
   "metadata": {
    "collapsed": false
   },
   "outputs": [
    {
     "data": {
      "image/png": "[encoded data removed]",
      "text/plain": [
       "<matplotlib.figure.Figure at 0x116fb3790>"
      ]
     },
     "metadata": {},
     "output_type": "display_data"
    },
    {
     "data": {
      "text/plain": [
       "<ggplot: (292338057)>"
      ]
     },
     "execution_count": 59,
     "metadata": {},
     "output_type": "execute_result"
    }
   ],
   "source": [
    "# explore scatter plot\n",
    "ggplot(df_ff, aes(x='total_stock_value', y='exercised_stock_options', color='poi'))\\\n",
    "+ geom_point() #+ scale_y_continuous(limits=(0, 2*10**7)) # change limits to zoom in and out to see trends"
   ]
  },
  {
   "cell_type": "markdown",
   "metadata": {},
   "source": [
    "Disregard one outlier, **total_stock_value** and **exercised_stock_options** are very strongly and linearly correlated. Consider impute the 13 missing values in **total_stock_value**, then use a linear model to impute the 28 missing values in **exercised_stock_options**\n",
    "\n",
    "Note: Skipped doing hypothesis test on linear relationship of **POI** and **non-POI** group, since judging from the scatter plot the linear relationship of two groups seems unseperable."
   ]
  },
  {
   "cell_type": "code",
   "execution_count": 60,
   "metadata": {
    "collapsed": false
   },
   "outputs": [
    {
     "name": "stdout",
     "output_type": "stream",
     "text": [
      "Index([u'WHITE JR THOMAS E'], dtype='object')\n"
     ]
    }
   ],
   "source": [
    "# identify and examine scatter outlier\n",
    "scatter_outlier1 = df_ff.index[(df_ff['total_stock_value']>1.*10**7) & \\\n",
    "                               (df_ff['total_stock_value']<2.*10**7) & \\\n",
    "                               (df_ff['exercised_stock_options']<.5*10**7)]\n",
    "print scatter_outlier1"
   ]
  },
  {
   "cell_type": "code",
   "execution_count": 61,
   "metadata": {
    "collapsed": false
   },
   "outputs": [
    {
     "data": {
      "text/html": [
       "<div>\n",
       "<table border=\"1\" class=\"dataframe\">\n",
       "  <thead>\n",
       "    <tr style=\"text-align: right;\">\n",
       "      <th></th>\n",
       "      <th>salary</th>\n",
       "      <th>total_payments</th>\n",
       "      <th>bonus</th>\n",
       "      <th>total_stock_value</th>\n",
       "      <th>expenses</th>\n",
       "      <th>exercised_stock_options</th>\n",
       "      <th>other</th>\n",
       "      <th>long_term_incentive</th>\n",
       "      <th>restricted_stock</th>\n",
       "      <th>poi</th>\n",
       "    </tr>\n",
       "  </thead>\n",
       "  <tbody>\n",
       "    <tr>\n",
       "      <th>WHITE JR THOMAS E</th>\n",
       "      <td>317543</td>\n",
       "      <td>1934359</td>\n",
       "      <td>450000</td>\n",
       "      <td>15144123</td>\n",
       "      <td>81353</td>\n",
       "      <td>1297049</td>\n",
       "      <td>1085463</td>\n",
       "      <td>NaN</td>\n",
       "      <td>13847074</td>\n",
       "      <td>0</td>\n",
       "    </tr>\n",
       "  </tbody>\n",
       "</table>\n",
       "</div>"
      ],
      "text/plain": [
       "                   salary  total_payments   bonus  total_stock_value  \\\n",
       "WHITE JR THOMAS E  317543         1934359  450000           15144123   \n",
       "\n",
       "                   expenses  exercised_stock_options    other  \\\n",
       "WHITE JR THOMAS E     81353                  1297049  1085463   \n",
       "\n",
       "                   long_term_incentive  restricted_stock  poi  \n",
       "WHITE JR THOMAS E                  NaN          13847074    0  "
      ]
     },
     "execution_count": 61,
     "metadata": {},
     "output_type": "execute_result"
    }
   ],
   "source": [
    "df_ff_copy.loc[scatter_outlier1]"
   ]
  },
  {
   "cell_type": "code",
   "execution_count": 62,
   "metadata": {
    "collapsed": true
   },
   "outputs": [],
   "source": [
    "def slr_imputation(feature, response, outlier_ids=None):\n",
    "    '''\n",
    "    tit a linear regression using non-NaN values in feature and response,\n",
    "    then use fitted model to impute NaN values in response variable.\n",
    "    Input Arguments:\n",
    "        feature - pandas.Series, with no missing values\n",
    "        response - pandas.Series, with missing values\n",
    "        outlier_ids - list, tuple, or string, stores the outlier indices exclude for fitting lr model\n",
    "    Output Arguments:\n",
    "        lr_func - fitted lr model, can be used for prediction\n",
    "        response_copy - pandas.Series, with missing value imputed\n",
    "        r_value - pearson r, denotes the correlation btw feature and response;\n",
    "                - its squre is determination of coefficient\n",
    "        p_value - the statistical significance of the fitted model; p value of the fitted model\n",
    "    '''\n",
    "    response_copy = response.copy()\n",
    "    train_index = response.index[~response.isnull()]\n",
    "    test_index = response.index[response.isnull()]\n",
    "    if outlier_ids is not None:\n",
    "        train_index = list(set(train_index) - set(outlier_ids))\n",
    "    slope, intercept, r_value, p_value, _ = linregress(feature.loc[train_index].values,\n",
    "                                                       response.loc[train_index].values)\n",
    "    print \"pearson_r: \", r_value\n",
    "    print \"coefficient of determination: \", r_value**2\n",
    "    print \"p value: \", p_value\n",
    "    lr_func = lambda ft : intercept + slope*ft\n",
    "    response_copy.loc[test_index] = lr_func(feature.loc[test_index].values)\n",
    "    return response_copy, lr_func, r_value, p_value"
   ]
  },
  {
   "cell_type": "code",
   "execution_count": 63,
   "metadata": {
    "collapsed": false
   },
   "outputs": [
    {
     "name": "stdout",
     "output_type": "stream",
     "text": [
      "pearson_r:  0.98104152875\n",
      "coefficient of determination:  0.962442481132\n",
      "p value:  3.40293941218e-50\n"
     ]
    }
   ],
   "source": [
    "# fit linear regression model and impute missing values\n",
    "stock_impute_params1 = slr_imputation(df_ff_copy['total_stock_value'],\n",
    "                                     df_ff_copy['exercised_stock_options'],\n",
    "                                     outlier_ids = scatter_outlier1)\n",
    "df_ff_copy['exercised_stock_options'] = stock_impute_params1[0]"
   ]
  },
  {
   "cell_type": "markdown",
   "metadata": {},
   "source": [
    "***\n",
    "* step 3: build linear regression model, use **total_stock_value** to impute missing values in **restricted_stock_options** (discard outliers, **total_stock_value** is favored over **exercised_stock_options** b/z the former has less imputed values, and the former has higher correlation w.r.t. outcome variable)"
   ]
  },
  {
   "cell_type": "code",
   "execution_count": 64,
   "metadata": {
    "collapsed": false
   },
   "outputs": [
    {
     "data": {
      "image/png": "[encoded data removed]",
      "text/plain": [
       "<matplotlib.figure.Figure at 0x11692e050>"
      ]
     },
     "metadata": {},
     "output_type": "display_data"
    },
    {
     "data": {
      "text/plain": [
       "<ggplot: (292661901)>"
      ]
     },
     "execution_count": 64,
     "metadata": {},
     "output_type": "execute_result"
    }
   ],
   "source": [
    "# explore scatter plot\n",
    "df_temp = pd.melt(df_ff[['total_stock_value', 'restricted_stock', 'exercised_stock_options', 'poi']], \n",
    "                  id_vars=['restricted_stock','poi'])\n",
    "ggplot(df_temp, aes(x='value', y='restricted_stock', color='poi')) + geom_point() \\\n",
    "+ facet_wrap(\"variable\",nrow=1) #+ scale_y_continuous(limits=(0, 0.6*10**7))"
   ]
  },
  {
   "cell_type": "markdown",
   "metadata": {},
   "source": [
    "The scatter plots show that the response variable and exploratory variables are not perfectly lying on a stright line, however it demonstrates decent linearity. Pick **total_stock_value** since it has higher correlation w.r.t. outcome variable, and it has less imputed data points. Need to discard outlier impact while fitting linear regression models"
   ]
  },
  {
   "cell_type": "code",
   "execution_count": 65,
   "metadata": {
    "collapsed": false
   },
   "outputs": [
    {
     "name": "stdout",
     "output_type": "stream",
     "text": [
      "Index([u'RICE KENNETH D'], dtype='object')\n",
      "Index([u'WHITE JR THOMAS E', u'LAY KENNETH L'], dtype='object')\n"
     ]
    }
   ],
   "source": [
    "# idenfity and explore outlier\n",
    "outlier_a =  df_ff.index[(df_ff['total_stock_value']>2*10**7) & (df_ff['restricted_stock']<.4*10**7)]   \n",
    "print outlier_a\n",
    "outlier_b = df_ff.index[df_ff['restricted_stock']>1.2*10**7]\n",
    "print outlier_b\n",
    "scatter_outlier2 = outlier_a | outlier_b"
   ]
  },
  {
   "cell_type": "code",
   "execution_count": 66,
   "metadata": {
    "collapsed": false
   },
   "outputs": [
    {
     "data": {
      "text/html": [
       "<div>\n",
       "<table border=\"1\" class=\"dataframe\">\n",
       "  <thead>\n",
       "    <tr style=\"text-align: right;\">\n",
       "      <th></th>\n",
       "      <th>salary</th>\n",
       "      <th>total_payments</th>\n",
       "      <th>bonus</th>\n",
       "      <th>total_stock_value</th>\n",
       "      <th>expenses</th>\n",
       "      <th>exercised_stock_options</th>\n",
       "      <th>other</th>\n",
       "      <th>long_term_incentive</th>\n",
       "      <th>restricted_stock</th>\n",
       "      <th>poi</th>\n",
       "    </tr>\n",
       "  </thead>\n",
       "  <tbody>\n",
       "    <tr>\n",
       "      <th>LAY KENNETH L</th>\n",
       "      <td>1072321</td>\n",
       "      <td>103559793</td>\n",
       "      <td>7000000</td>\n",
       "      <td>49110078</td>\n",
       "      <td>99832</td>\n",
       "      <td>34348384</td>\n",
       "      <td>10359729</td>\n",
       "      <td>3600000</td>\n",
       "      <td>14761694</td>\n",
       "      <td>1</td>\n",
       "    </tr>\n",
       "    <tr>\n",
       "      <th>RICE KENNETH D</th>\n",
       "      <td>420636</td>\n",
       "      <td>505050</td>\n",
       "      <td>1750000</td>\n",
       "      <td>22542539</td>\n",
       "      <td>46950</td>\n",
       "      <td>19794175</td>\n",
       "      <td>174839</td>\n",
       "      <td>1617011</td>\n",
       "      <td>2748364</td>\n",
       "      <td>1</td>\n",
       "    </tr>\n",
       "    <tr>\n",
       "      <th>WHITE JR THOMAS E</th>\n",
       "      <td>317543</td>\n",
       "      <td>1934359</td>\n",
       "      <td>450000</td>\n",
       "      <td>15144123</td>\n",
       "      <td>81353</td>\n",
       "      <td>1297049</td>\n",
       "      <td>1085463</td>\n",
       "      <td>NaN</td>\n",
       "      <td>13847074</td>\n",
       "      <td>0</td>\n",
       "    </tr>\n",
       "  </tbody>\n",
       "</table>\n",
       "</div>"
      ],
      "text/plain": [
       "                    salary  total_payments    bonus  total_stock_value  \\\n",
       "LAY KENNETH L      1072321       103559793  7000000           49110078   \n",
       "RICE KENNETH D      420636          505050  1750000           22542539   \n",
       "WHITE JR THOMAS E   317543         1934359   450000           15144123   \n",
       "\n",
       "                   expenses  exercised_stock_options     other  \\\n",
       "LAY KENNETH L         99832                 34348384  10359729   \n",
       "RICE KENNETH D        46950                 19794175    174839   \n",
       "WHITE JR THOMAS E     81353                  1297049   1085463   \n",
       "\n",
       "                   long_term_incentive  restricted_stock  poi  \n",
       "LAY KENNETH L                  3600000          14761694    1  \n",
       "RICE KENNETH D                 1617011           2748364    1  \n",
       "WHITE JR THOMAS E                  NaN          13847074    0  "
      ]
     },
     "execution_count": 66,
     "metadata": {},
     "output_type": "execute_result"
    }
   ],
   "source": [
    "df_ff_copy.loc[scatter_outlier2]"
   ]
  },
  {
   "cell_type": "code",
   "execution_count": 67,
   "metadata": {
    "collapsed": false
   },
   "outputs": [
    {
     "name": "stdout",
     "output_type": "stream",
     "text": [
      "pearson_r:  0.911422678052\n",
      "coefficient of determination:  0.830691298068\n",
      "p value:  6.28360594889e-28\n"
     ]
    }
   ],
   "source": [
    "# fit linear regression model and impute missing values\n",
    "stock_impute_params2 = slr_imputation(df_ff_copy['total_stock_value'],\n",
    "                                     df_ff_copy['restricted_stock'],\n",
    "                                     outlier_ids = scatter_outlier2)\n",
    "df_ff_copy['restricted_stock'] = stock_impute_params2[0]"
   ]
  },
  {
   "cell_type": "markdown",
   "metadata": {},
   "source": [
    "***\n",
    "* examine **salary**\n",
    "    * its correlation w.r.t. other financial features\n",
    "    * its histogram sperated by **poi** and **non-poi** group\n",
    "    * its scatter plot w.r.t. a few high correlation variables"
   ]
  },
  {
   "cell_type": "code",
   "execution_count": 68,
   "metadata": {
    "collapsed": false
   },
   "outputs": [
    {
     "data": {
      "text/html": [
       "<div>\n",
       "<table border=\"1\" class=\"dataframe\">\n",
       "  <thead>\n",
       "    <tr style=\"text-align: right;\">\n",
       "      <th></th>\n",
       "      <th>salary_m</th>\n",
       "      <th>salary_r</th>\n",
       "      <th>salary_r2</th>\n",
       "      <th>salary_p</th>\n",
       "    </tr>\n",
       "  </thead>\n",
       "  <tbody>\n",
       "    <tr>\n",
       "      <th>salary</th>\n",
       "      <td>62</td>\n",
       "      <td>1.000000</td>\n",
       "      <td>1.000000</td>\n",
       "      <td>0.000000e+00</td>\n",
       "    </tr>\n",
       "    <tr>\n",
       "      <th>total_payments</th>\n",
       "      <td>62</td>\n",
       "      <td>0.609404</td>\n",
       "      <td>0.371374</td>\n",
       "      <td>1.468131e-07</td>\n",
       "    </tr>\n",
       "    <tr>\n",
       "      <th>bonus</th>\n",
       "      <td>53</td>\n",
       "      <td>0.633571</td>\n",
       "      <td>0.401412</td>\n",
       "      <td>3.544063e-07</td>\n",
       "    </tr>\n",
       "    <tr>\n",
       "      <th>total_stock_value</th>\n",
       "      <td>59</td>\n",
       "      <td>0.691062</td>\n",
       "      <td>0.477567</td>\n",
       "      <td>1.376371e-09</td>\n",
       "    </tr>\n",
       "    <tr>\n",
       "      <th>expenses</th>\n",
       "      <td>56</td>\n",
       "      <td>0.132775</td>\n",
       "      <td>0.017629</td>\n",
       "      <td>3.293063e-01</td>\n",
       "    </tr>\n",
       "    <tr>\n",
       "      <th>exercised_stock_options</th>\n",
       "      <td>45</td>\n",
       "      <td>0.696519</td>\n",
       "      <td>0.485139</td>\n",
       "      <td>1.074901e-07</td>\n",
       "    </tr>\n",
       "    <tr>\n",
       "      <th>other</th>\n",
       "      <td>58</td>\n",
       "      <td>0.627978</td>\n",
       "      <td>0.394357</td>\n",
       "      <td>1.315817e-07</td>\n",
       "    </tr>\n",
       "    <tr>\n",
       "      <th>long_term_incentive</th>\n",
       "      <td>41</td>\n",
       "      <td>0.537429</td>\n",
       "      <td>0.288830</td>\n",
       "      <td>2.908489e-04</td>\n",
       "    </tr>\n",
       "    <tr>\n",
       "      <th>restricted_stock</th>\n",
       "      <td>56</td>\n",
       "      <td>0.572283</td>\n",
       "      <td>0.327508</td>\n",
       "      <td>4.064079e-06</td>\n",
       "    </tr>\n",
       "  </tbody>\n",
       "</table>\n",
       "</div>"
      ],
      "text/plain": [
       "                         salary_m  salary_r  salary_r2      salary_p\n",
       "salary                         62  1.000000   1.000000  0.000000e+00\n",
       "total_payments                 62  0.609404   0.371374  1.468131e-07\n",
       "bonus                          53  0.633571   0.401412  3.544063e-07\n",
       "total_stock_value              59  0.691062   0.477567  1.376371e-09\n",
       "expenses                       56  0.132775   0.017629  3.293063e-01\n",
       "exercised_stock_options        45  0.696519   0.485139  1.074901e-07\n",
       "other                          58  0.627978   0.394357  1.315817e-07\n",
       "long_term_incentive            41  0.537429   0.288830  2.908489e-04\n",
       "restricted_stock               56  0.572283   0.327508  4.064079e-06"
      ]
     },
     "execution_count": 68,
     "metadata": {},
     "output_type": "execute_result"
    }
   ],
   "source": [
    "colinear_stat['salary']"
   ]
  },
  {
   "cell_type": "code",
   "execution_count": 78,
   "metadata": {
    "collapsed": false
   },
   "outputs": [
    {
     "data": {
      "image/png": "[encoded data removed]",
      "text/plain": [
       "<matplotlib.figure.Figure at 0x11951f1d0>"
      ]
     },
     "metadata": {},
     "output_type": "display_data"
    },
    {
     "data": {
      "text/plain": [
       "<ggplot: (294987649)>"
      ]
     },
     "execution_count": 78,
     "metadata": {},
     "output_type": "execute_result"
    }
   ],
   "source": [
    "ggplot(df_ff, aes(x='salary'))+geom_histogram()"
   ]
  },
  {
   "cell_type": "code",
   "execution_count": 77,
   "metadata": {
    "collapsed": false
   },
   "outputs": [
    {
     "data": {
      "image/png": "[encoded data removed]",
      "text/plain": [
       "<matplotlib.figure.Figure at 0x1192396d0>"
      ]
     },
     "metadata": {},
     "output_type": "display_data"
    },
    {
     "data": {
      "text/plain": [
       "<ggplot: (294711269)>"
      ]
     },
     "execution_count": 77,
     "metadata": {},
     "output_type": "execute_result"
    }
   ],
   "source": [
    "ggplot(df_ff, aes(x='salary'))+geom_histogram()+facet_wrap('poi')"
   ]
  },
  {
   "cell_type": "code",
   "execution_count": 70,
   "metadata": {
    "collapsed": false
   },
   "outputs": [
    {
     "data": {
      "image/png": "[encoded data removed]",
      "text/plain": [
       "<matplotlib.figure.Figure at 0x117ced190>"
      ]
     },
     "metadata": {},
     "output_type": "display_data"
    },
    {
     "data": {
      "text/plain": [
       "<ggplot: (293400353)>"
      ]
     },
     "execution_count": 70,
     "metadata": {},
     "output_type": "execute_result"
    }
   ],
   "source": [
    "ggplot(df_ff, aes(x='total_stock_value', y='salary')) + geom_point() + facet_wrap('poi')"
   ]
  },
  {
   "cell_type": "code",
   "execution_count": 71,
   "metadata": {
    "collapsed": false
   },
   "outputs": [
    {
     "data": {
      "image/png": "[encoded data removed]",
      "text/plain": [
       "<matplotlib.figure.Figure at 0x1189ba9d0>"
      ]
     },
     "metadata": {},
     "output_type": "display_data"
    },
    {
     "data": {
      "text/plain": [
       "<ggplot: (294246445)>"
      ]
     },
     "execution_count": 71,
     "metadata": {},
     "output_type": "execute_result"
    }
   ],
   "source": [
    "ggplot(df_ff, aes(x='exercised_stock_options', y='salary')) + geom_point() + facet_wrap('poi')"
   ]
  },
  {
   "cell_type": "markdown",
   "metadata": {},
   "source": [
    "The scatter plots indicate no reliable linear relationships. Therefore it is unable to use linear regression to impute the missing values in salary. However there is a clear seperation of historgram characteristics of salary from **poi** group and **non-poi** group. The salary of **non-poi** group demonstrates normal distribution bell curve suffers from outliers. Decide to impute missing values in **salary** attributes using mean (exclude outliers)"
   ]
  },
  {
   "cell_type": "code",
   "execution_count": 72,
   "metadata": {
    "collapsed": false
   },
   "outputs": [
    {
     "name": "stdout",
     "output_type": "stream",
     "text": [
      "Index([u'SKILLING JEFFREY K', u'LAY KENNETH L', u'FREVERT MARK A'], dtype='object')\n"
     ]
    }
   ],
   "source": [
    "# identify and examine the outliers in salary attribute\n",
    "salary_outliers = df_ff.index[df_ff['salary']>9.*10**5]\n",
    "print salary_outliers"
   ]
  },
  {
   "cell_type": "code",
   "execution_count": 73,
   "metadata": {
    "collapsed": false
   },
   "outputs": [
    {
     "data": {
      "text/html": [
       "<div>\n",
       "<table border=\"1\" class=\"dataframe\">\n",
       "  <thead>\n",
       "    <tr style=\"text-align: right;\">\n",
       "      <th></th>\n",
       "      <th>salary</th>\n",
       "      <th>total_payments</th>\n",
       "      <th>bonus</th>\n",
       "      <th>total_stock_value</th>\n",
       "      <th>expenses</th>\n",
       "      <th>exercised_stock_options</th>\n",
       "      <th>other</th>\n",
       "      <th>long_term_incentive</th>\n",
       "      <th>restricted_stock</th>\n",
       "      <th>poi</th>\n",
       "    </tr>\n",
       "  </thead>\n",
       "  <tbody>\n",
       "    <tr>\n",
       "      <th>SKILLING JEFFREY K</th>\n",
       "      <td>1111258</td>\n",
       "      <td>8682716</td>\n",
       "      <td>5600000</td>\n",
       "      <td>26093672</td>\n",
       "      <td>29336</td>\n",
       "      <td>19250000</td>\n",
       "      <td>22122</td>\n",
       "      <td>1920000</td>\n",
       "      <td>6843672</td>\n",
       "      <td>1</td>\n",
       "    </tr>\n",
       "    <tr>\n",
       "      <th>LAY KENNETH L</th>\n",
       "      <td>1072321</td>\n",
       "      <td>103559793</td>\n",
       "      <td>7000000</td>\n",
       "      <td>49110078</td>\n",
       "      <td>99832</td>\n",
       "      <td>34348384</td>\n",
       "      <td>10359729</td>\n",
       "      <td>3600000</td>\n",
       "      <td>14761694</td>\n",
       "      <td>1</td>\n",
       "    </tr>\n",
       "    <tr>\n",
       "      <th>FREVERT MARK A</th>\n",
       "      <td>1060932</td>\n",
       "      <td>17252530</td>\n",
       "      <td>2000000</td>\n",
       "      <td>14622185</td>\n",
       "      <td>86987</td>\n",
       "      <td>10433518</td>\n",
       "      <td>7427621</td>\n",
       "      <td>1617011</td>\n",
       "      <td>4188667</td>\n",
       "      <td>0</td>\n",
       "    </tr>\n",
       "  </tbody>\n",
       "</table>\n",
       "</div>"
      ],
      "text/plain": [
       "                     salary  total_payments    bonus  total_stock_value  \\\n",
       "SKILLING JEFFREY K  1111258         8682716  5600000           26093672   \n",
       "LAY KENNETH L       1072321       103559793  7000000           49110078   \n",
       "FREVERT MARK A      1060932        17252530  2000000           14622185   \n",
       "\n",
       "                    expenses  exercised_stock_options     other  \\\n",
       "SKILLING JEFFREY K     29336                 19250000     22122   \n",
       "LAY KENNETH L          99832                 34348384  10359729   \n",
       "FREVERT MARK A         86987                 10433518   7427621   \n",
       "\n",
       "                    long_term_incentive  restricted_stock  poi  \n",
       "SKILLING JEFFREY K              1920000           6843672    1  \n",
       "LAY KENNETH L                   3600000          14761694    1  \n",
       "FREVERT MARK A                  1617011           4188667    0  "
      ]
     },
     "execution_count": 73,
     "metadata": {},
     "output_type": "execute_result"
    }
   ],
   "source": [
    "df_ff.loc[salary_outliers]"
   ]
  },
  {
   "cell_type": "code",
   "execution_count": 75,
   "metadata": {
    "collapsed": false
   },
   "outputs": [
    {
     "name": "stdout",
     "output_type": "stream",
     "text": [
      "------medians------\n",
      "283571.5 248146.0\n",
      "259647.5\n",
      "------means------\n",
      "317130.9 239033.020408\n",
      "252269.949153\n"
     ]
    }
   ],
   "source": [
    "pos_salary, neg_salary = group_seperator(df_ff['salary'], df_ff['poi'], outlier_ids=salary_outliers)\n",
    "median_pos_salary = pos_salary.median()\n",
    "median_neg_salary = neg_salary.median()\n",
    "avg_pos_salary = pos_salary.mean()\n",
    "avg_neg_salary = neg_salary.mean()\n",
    "print \"------medians------\"\n",
    "print median_pos_salary, median_neg_salary\n",
    "print df_ff['salary'].median()\n",
    "print \"------means------\"\n",
    "print avg_pos_salary, avg_neg_salary\n",
    "print (avg_pos_salary*len(pos_salary)+avg_neg_salary*len(neg_salary))/(len(pos_salary)+len(neg_salary))"
   ]
  },
  {
   "cell_type": "markdown",
   "metadata": {},
   "source": [
    "Decide to impute missing values in **salary** using sample mean after excluding outliers, since the overall distribution of **salary** is somewhat bell-curve/normal."
   ]
  },
  {
   "cell_type": "code",
   "execution_count": 79,
   "metadata": {
    "collapsed": false
   },
   "outputs": [
    {
     "name": "stdout",
     "output_type": "stream",
     "text": [
      "252269.949153\n"
     ]
    }
   ],
   "source": [
    "# impute NaNs in salary attribute using mean while excluding outliers/ median\n",
    "selected_index = df_ff_copy.index.drop(salary_outliers)\n",
    "salary_impute_param = df_ff_copy['salary'].loc[selected_index].mean()\n",
    "df_ff_copy.fillna(salary_impute_param, inplace=True)\n",
    "#salary_impute_params = impute_feat_na(df_ff_copy['salary'], labels_train, \n",
    "                                      #method='mean', outlier_ids=salary_outliers)\n",
    "#df_ff_copy['salary'] = salary_impute_params[0]"
   ]
  },
  {
   "cell_type": "markdown",
   "metadata": {},
   "source": [
    "***\n",
    "* examine **bonus**\n",
    "    * its correlation w.r.t. other financial features\n",
    "    * its histogram sperated by **poi** and **non-poi** group\n",
    "    * its scatter plot w.r.t. a few high correlation variables"
   ]
  },
  {
   "cell_type": "code",
   "execution_count": 80,
   "metadata": {
    "collapsed": false
   },
   "outputs": [
    {
     "data": {
      "text/html": [
       "<div>\n",
       "<table border=\"1\" class=\"dataframe\">\n",
       "  <thead>\n",
       "    <tr style=\"text-align: right;\">\n",
       "      <th></th>\n",
       "      <th>bonus_m</th>\n",
       "      <th>bonus_r</th>\n",
       "      <th>bonus_r2</th>\n",
       "      <th>bonus_p</th>\n",
       "    </tr>\n",
       "  </thead>\n",
       "  <tbody>\n",
       "    <tr>\n",
       "      <th>salary</th>\n",
       "      <td>53</td>\n",
       "      <td>0.633571</td>\n",
       "      <td>0.401412</td>\n",
       "      <td>3.544063e-07</td>\n",
       "    </tr>\n",
       "    <tr>\n",
       "      <th>total_payments</th>\n",
       "      <td>53</td>\n",
       "      <td>0.634809</td>\n",
       "      <td>0.402982</td>\n",
       "      <td>3.308626e-07</td>\n",
       "    </tr>\n",
       "    <tr>\n",
       "      <th>bonus</th>\n",
       "      <td>53</td>\n",
       "      <td>1.000000</td>\n",
       "      <td>1.000000</td>\n",
       "      <td>0.000000e+00</td>\n",
       "    </tr>\n",
       "    <tr>\n",
       "      <th>total_stock_value</th>\n",
       "      <td>51</td>\n",
       "      <td>0.584549</td>\n",
       "      <td>0.341698</td>\n",
       "      <td>6.669545e-06</td>\n",
       "    </tr>\n",
       "    <tr>\n",
       "      <th>expenses</th>\n",
       "      <td>49</td>\n",
       "      <td>-0.017618</td>\n",
       "      <td>0.000310</td>\n",
       "      <td>9.043638e-01</td>\n",
       "    </tr>\n",
       "    <tr>\n",
       "      <th>exercised_stock_options</th>\n",
       "      <td>39</td>\n",
       "      <td>0.588938</td>\n",
       "      <td>0.346848</td>\n",
       "      <td>8.009784e-05</td>\n",
       "    </tr>\n",
       "    <tr>\n",
       "      <th>other</th>\n",
       "      <td>51</td>\n",
       "      <td>0.472754</td>\n",
       "      <td>0.223496</td>\n",
       "      <td>4.599084e-04</td>\n",
       "    </tr>\n",
       "    <tr>\n",
       "      <th>long_term_incentive</th>\n",
       "      <td>36</td>\n",
       "      <td>0.709057</td>\n",
       "      <td>0.502761</td>\n",
       "      <td>1.296241e-06</td>\n",
       "    </tr>\n",
       "    <tr>\n",
       "      <th>restricted_stock</th>\n",
       "      <td>51</td>\n",
       "      <td>0.433801</td>\n",
       "      <td>0.188183</td>\n",
       "      <td>1.471756e-03</td>\n",
       "    </tr>\n",
       "  </tbody>\n",
       "</table>\n",
       "</div>"
      ],
      "text/plain": [
       "                         bonus_m   bonus_r  bonus_r2       bonus_p\n",
       "salary                        53  0.633571  0.401412  3.544063e-07\n",
       "total_payments                53  0.634809  0.402982  3.308626e-07\n",
       "bonus                         53  1.000000  1.000000  0.000000e+00\n",
       "total_stock_value             51  0.584549  0.341698  6.669545e-06\n",
       "expenses                      49 -0.017618  0.000310  9.043638e-01\n",
       "exercised_stock_options       39  0.588938  0.346848  8.009784e-05\n",
       "other                         51  0.472754  0.223496  4.599084e-04\n",
       "long_term_incentive           36  0.709057  0.502761  1.296241e-06\n",
       "restricted_stock              51  0.433801  0.188183  1.471756e-03"
      ]
     },
     "execution_count": 80,
     "metadata": {},
     "output_type": "execute_result"
    }
   ],
   "source": [
    "colinear_stat['bonus']"
   ]
  },
  {
   "cell_type": "code",
   "execution_count": 84,
   "metadata": {
    "collapsed": false
   },
   "outputs": [
    {
     "data": {
      "image/png": "[encoded data removed]",
      "text/plain": [
       "<matplotlib.figure.Figure at 0x11a26a450>"
      ]
     },
     "metadata": {},
     "output_type": "display_data"
    },
    {
     "data": {
      "text/plain": [
       "<ggplot: (295851945)>"
      ]
     },
     "execution_count": 84,
     "metadata": {},
     "output_type": "execute_result"
    }
   ],
   "source": [
    "ggplot(df_ff, aes(x='bonus'))+geom_histogram()+facet_wrap('poi')"
   ]
  },
  {
   "cell_type": "code",
   "execution_count": 85,
   "metadata": {
    "collapsed": false
   },
   "outputs": [
    {
     "data": {
      "image/png": "[encoded data removed]",
      "text/plain": [
       "<matplotlib.figure.Figure at 0x11a6c5390>"
      ]
     },
     "metadata": {},
     "output_type": "display_data"
    },
    {
     "data": {
      "text/plain": [
       "<ggplot: (295874945)>"
      ]
     },
     "execution_count": 85,
     "metadata": {},
     "output_type": "execute_result"
    }
   ],
   "source": [
    "ggplot(df_ff, aes(x='long_term_incentive', y='bonus', color='poi')) + geom_point()"
   ]
  },
  {
   "cell_type": "code",
   "execution_count": 86,
   "metadata": {
    "collapsed": false
   },
   "outputs": [
    {
     "name": "stdout",
     "output_type": "stream",
     "text": [
      "------medians------\n",
      "1325000.0 700000.0\n",
      "750000.0\n"
     ]
    }
   ],
   "source": [
    "pos_bonus, neg_bonus = group_seperator(df_ff['bonus'], df_ff['poi'])\n",
    "median_pos_bonus = pos_bonus.median()\n",
    "median_neg_bonus = neg_bonus.median()\n",
    "avg_pos_bonus = pos_bonus.mean()\n",
    "avg_neg_bonus = neg_bonus.mean()\n",
    "print \"------medians------\"\n",
    "print median_pos_bonus, median_neg_bonus\n",
    "print df_ff['bonus'].median()"
   ]
  },
  {
   "cell_type": "markdown",
   "metadata": {},
   "source": [
    "There is some positive linear correlation shown in the scatter plot, but the scatter plot seems to suffer from heteroscedasticity, and given that **long_term_incentive** suffers a lot of missing value (~40%) and the coefficient of dertermination calculated from pearson_r_square is only 0.5, therefore not use linear regression to impute missing values for **bonus**.\n",
    "\n",
    "Given the two histograms, decide to use sample median to impute missing values in **bonus** attribute."
   ]
  },
  {
   "cell_type": "code",
   "execution_count": 87,
   "metadata": {
    "collapsed": true
   },
   "outputs": [],
   "source": [
    "bonus_impute_param = df_ff_copy['bonus'].median()\n",
    "df_ff_copy['bonus'].fillna(bonus_impute_param, inplace=True)\n",
    "#bonus_impute_params = impute_feat_na(df_ff_copy['bonus'], labels_train, method='median')\n",
    "#df_ff_copy['bonus'] = bonus_impute_params[0]"
   ]
  },
  {
   "cell_type": "markdown",
   "metadata": {},
   "source": [
    "***\n",
    "* examine **long_term_incentive**\n",
    "    * its correlation w.r.t. other financial features\n",
    "    * its histogram sperated by **poi** and **non-poi** group\n",
    "    * its scatter plot w.r.t. a few high correlation variables"
   ]
  },
  {
   "cell_type": "code",
   "execution_count": 88,
   "metadata": {
    "collapsed": false
   },
   "outputs": [
    {
     "data": {
      "text/html": [
       "<div>\n",
       "<table border=\"1\" class=\"dataframe\">\n",
       "  <thead>\n",
       "    <tr style=\"text-align: right;\">\n",
       "      <th></th>\n",
       "      <th>long_term_incentive_m</th>\n",
       "      <th>long_term_incentive_r</th>\n",
       "      <th>long_term_incentive_r2</th>\n",
       "      <th>long_term_incentive_p</th>\n",
       "    </tr>\n",
       "  </thead>\n",
       "  <tbody>\n",
       "    <tr>\n",
       "      <th>salary</th>\n",
       "      <td>41</td>\n",
       "      <td>0.537429</td>\n",
       "      <td>0.288830</td>\n",
       "      <td>2.908489e-04</td>\n",
       "    </tr>\n",
       "    <tr>\n",
       "      <th>total_payments</th>\n",
       "      <td>42</td>\n",
       "      <td>0.549531</td>\n",
       "      <td>0.301985</td>\n",
       "      <td>1.637328e-04</td>\n",
       "    </tr>\n",
       "    <tr>\n",
       "      <th>bonus</th>\n",
       "      <td>36</td>\n",
       "      <td>0.709057</td>\n",
       "      <td>0.502761</td>\n",
       "      <td>1.296241e-06</td>\n",
       "    </tr>\n",
       "    <tr>\n",
       "      <th>total_stock_value</th>\n",
       "      <td>40</td>\n",
       "      <td>0.558871</td>\n",
       "      <td>0.312337</td>\n",
       "      <td>1.780911e-04</td>\n",
       "    </tr>\n",
       "    <tr>\n",
       "      <th>expenses</th>\n",
       "      <td>36</td>\n",
       "      <td>-0.150290</td>\n",
       "      <td>0.022587</td>\n",
       "      <td>3.816280e-01</td>\n",
       "    </tr>\n",
       "    <tr>\n",
       "      <th>exercised_stock_options</th>\n",
       "      <td>33</td>\n",
       "      <td>0.577416</td>\n",
       "      <td>0.333409</td>\n",
       "      <td>4.342703e-04</td>\n",
       "    </tr>\n",
       "    <tr>\n",
       "      <th>other</th>\n",
       "      <td>41</td>\n",
       "      <td>0.611501</td>\n",
       "      <td>0.373933</td>\n",
       "      <td>2.162993e-05</td>\n",
       "    </tr>\n",
       "    <tr>\n",
       "      <th>long_term_incentive</th>\n",
       "      <td>42</td>\n",
       "      <td>1.000000</td>\n",
       "      <td>1.000000</td>\n",
       "      <td>0.000000e+00</td>\n",
       "    </tr>\n",
       "    <tr>\n",
       "      <th>restricted_stock</th>\n",
       "      <td>37</td>\n",
       "      <td>0.813528</td>\n",
       "      <td>0.661827</td>\n",
       "      <td>9.344145e-10</td>\n",
       "    </tr>\n",
       "  </tbody>\n",
       "</table>\n",
       "</div>"
      ],
      "text/plain": [
       "                         long_term_incentive_m  long_term_incentive_r  \\\n",
       "salary                                      41               0.537429   \n",
       "total_payments                              42               0.549531   \n",
       "bonus                                       36               0.709057   \n",
       "total_stock_value                           40               0.558871   \n",
       "expenses                                    36              -0.150290   \n",
       "exercised_stock_options                     33               0.577416   \n",
       "other                                       41               0.611501   \n",
       "long_term_incentive                         42               1.000000   \n",
       "restricted_stock                            37               0.813528   \n",
       "\n",
       "                         long_term_incentive_r2  long_term_incentive_p  \n",
       "salary                                 0.288830           2.908489e-04  \n",
       "total_payments                         0.301985           1.637328e-04  \n",
       "bonus                                  0.502761           1.296241e-06  \n",
       "total_stock_value                      0.312337           1.780911e-04  \n",
       "expenses                               0.022587           3.816280e-01  \n",
       "exercised_stock_options                0.333409           4.342703e-04  \n",
       "other                                  0.373933           2.162993e-05  \n",
       "long_term_incentive                    1.000000           0.000000e+00  \n",
       "restricted_stock                       0.661827           9.344145e-10  "
      ]
     },
     "execution_count": 88,
     "metadata": {},
     "output_type": "execute_result"
    }
   ],
   "source": [
    "colinear_stat['long_term_incentive']"
   ]
  },
  {
   "cell_type": "code",
   "execution_count": 91,
   "metadata": {
    "collapsed": false
   },
   "outputs": [
    {
     "data": {
      "image/png": "[encoded data removed]",
      "text/plain": [
       "<matplotlib.figure.Figure at 0x11b2d3090>"
      ]
     },
     "metadata": {},
     "output_type": "display_data"
    },
    {
     "data": {
      "text/plain": [
       "<ggplot: (296937093)>"
      ]
     },
     "execution_count": 91,
     "metadata": {},
     "output_type": "execute_result"
    }
   ],
   "source": [
    "ggplot(df_ff, aes(x='long_term_incentive'))+geom_histogram()+facet_wrap('poi')"
   ]
  },
  {
   "cell_type": "code",
   "execution_count": 92,
   "metadata": {
    "collapsed": false
   },
   "outputs": [
    {
     "data": {
      "image/png": "[encoded data removed]",
      "text/plain": [
       "<matplotlib.figure.Figure at 0x11b70b790>"
      ]
     },
     "metadata": {},
     "output_type": "display_data"
    },
    {
     "data": {
      "text/plain": [
       "<ggplot: (297215125)>"
      ]
     },
     "execution_count": 92,
     "metadata": {},
     "output_type": "execute_result"
    }
   ],
   "source": [
    "ggplot(df_ff, aes(x='restricted_stock',y='long_term_incentive',color='poi'))+geom_point()"
   ]
  },
  {
   "cell_type": "code",
   "execution_count": 93,
   "metadata": {
    "collapsed": false
   },
   "outputs": [
    {
     "data": {
      "image/png": "[encoded data removed]",
      "text/plain": [
       "<matplotlib.figure.Figure at 0x11b9d0250>"
      ]
     },
     "metadata": {},
     "output_type": "display_data"
    },
    {
     "data": {
      "text/plain": [
       "<ggplot: (297360013)>"
      ]
     },
     "execution_count": 93,
     "metadata": {},
     "output_type": "execute_result"
    }
   ],
   "source": [
    "ggplot(df_ff, aes(x='long_term_incentive'))+geom_histogram()"
   ]
  },
  {
   "cell_type": "markdown",
   "metadata": {},
   "source": [
    "use sample sample median to fill in missing values in **long_term_incentive**"
   ]
  },
  {
   "cell_type": "code",
   "execution_count": 94,
   "metadata": {
    "collapsed": true
   },
   "outputs": [],
   "source": [
    "incentive_impute_param = df_ff_copy['long_term_incentive'].median()\n",
    "df_ff_copy['long_term_incentive'].fillna(incentive_impute_param, inplace=True)"
   ]
  },
  {
   "cell_type": "markdown",
   "metadata": {},
   "source": [
    "***\n",
    "* Re-do boxplots"
   ]
  },
  {
   "cell_type": "code",
   "execution_count": 95,
   "metadata": {
    "collapsed": false
   },
   "outputs": [
    {
     "data": {
      "image/png": "[encoded data removed]",
      "text/plain": [
       "<matplotlib.figure.Figure at 0x11bcabc50>"
      ]
     },
     "metadata": {},
     "output_type": "display_data"
    },
    {
     "data": {
      "text/plain": [
       "<ggplot: (297480045)>"
      ]
     },
     "execution_count": 95,
     "metadata": {},
     "output_type": "execute_result"
    }
   ],
   "source": [
    "ff_ps_cp = exp_boxplot_ggplot_df(df_ff_copy.drop(['poi'], axis=1), df_ff_copy['poi'],\n",
    "                                 normalizer=normalizer, yrange=(.0, .6))\n",
    "ff_ps_cp"
   ]
  },
  {
   "cell_type": "markdown",
   "metadata": {},
   "source": [
    "* selected finanical features to build models are:"
   ]
  },
  {
   "cell_type": "code",
   "execution_count": 120,
   "metadata": {
    "collapsed": true
   },
   "outputs": [],
   "source": [
    "select_finanical_features = ['salary', 'bonus', 'total_stock_value', 'exercised_stock_options', \n",
    "                             'long_term_incentive', 'restricted_stock']"
   ]
  },
  {
   "cell_type": "markdown",
   "metadata": {},
   "source": [
    "***\n",
    "* explore email features\n",
    "    * missing value distribution and imputation\n",
    "    * engineer new variables"
   ]
  },
  {
   "cell_type": "code",
   "execution_count": 108,
   "metadata": {
    "collapsed": false
   },
   "outputs": [
    {
     "name": "stdout",
     "output_type": "stream",
     "text": [
      "41\n"
     ]
    }
   ],
   "source": [
    "df_ef = features_train[email_features].copy()\n",
    "df_ef['poi'] = labels_train\n",
    "df_ef_na = df_ef.isnull()\n",
    "df_ef_na_rows = df_ef_na.sum(axis=1)\n",
    "na5_ef_index = df_ef.index[df_ef_na_rows==len(email_features)]\n",
    "na4_ef_index = df_ef.index[df_ef_na_rows==len(email_features)-1]\n",
    "print len(na5_ef_index)"
   ]
  },
  {
   "cell_type": "code",
   "execution_count": 109,
   "metadata": {
    "collapsed": false
   },
   "outputs": [
    {
     "data": {
      "text/html": [
       "<div>\n",
       "<table border=\"1\" class=\"dataframe\">\n",
       "  <thead>\n",
       "    <tr style=\"text-align: right;\">\n",
       "      <th></th>\n",
       "      <th>to_messages</th>\n",
       "      <th>from_poi_to_this_person</th>\n",
       "      <th>from_messages</th>\n",
       "      <th>from_this_person_to_poi</th>\n",
       "      <th>shared_receipt_with_poi</th>\n",
       "      <th>poi</th>\n",
       "    </tr>\n",
       "  </thead>\n",
       "  <tbody>\n",
       "    <tr>\n",
       "      <th>CLINE KENNETH W</th>\n",
       "      <td>NaN</td>\n",
       "      <td>NaN</td>\n",
       "      <td>NaN</td>\n",
       "      <td>NaN</td>\n",
       "      <td>NaN</td>\n",
       "      <td>0</td>\n",
       "    </tr>\n",
       "    <tr>\n",
       "      <th>WODRASKA JOHN</th>\n",
       "      <td>NaN</td>\n",
       "      <td>NaN</td>\n",
       "      <td>NaN</td>\n",
       "      <td>NaN</td>\n",
       "      <td>NaN</td>\n",
       "      <td>0</td>\n",
       "    </tr>\n",
       "    <tr>\n",
       "      <th>DUNCAN JOHN H</th>\n",
       "      <td>NaN</td>\n",
       "      <td>NaN</td>\n",
       "      <td>NaN</td>\n",
       "      <td>NaN</td>\n",
       "      <td>NaN</td>\n",
       "      <td>0</td>\n",
       "    </tr>\n",
       "    <tr>\n",
       "      <th>BAZELIDES PHILIP J</th>\n",
       "      <td>NaN</td>\n",
       "      <td>NaN</td>\n",
       "      <td>NaN</td>\n",
       "      <td>NaN</td>\n",
       "      <td>NaN</td>\n",
       "      <td>0</td>\n",
       "    </tr>\n",
       "    <tr>\n",
       "      <th>FASTOW ANDREW S</th>\n",
       "      <td>NaN</td>\n",
       "      <td>NaN</td>\n",
       "      <td>NaN</td>\n",
       "      <td>NaN</td>\n",
       "      <td>NaN</td>\n",
       "      <td>1</td>\n",
       "    </tr>\n",
       "  </tbody>\n",
       "</table>\n",
       "</div>"
      ],
      "text/plain": [
       "                    to_messages  from_poi_to_this_person  from_messages  \\\n",
       "CLINE KENNETH W             NaN                      NaN            NaN   \n",
       "WODRASKA JOHN               NaN                      NaN            NaN   \n",
       "DUNCAN JOHN H               NaN                      NaN            NaN   \n",
       "BAZELIDES PHILIP J          NaN                      NaN            NaN   \n",
       "FASTOW ANDREW S             NaN                      NaN            NaN   \n",
       "\n",
       "                    from_this_person_to_poi  shared_receipt_with_poi  poi  \n",
       "CLINE KENNETH W                         NaN                      NaN    0  \n",
       "WODRASKA JOHN                           NaN                      NaN    0  \n",
       "DUNCAN JOHN H                           NaN                      NaN    0  \n",
       "BAZELIDES PHILIP J                      NaN                      NaN    0  \n",
       "FASTOW ANDREW S                         NaN                      NaN    1  "
      ]
     },
     "execution_count": 109,
     "metadata": {},
     "output_type": "execute_result"
    }
   ],
   "source": [
    "df_ef.loc[na5_ef_index].head(5)"
   ]
  },
  {
   "cell_type": "code",
   "execution_count": 110,
   "metadata": {
    "collapsed": false
   },
   "outputs": [
    {
     "data": {
      "image/png": "[encoded data removed]",
      "text/plain": [
       "<matplotlib.figure.Figure at 0x11dd55550>"
      ]
     },
     "metadata": {},
     "output_type": "display_data"
    },
    {
     "data": {
      "text/plain": [
       "<ggplot: (299717893)>"
      ]
     },
     "execution_count": 110,
     "metadata": {},
     "output_type": "execute_result"
    }
   ],
   "source": [
    "ef_ps = exp_boxplot_ggplot_df(df_ef.drop(['poi'], axis=1), df_ef['poi'],\n",
    "                                 normalizer=normalizer, yrange=(.0, 1.))\n",
    "ef_ps"
   ]
  },
  {
   "cell_type": "markdown",
   "metadata": {},
   "source": [
    "Select **to_messages**, **shared_receipt_with_poi**, **from_poi_to_this_person** as features\n",
    "* Previously computed missing value percentage\n",
    "    * shared_receipt_with_poi      0.415842\n",
    "    * from_messages                0.415842\n",
    "    * to_messages                  0.415842\n",
    "    * from_poi_to_this_person      0.495050\n",
    "    * from_this_person_to_poi      0.544554"
   ]
  },
  {
   "cell_type": "code",
   "execution_count": 113,
   "metadata": {
    "collapsed": false
   },
   "outputs": [
    {
     "data": {
      "text/plain": [
       "array([ True,  True,  True,  True,  True,  True,  True,  True,  True,\n",
       "        True,  True,  True,  True,  True,  True,  True,  True,  True,\n",
       "        True,  True,  True,  True,  True,  True,  True,  True,  True,\n",
       "        True,  True,  True,  True,  True,  True,  True,  True,  True,\n",
       "        True,  True,  True,  True,  True], dtype=bool)"
      ]
     },
     "execution_count": 113,
     "metadata": {},
     "output_type": "execute_result"
    }
   ],
   "source": [
    "df_ef.index[df_ef['from_messages'].isnull()] == df_ef.index[df_ef['to_messages'].isnull()]"
   ]
  },
  {
   "cell_type": "code",
   "execution_count": 112,
   "metadata": {
    "collapsed": false
   },
   "outputs": [
    {
     "data": {
      "text/plain": [
       "array([ True,  True,  True,  True,  True,  True,  True,  True,  True,\n",
       "        True,  True,  True,  True,  True,  True,  True,  True,  True,\n",
       "        True,  True,  True,  True,  True,  True,  True,  True,  True,\n",
       "        True,  True,  True,  True,  True,  True,  True,  True,  True,\n",
       "        True,  True,  True,  True,  True], dtype=bool)"
      ]
     },
     "execution_count": 112,
     "metadata": {},
     "output_type": "execute_result"
    }
   ],
   "source": [
    "df_ef.index[df_ef['from_messages'].isnull()] == df_ef.index[df_ef['shared_receipt_with_poi'].isnull()]"
   ]
  },
  {
   "cell_type": "code",
   "execution_count": 114,
   "metadata": {
    "collapsed": true
   },
   "outputs": [],
   "source": [
    "colinear_ef = calc_pearsonr(df_ef.drop(['poi'], axis=1))"
   ]
  },
  {
   "cell_type": "markdown",
   "metadata": {},
   "source": [
    "***\n",
    "* **examine from_poi_to_this_person**"
   ]
  },
  {
   "cell_type": "code",
   "execution_count": 140,
   "metadata": {
    "collapsed": false
   },
   "outputs": [
    {
     "data": {
      "text/html": [
       "<div>\n",
       "<table border=\"1\" class=\"dataframe\">\n",
       "  <thead>\n",
       "    <tr style=\"text-align: right;\">\n",
       "      <th></th>\n",
       "      <th>from_poi_to_this_person_m</th>\n",
       "      <th>from_poi_to_this_person_r</th>\n",
       "      <th>from_poi_to_this_person_r2</th>\n",
       "      <th>from_poi_to_this_person_p</th>\n",
       "    </tr>\n",
       "  </thead>\n",
       "  <tbody>\n",
       "    <tr>\n",
       "      <th>to_messages</th>\n",
       "      <td>51</td>\n",
       "      <td>0.428021</td>\n",
       "      <td>0.183202</td>\n",
       "      <td>0.001729</td>\n",
       "    </tr>\n",
       "    <tr>\n",
       "      <th>from_poi_to_this_person</th>\n",
       "      <td>51</td>\n",
       "      <td>1.000000</td>\n",
       "      <td>1.000000</td>\n",
       "      <td>0.000000</td>\n",
       "    </tr>\n",
       "    <tr>\n",
       "      <th>from_messages</th>\n",
       "      <td>51</td>\n",
       "      <td>0.069929</td>\n",
       "      <td>0.004890</td>\n",
       "      <td>0.625826</td>\n",
       "    </tr>\n",
       "    <tr>\n",
       "      <th>from_this_person_to_poi</th>\n",
       "      <td>45</td>\n",
       "      <td>0.187776</td>\n",
       "      <td>0.035260</td>\n",
       "      <td>0.216749</td>\n",
       "    </tr>\n",
       "    <tr>\n",
       "      <th>shared_receipt_with_poi</th>\n",
       "      <td>51</td>\n",
       "      <td>0.587078</td>\n",
       "      <td>0.344661</td>\n",
       "      <td>0.000006</td>\n",
       "    </tr>\n",
       "  </tbody>\n",
       "</table>\n",
       "</div>"
      ],
      "text/plain": [
       "                         from_poi_to_this_person_m  from_poi_to_this_person_r  \\\n",
       "to_messages                                     51                   0.428021   \n",
       "from_poi_to_this_person                         51                   1.000000   \n",
       "from_messages                                   51                   0.069929   \n",
       "from_this_person_to_poi                         45                   0.187776   \n",
       "shared_receipt_with_poi                         51                   0.587078   \n",
       "\n",
       "                         from_poi_to_this_person_r2  from_poi_to_this_person_p  \n",
       "to_messages                                0.183202                   0.001729  \n",
       "from_poi_to_this_person                    1.000000                   0.000000  \n",
       "from_messages                              0.004890                   0.625826  \n",
       "from_this_person_to_poi                    0.035260                   0.216749  \n",
       "shared_receipt_with_poi                    0.344661                   0.000006  "
      ]
     },
     "execution_count": 140,
     "metadata": {},
     "output_type": "execute_result"
    }
   ],
   "source": [
    "colinear_ef['from_poi_to_this_person']"
   ]
  },
  {
   "cell_type": "code",
   "execution_count": 141,
   "metadata": {
    "collapsed": false
   },
   "outputs": [
    {
     "data": {
      "image/png": "[encoded data removed]",
      "text/plain": [
       "<matplotlib.figure.Figure at 0x1211ddb10>"
      ]
     },
     "metadata": {},
     "output_type": "display_data"
    },
    {
     "data": {
      "text/plain": [
       "<ggplot: (303199637)>"
      ]
     },
     "execution_count": 141,
     "metadata": {},
     "output_type": "execute_result"
    }
   ],
   "source": [
    "ggplot(df_ef, aes('from_poi_to_this_person')) + geom_histogram() + facet_wrap('poi')"
   ]
  },
  {
   "cell_type": "code",
   "execution_count": 143,
   "metadata": {
    "collapsed": false
   },
   "outputs": [
    {
     "data": {
      "image/png": "[encoded data removed]",
      "text/plain": [
       "<matplotlib.figure.Figure at 0x121275450>"
      ]
     },
     "metadata": {},
     "output_type": "display_data"
    },
    {
     "data": {
      "text/plain": [
       "<ggplot: (303273477)>"
      ]
     },
     "execution_count": 143,
     "metadata": {},
     "output_type": "execute_result"
    }
   ],
   "source": [
    "ggplot(df_ef, aes(x='to_messages',y='from_poi_to_this_person', color='poi')) + geom_point()"
   ]
  },
  {
   "cell_type": "markdown",
   "metadata": {},
   "source": [
    "***\n",
    "* **examine to_messages**"
   ]
  },
  {
   "cell_type": "code",
   "execution_count": 131,
   "metadata": {
    "collapsed": false
   },
   "outputs": [
    {
     "data": {
      "text/html": [
       "<div>\n",
       "<table border=\"1\" class=\"dataframe\">\n",
       "  <thead>\n",
       "    <tr style=\"text-align: right;\">\n",
       "      <th></th>\n",
       "      <th>to_messages_m</th>\n",
       "      <th>to_messages_r</th>\n",
       "      <th>to_messages_r2</th>\n",
       "      <th>to_messages_p</th>\n",
       "    </tr>\n",
       "  </thead>\n",
       "  <tbody>\n",
       "    <tr>\n",
       "      <th>to_messages</th>\n",
       "      <td>59</td>\n",
       "      <td>1.000000</td>\n",
       "      <td>1.000000</td>\n",
       "      <td>0.000000e+00</td>\n",
       "    </tr>\n",
       "    <tr>\n",
       "      <th>from_poi_to_this_person</th>\n",
       "      <td>51</td>\n",
       "      <td>0.428021</td>\n",
       "      <td>0.183202</td>\n",
       "      <td>1.729214e-03</td>\n",
       "    </tr>\n",
       "    <tr>\n",
       "      <th>from_messages</th>\n",
       "      <td>59</td>\n",
       "      <td>0.445067</td>\n",
       "      <td>0.198085</td>\n",
       "      <td>4.124261e-04</td>\n",
       "    </tr>\n",
       "    <tr>\n",
       "      <th>from_this_person_to_poi</th>\n",
       "      <td>46</td>\n",
       "      <td>0.489188</td>\n",
       "      <td>0.239305</td>\n",
       "      <td>5.606902e-04</td>\n",
       "    </tr>\n",
       "    <tr>\n",
       "      <th>shared_receipt_with_poi</th>\n",
       "      <td>59</td>\n",
       "      <td>0.838547</td>\n",
       "      <td>0.703161</td>\n",
       "      <td>1.154388e-16</td>\n",
       "    </tr>\n",
       "  </tbody>\n",
       "</table>\n",
       "</div>"
      ],
      "text/plain": [
       "                         to_messages_m  to_messages_r  to_messages_r2  \\\n",
       "to_messages                         59       1.000000        1.000000   \n",
       "from_poi_to_this_person             51       0.428021        0.183202   \n",
       "from_messages                       59       0.445067        0.198085   \n",
       "from_this_person_to_poi             46       0.489188        0.239305   \n",
       "shared_receipt_with_poi             59       0.838547        0.703161   \n",
       "\n",
       "                         to_messages_p  \n",
       "to_messages               0.000000e+00  \n",
       "from_poi_to_this_person   1.729214e-03  \n",
       "from_messages             4.124261e-04  \n",
       "from_this_person_to_poi   5.606902e-04  \n",
       "shared_receipt_with_poi   1.154388e-16  "
      ]
     },
     "execution_count": 131,
     "metadata": {},
     "output_type": "execute_result"
    }
   ],
   "source": [
    "colinear_ef['to_messages']"
   ]
  },
  {
   "cell_type": "code",
   "execution_count": 132,
   "metadata": {
    "collapsed": false
   },
   "outputs": [
    {
     "data": {
      "image/png": "[encoded data removed]",
      "text/plain": [
       "<matplotlib.figure.Figure at 0x11fef5150>"
      ]
     },
     "metadata": {},
     "output_type": "display_data"
    },
    {
     "data": {
      "text/plain": [
       "<ggplot: (301916749)>"
      ]
     },
     "execution_count": 132,
     "metadata": {},
     "output_type": "execute_result"
    }
   ],
   "source": [
    "ggplot(df_ef, aes(x='to_messages'))+geom_histogram()+facet_wrap('poi')"
   ]
  },
  {
   "cell_type": "code",
   "execution_count": 133,
   "metadata": {
    "collapsed": false
   },
   "outputs": [
    {
     "data": {
      "image/png": "[encoded data removed]",
      "text/plain": [
       "<matplotlib.figure.Figure at 0x120422890>"
      ]
     },
     "metadata": {},
     "output_type": "display_data"
    },
    {
     "data": {
      "text/plain": [
       "<ggplot: (301951993)>"
      ]
     },
     "execution_count": 133,
     "metadata": {},
     "output_type": "execute_result"
    }
   ],
   "source": [
    "ggplot(df_ef, aes(x='shared_receipt_with_poi',y='to_messages', color='poi')) + \\\n",
    "geom_point()"
   ]
  },
  {
   "cell_type": "markdown",
   "metadata": {},
   "source": [
    "***\n",
    "* **examine shared_receipt_with_poi**"
   ]
  },
  {
   "cell_type": "code",
   "execution_count": 134,
   "metadata": {
    "collapsed": false
   },
   "outputs": [
    {
     "data": {
      "text/html": [
       "<div>\n",
       "<table border=\"1\" class=\"dataframe\">\n",
       "  <thead>\n",
       "    <tr style=\"text-align: right;\">\n",
       "      <th></th>\n",
       "      <th>shared_receipt_with_poi_m</th>\n",
       "      <th>shared_receipt_with_poi_r</th>\n",
       "      <th>shared_receipt_with_poi_r2</th>\n",
       "      <th>shared_receipt_with_poi_p</th>\n",
       "    </tr>\n",
       "  </thead>\n",
       "  <tbody>\n",
       "    <tr>\n",
       "      <th>to_messages</th>\n",
       "      <td>59</td>\n",
       "      <td>0.838547</td>\n",
       "      <td>0.703161</td>\n",
       "      <td>1.154388e-16</td>\n",
       "    </tr>\n",
       "    <tr>\n",
       "      <th>from_poi_to_this_person</th>\n",
       "      <td>51</td>\n",
       "      <td>0.587078</td>\n",
       "      <td>0.344661</td>\n",
       "      <td>5.948422e-06</td>\n",
       "    </tr>\n",
       "    <tr>\n",
       "      <th>from_messages</th>\n",
       "      <td>59</td>\n",
       "      <td>0.187349</td>\n",
       "      <td>0.035100</td>\n",
       "      <td>1.553508e-01</td>\n",
       "    </tr>\n",
       "    <tr>\n",
       "      <th>from_this_person_to_poi</th>\n",
       "      <td>46</td>\n",
       "      <td>0.366059</td>\n",
       "      <td>0.133999</td>\n",
       "      <td>1.235233e-02</td>\n",
       "    </tr>\n",
       "    <tr>\n",
       "      <th>shared_receipt_with_poi</th>\n",
       "      <td>59</td>\n",
       "      <td>1.000000</td>\n",
       "      <td>1.000000</td>\n",
       "      <td>0.000000e+00</td>\n",
       "    </tr>\n",
       "  </tbody>\n",
       "</table>\n",
       "</div>"
      ],
      "text/plain": [
       "                         shared_receipt_with_poi_m  shared_receipt_with_poi_r  \\\n",
       "to_messages                                     59                   0.838547   \n",
       "from_poi_to_this_person                         51                   0.587078   \n",
       "from_messages                                   59                   0.187349   \n",
       "from_this_person_to_poi                         46                   0.366059   \n",
       "shared_receipt_with_poi                         59                   1.000000   \n",
       "\n",
       "                         shared_receipt_with_poi_r2  shared_receipt_with_poi_p  \n",
       "to_messages                                0.703161               1.154388e-16  \n",
       "from_poi_to_this_person                    0.344661               5.948422e-06  \n",
       "from_messages                              0.035100               1.553508e-01  \n",
       "from_this_person_to_poi                    0.133999               1.235233e-02  \n",
       "shared_receipt_with_poi                    1.000000               0.000000e+00  "
      ]
     },
     "execution_count": 134,
     "metadata": {},
     "output_type": "execute_result"
    }
   ],
   "source": [
    "colinear_ef['shared_receipt_with_poi']"
   ]
  },
  {
   "cell_type": "markdown",
   "metadata": {},
   "source": [
    "***\n",
    "* **explore engineering new features**"
   ]
  },
  {
   "cell_type": "code",
   "execution_count": 158,
   "metadata": {
    "collapsed": true
   },
   "outputs": [],
   "source": [
    "df_ef1 = df_ef.copy()\n",
    "df_ef1['ratio_to_share'] = df_ef1['shared_receipt_with_poi']/df_ef1['to_messages']\n",
    "df_ef1['ratio_from_share'] = df_ef1['shared_receipt_with_poi']/df_ef1['from_messages']"
   ]
  },
  {
   "cell_type": "code",
   "execution_count": 159,
   "metadata": {
    "collapsed": false
   },
   "outputs": [
    {
     "data": {
      "image/png": "[encoded data removed]",
      "text/plain": [
       "<matplotlib.figure.Figure at 0x1286f20d0>"
      ]
     },
     "metadata": {},
     "output_type": "display_data"
    },
    {
     "data": {
      "text/plain": [
       "<ggplot: (311007381)>"
      ]
     },
     "execution_count": 159,
     "metadata": {},
     "output_type": "execute_result"
    }
   ],
   "source": [
    "ef_ps1 = exp_boxplot_ggplot_df(df_ef1.drop(['poi'], axis=1), df_ef['poi'],\n",
    "                                 normalizer=normalizer, yrange=(.0, 1.))\n",
    "ef_ps1"
   ]
  },
  {
   "cell_type": "markdown",
   "metadata": {},
   "source": [
    "***\n",
    "* Preprocess email_feature strategies\n",
    "    * Impute **from_poi_to_this_person** using sample median or mean\n",
    "    * Impute missing values in **from_messages** and **to_messages** using sample median or mean\n",
    "    * Use **to_messages** and linear regression to impute missing values in **shared_receipt_with_poi**\n",
    "    * Engineer **ratio_to** feature by applying **shared_receipt_with_poi**/**to_messages**\n",
    "    * Engineer **ratio_from**feature by applying **shared_receipt_with_poi**/**from_messages**\n",
    "***\n",
    "* step 1: Impute **from_poi_to_this_person** using sample median or mean"
   ]
  },
  {
   "cell_type": "code",
   "execution_count": 160,
   "metadata": {
    "collapsed": false
   },
   "outputs": [
    {
     "name": "stdout",
     "output_type": "stream",
     "text": [
      "------medians------\n",
      "77.0 39.0\n",
      "42.0\n",
      "------means------\n",
      "107.2 68.2195121951\n",
      "75.862745098\n"
     ]
    }
   ],
   "source": [
    "pos_poi_to_person, neg_poi_to_person = group_seperator(df_ef['from_poi_to_this_person'], df_ef['poi'])\n",
    "median_pos_poi_to_person = pos_poi_to_person.median()\n",
    "median_neg_poi_to_person = neg_poi_to_person.median()\n",
    "avg_pos_poi_to_person = pos_poi_to_person.mean()\n",
    "avg_neg_poi_to_person = neg_poi_to_person.mean()\n",
    "print \"------medians------\"\n",
    "print median_pos_poi_to_person, median_neg_poi_to_person\n",
    "print df_ef['from_poi_to_this_person'].median()\n",
    "print \"------means------\"\n",
    "print avg_pos_poi_to_person, avg_neg_poi_to_person\n",
    "print df_ef['from_poi_to_this_person'].mean()"
   ]
  },
  {
   "cell_type": "markdown",
   "metadata": {},
   "source": [
    "Impute **from_poi_to_this_person** with median"
   ]
  },
  {
   "cell_type": "code",
   "execution_count": 161,
   "metadata": {
    "collapsed": false
   },
   "outputs": [
    {
     "name": "stdout",
     "output_type": "stream",
     "text": [
      "42.0\n"
     ]
    }
   ],
   "source": [
    "poitoperson_impute_param = features_train['from_poi_to_this_person'].median()\n",
    "print poitoperson_impute_param"
   ]
  },
  {
   "cell_type": "markdown",
   "metadata": {},
   "source": [
    "***\n",
    "* step 2: Impute missing values in from_messages and to_messages using sample median or mean"
   ]
  },
  {
   "cell_type": "code",
   "execution_count": 162,
   "metadata": {
    "collapsed": false
   },
   "outputs": [
    {
     "name": "stdout",
     "output_type": "stream",
     "text": [
      "------medians------\n",
      "44.5 40.0\n",
      "40.0\n",
      "------means------\n",
      "392.9 814.795918367\n",
      "743.288135593\n"
     ]
    }
   ],
   "source": [
    "pos_from, neg_from = group_seperator(df_ef['from_messages'], df_ef['poi'])\n",
    "median_pos_from = pos_from.median()\n",
    "median_neg_from = neg_from.median()\n",
    "avg_pos_from = pos_from.mean()\n",
    "avg_neg_from = neg_from.mean()\n",
    "print \"------medians------\"\n",
    "print median_pos_from, median_neg_from\n",
    "print df_ef['from_messages'].median()\n",
    "print \"------means------\"\n",
    "print avg_pos_from, avg_neg_from\n",
    "print df_ef['from_messages'].mean()"
   ]
  },
  {
   "cell_type": "markdown",
   "metadata": {},
   "source": [
    "Impute **from_messages** with sample median."
   ]
  },
  {
   "cell_type": "code",
   "execution_count": 164,
   "metadata": {
    "collapsed": false
   },
   "outputs": [
    {
     "name": "stdout",
     "output_type": "stream",
     "text": [
      "40.0\n"
     ]
    }
   ],
   "source": [
    "from_impute_param = features_train['from_messages'].median()\n",
    "print from_impute_param"
   ]
  },
  {
   "cell_type": "code",
   "execution_count": 165,
   "metadata": {
    "collapsed": false
   },
   "outputs": [
    {
     "name": "stdout",
     "output_type": "stream",
     "text": [
      "------medians------\n",
      "1875.0 1238.0\n",
      "1433.0\n",
      "------means------\n",
      "2759.8 2270.51020408\n",
      "2353.44067797\n"
     ]
    }
   ],
   "source": [
    "pos_to, neg_to = group_seperator(df_ef['to_messages'], df_ef['poi'])\n",
    "median_pos_to = pos_to.median()\n",
    "median_neg_to = neg_to.median()\n",
    "avg_pos_to = pos_to.mean()\n",
    "avg_neg_to = neg_to.mean()\n",
    "print \"------medians------\"\n",
    "print median_pos_to, median_neg_to\n",
    "print df_ef['to_messages'].median()\n",
    "print \"------means------\"\n",
    "print avg_pos_to, avg_neg_to\n",
    "print df_ef['to_messages'].mean()"
   ]
  },
  {
   "cell_type": "markdown",
   "metadata": {},
   "source": [
    "Impute **to_messages** with sample median"
   ]
  },
  {
   "cell_type": "code",
   "execution_count": 167,
   "metadata": {
    "collapsed": false
   },
   "outputs": [
    {
     "name": "stdout",
     "output_type": "stream",
     "text": [
      "1433.0\n"
     ]
    }
   ],
   "source": [
    "to_impute_param = features_train['to_messages'].median()\n",
    "print to_impute_param"
   ]
  },
  {
   "cell_type": "markdown",
   "metadata": {},
   "source": [
    "***\n",
    "* step 3: Use **to_messages** and linear regression to impute missing values in **shared_receipt_with_poi**"
   ]
  },
  {
   "cell_type": "code",
   "execution_count": 168,
   "metadata": {
    "collapsed": false
   },
   "outputs": [
    {
     "data": {
      "image/png": "[encoded data removed]",
      "text/plain": [
       "<matplotlib.figure.Figure at 0x129ad7410>"
      ]
     },
     "metadata": {},
     "output_type": "display_data"
    },
    {
     "data": {
      "text/plain": [
       "<ggplot: (312124833)>"
      ]
     },
     "execution_count": 168,
     "metadata": {},
     "output_type": "execute_result"
    }
   ],
   "source": [
    "# scatter plot\n",
    "ggplot(df_ef, aes(x='shared_receipt_with_poi',y='to_messages', color='poi')) + geom_point()"
   ]
  },
  {
   "cell_type": "code",
   "execution_count": 173,
   "metadata": {
    "collapsed": false
   },
   "outputs": [
    {
     "name": "stdout",
     "output_type": "stream",
     "text": [
      "Index([u'KAMINSKI WINCENTY J'], dtype='object')\n",
      "Index([u'BECK SALLY W', u'KITCHEN LOUISE', u'KEAN STEVEN J'], dtype='object')\n",
      "Index([u'SHAPIRO RICHARD S'], dtype='object')\n",
      "Index([u'BECK SALLY W', u'KAMINSKI WINCENTY J', u'KEAN STEVEN J',\n",
      "       u'KITCHEN LOUISE', u'SHAPIRO RICHARD S'],\n",
      "      dtype='object')\n"
     ]
    }
   ],
   "source": [
    "# idenfity outliers\n",
    "outlier_x = df_ef.index[(df_ef['to_messages']>4000) & (df_ef['shared_receipt_with_poi']<1000)]\n",
    "print outlier_x\n",
    "outlier_y = df_ef.index[(df_ef['to_messages']>7000) & (df_ef['shared_receipt_with_poi']<4000)]\n",
    "print outlier_y\n",
    "outlier_z = df_ef.index[(df_ef['to_messages']>15000)]\n",
    "print outlier_z\n",
    "outliers_share = outlier_x | outlier_y | outlier_z\n",
    "print outliers_share"
   ]
  },
  {
   "cell_type": "code",
   "execution_count": 174,
   "metadata": {
    "collapsed": false
   },
   "outputs": [
    {
     "name": "stdout",
     "output_type": "stream",
     "text": [
      "pearson_r:  0.940016433964\n",
      "coefficient of determination:  0.883630896123\n",
      "p value:  6.01785917198e-26\n"
     ]
    }
   ],
   "source": [
    "share_impute_params2 = slr_imputation(df_ef['to_messages'],\n",
    "                                      df_ef['shared_receipt_with_poi'],\n",
    "                                      outlier_ids = outliers_share)"
   ]
  },
  {
   "cell_type": "markdown",
   "metadata": {},
   "source": [
    "***\n",
    "* step 4: engineer **ratio_to** feature by applying **shared_receipt_with_poi**/**to_messages**\n",
    "* step 5: engineer **ratio_from**feature by applying **shared_receipt_with_poi**/**from_messages**"
   ]
  },
  {
   "cell_type": "markdown",
   "metadata": {},
   "source": [
    "***\n",
    "### Summary \n",
    "\n",
    "**Financial Features**\n",
    "    * salary - use sample mean to impute missing data ((exclude outliers) )\n",
    "    * bonus - use sample median to impute missing data\n",
    "    * total_stock_value - use sampe median to impute missing data\n",
    "    * exercised_stock_options - use imputed total_stock_value to linearly predict missing data (exclude outliers)\n",
    "    * restricted_stock - use imputed total_stock_value to linearly predict missing data (exclude outliers)\n",
    "    * long_term_incentive - use sample median to impute missing data\n",
    "\n",
    "**Email Features**\n",
    "    * from_poi_to_this_person - use sample median to impute missing data\n",
    "    * to_messages - use sample median to impute missing data\n",
    "    * shared_receipt_with_poi - use imputed to_messages to linearly predict missing data (exclude outliers)\n",
    "    * ratio_from - use sample median to impute from_messages, then calculate shared_receipt_with_poi/from_messages\n",
    "    * ratio_to - use impted to_messages, then calculate shared_receipt_with_poi/to_messages"
   ]
  },
  {
   "cell_type": "code",
   "execution_count": 175,
   "metadata": {
    "collapsed": false
   },
   "outputs": [
    {
     "data": {
      "text/plain": [
       "['salary',\n",
       " 'bonus',\n",
       " 'total_stock_value',\n",
       " 'exercised_stock_options',\n",
       " 'long_term_incentive',\n",
       " 'restricted_stock']"
      ]
     },
     "execution_count": 175,
     "metadata": {},
     "output_type": "execute_result"
    }
   ],
   "source": [
    "select_finanical_features"
   ]
  },
  {
   "cell_type": "code",
   "execution_count": null,
   "metadata": {
    "collapsed": true
   },
   "outputs": [],
   "source": []
  }
 ],
 "metadata": {
  "kernelspec": {
   "display_name": "Python 2",
   "language": "python",
   "name": "python2"
  },
  "language_info": {
   "codemirror_mode": {
    "name": "ipython",
    "version": 2
   },
   "file_extension": ".py",
   "mimetype": "text/x-python",
   "name": "python",
   "nbconvert_exporter": "python",
   "pygments_lexer": "ipython2",
   "version": "2.7.12"
  }
 },
 "nbformat": 4,
 "nbformat_minor": 0
}
