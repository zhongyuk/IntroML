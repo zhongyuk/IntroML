{
 "cells": [
  {
   "cell_type": "markdown",
   "metadata": {},
   "source": [
    "***\n",
    "**Summary**\n",
    "\n",
    "The enron dataset is initially explored in this notebook.\n",
    "* Features are first selected based on first human intuition of the dataset. Decision is made based on the explanation of the meaning of each variable, the missing value percentage, etc.\n",
    "* A bivariate exploratoy investigation is done upon each variable with respect to the response variable to further determine feature selection. In this process, an initial simple missing value filling technique is determined and being used.\n",
    "* Consider engineer new exploratory variables as features\n",
    "* Simple models are fitted using one exploratory variable (possibly with different missing value filling strategies) at a time. Further feature selection decision is made based upon the simple models' performances.\n",
    "\n",
    "***\n",
    "**Preview**\n",
    "\n",
    "In the next notebook:\n",
    "* Further feature selection decision will be made based upon the model performances using pooled features.\n",
    "* Model Parameter Tunning and Selection: Various models are fitted using the final selected features with different parameter settings, and the best model is selected based upon performances on test set.\n",
    "* Model performance is evaluated based on performance on cross validation set.\n",
    "***"
   ]
  },
  {
   "cell_type": "code",
   "execution_count": 1,
   "metadata": {
    "collapsed": false
   },
   "outputs": [],
   "source": [
    "import sys\n",
    "import pickle\n",
    "import numpy as np\n",
    "import pandas as pd\n",
    "import matplotlib.pyplot as plt\n",
    "sys.path.append(\"../tools/\")\n",
    "from feature_format import featureFormat, targetFeatureSplit\n",
    "from tester import dump_classifier_and_data\n",
    "from sklearn.linear_model import LinearRegression\n",
    "\n",
    "from sklearn.cross_validation import train_test_split\n",
    "from sklearn.naive_bayes import GaussianNB\n",
    "from sklearn.tree import DecisionTreeClassifier\n",
    "from sklearn.neighbors import KNeighborsClassifier\n",
    "from sklearn.svm import SVC\n",
    "from sklearn.ensemble import AdaBoostClassifier, RandomForestClassifier\n",
    "from sklearn.metrics import f1_score, confusion_matrix\n",
    "%matplotlib inline"
   ]
  },
  {
   "cell_type": "markdown",
   "metadata": {},
   "source": [
    "## Load Data"
   ]
  },
  {
   "cell_type": "code",
   "execution_count": 2,
   "metadata": {
    "collapsed": true
   },
   "outputs": [],
   "source": [
    "with open(\"final_project_dataset.pkl\", \"r\") as data_file:\n",
    "    data_dict = pickle.load(data_file)"
   ]
  },
  {
   "cell_type": "markdown",
   "metadata": {},
   "source": [
    "## Explore Data, Select Features, Remove Outliers\n",
    "**Convert data into numpy array and panda DataFrame, Human Intuition Feature Selection**"
   ]
  },
  {
   "cell_type": "code",
   "execution_count": 3,
   "metadata": {
    "collapsed": false
   },
   "outputs": [
    {
     "data": {
      "text/plain": [
       "146"
      ]
     },
     "execution_count": 3,
     "metadata": {},
     "output_type": "execute_result"
    }
   ],
   "source": [
    "len(data_dict)"
   ]
  },
  {
   "cell_type": "code",
   "execution_count": 4,
   "metadata": {
    "collapsed": false
   },
   "outputs": [],
   "source": [
    "my_dataset = data_dict\n",
    "features_list = ['poi', 'salary', 'bonus', 'expenses','from_messages',\\\n",
    "                 'from_poi_to_this_person', 'to_messages',\\\n",
    "                 'from_this_person_to_poi', 'shared_receipt_with_poi',\\\n",
    "                 'total_payments', 'total_stock_value'\n",
    "                ]\n",
    "# Note that the 'NaN' values are replaced with zero in featureFormat func\n",
    "data = featureFormat(my_dataset, features_list, remove_all_zeroes=False,\\\n",
    "                     sort_keys = True) \n",
    "labels, features = targetFeatureSplit(data)"
   ]
  },
  {
   "cell_type": "code",
   "execution_count": 5,
   "metadata": {
    "collapsed": true
   },
   "outputs": [],
   "source": [
    "index = sorted(data_dict.keys())"
   ]
  },
  {
   "cell_type": "code",
   "execution_count": 6,
   "metadata": {
    "collapsed": false
   },
   "outputs": [],
   "source": [
    "features_data = pd.DataFrame(features, index = index, \\\n",
    "                             columns = features_list[1:])\n",
    "labels_data = pd.Series(labels, index = index)"
   ]
  },
  {
   "cell_type": "code",
   "execution_count": 7,
   "metadata": {
    "collapsed": false
   },
   "outputs": [
    {
     "data": {
      "text/html": [
       "<div>\n",
       "<table border=\"1\" class=\"dataframe\">\n",
       "  <thead>\n",
       "    <tr style=\"text-align: right;\">\n",
       "      <th></th>\n",
       "      <th>salary</th>\n",
       "      <th>bonus</th>\n",
       "      <th>expenses</th>\n",
       "      <th>from_messages</th>\n",
       "      <th>from_poi_to_this_person</th>\n",
       "      <th>to_messages</th>\n",
       "      <th>from_this_person_to_poi</th>\n",
       "      <th>shared_receipt_with_poi</th>\n",
       "      <th>total_payments</th>\n",
       "      <th>total_stock_value</th>\n",
       "    </tr>\n",
       "  </thead>\n",
       "  <tbody>\n",
       "    <tr>\n",
       "      <th>ALLEN PHILLIP K</th>\n",
       "      <td>201955</td>\n",
       "      <td>4175000</td>\n",
       "      <td>13868</td>\n",
       "      <td>2195</td>\n",
       "      <td>47</td>\n",
       "      <td>2902</td>\n",
       "      <td>65</td>\n",
       "      <td>1407</td>\n",
       "      <td>4484442</td>\n",
       "      <td>1729541</td>\n",
       "    </tr>\n",
       "    <tr>\n",
       "      <th>BADUM JAMES P</th>\n",
       "      <td>0</td>\n",
       "      <td>0</td>\n",
       "      <td>3486</td>\n",
       "      <td>0</td>\n",
       "      <td>0</td>\n",
       "      <td>0</td>\n",
       "      <td>0</td>\n",
       "      <td>0</td>\n",
       "      <td>182466</td>\n",
       "      <td>257817</td>\n",
       "    </tr>\n",
       "  </tbody>\n",
       "</table>\n",
       "</div>"
      ],
      "text/plain": [
       "                 salary    bonus  expenses  from_messages  \\\n",
       "ALLEN PHILLIP K  201955  4175000     13868           2195   \n",
       "BADUM JAMES P         0        0      3486              0   \n",
       "\n",
       "                 from_poi_to_this_person  to_messages  \\\n",
       "ALLEN PHILLIP K                       47         2902   \n",
       "BADUM JAMES P                          0            0   \n",
       "\n",
       "                 from_this_person_to_poi  shared_receipt_with_poi  \\\n",
       "ALLEN PHILLIP K                       65                     1407   \n",
       "BADUM JAMES P                          0                        0   \n",
       "\n",
       "                 total_payments  total_stock_value  \n",
       "ALLEN PHILLIP K         4484442            1729541  \n",
       "BADUM JAMES P            182466             257817  "
      ]
     },
     "execution_count": 7,
     "metadata": {},
     "output_type": "execute_result"
    }
   ],
   "source": [
    "features_data.head(2)"
   ]
  },
  {
   "cell_type": "markdown",
   "metadata": {},
   "source": [
    "**Investigate missing values**"
   ]
  },
  {
   "cell_type": "code",
   "execution_count": 8,
   "metadata": {
    "collapsed": false
   },
   "outputs": [],
   "source": [
    "features_data_bool = features_data==0\n",
    "# sum up values of each column for each row\n",
    "row_zeros = features_data_bool.sum(axis=1)"
   ]
  },
  {
   "cell_type": "code",
   "execution_count": 9,
   "metadata": {
    "collapsed": false
   },
   "outputs": [
    {
     "name": "stdout",
     "output_type": "stream",
     "text": [
      "2\n"
     ]
    }
   ],
   "source": [
    "# count how many rows have NaNs/zeroes in all features\n",
    "print sum(row_zeros==len(features_list)-1)"
   ]
  },
  {
   "cell_type": "markdown",
   "metadata": {},
   "source": [
    "There are 2 samples have missing values in all the 10 features. Find these two samples and exclude them from the data set."
   ]
  },
  {
   "cell_type": "code",
   "execution_count": 10,
   "metadata": {
    "collapsed": false
   },
   "outputs": [],
   "source": [
    "miss_val_index = row_zeros[row_zeros==len(features_list)-1].index"
   ]
  },
  {
   "cell_type": "code",
   "execution_count": 11,
   "metadata": {
    "collapsed": false
   },
   "outputs": [],
   "source": [
    "features_data.drop(miss_val_index, inplace=True)\n",
    "labels_data.drop(miss_val_index, inplace=True)"
   ]
  },
  {
   "cell_type": "code",
   "execution_count": 12,
   "metadata": {
    "collapsed": true
   },
   "outputs": [],
   "source": [
    "# investigate the percentage missing vals of each feature\n",
    "col_zeros = features_data_bool.sum(axis=0)"
   ]
  },
  {
   "cell_type": "code",
   "execution_count": 13,
   "metadata": {
    "collapsed": false
   },
   "outputs": [
    {
     "name": "stdout",
     "output_type": "stream",
     "text": [
      "salary                     0.354167\n",
      "bonus                      0.444444\n",
      "expenses                   0.354167\n",
      "from_messages              0.416667\n",
      "from_poi_to_this_person    0.500000\n",
      "to_messages                0.416667\n",
      "from_this_person_to_poi    0.555556\n",
      "shared_receipt_with_poi    0.416667\n",
      "total_payments             0.145833\n",
      "total_stock_value          0.138889\n",
      "dtype: float64\n"
     ]
    }
   ],
   "source": [
    "# percentage of missing values of each feature\n",
    "print col_zeros/float(len(features_data))"
   ]
  },
  {
   "cell_type": "markdown",
   "metadata": {},
   "source": [
    "* high missing values (>40%): from_poi_to_this_person, from_this_person_to_poi, bonus, from_messages, to_messages, shared_receipt_with_poi \n",
    "* median missing values (20%~40%): salary, expenses\n",
    "* low missing values (<20%): total_payments, total_stock_value"
   ]
  },
  {
   "cell_type": "markdown",
   "metadata": {},
   "source": [
    "** Bivariant Exploratory-Response Variable Feature Selection- Investigate current features' relation with outcome**\n",
    "* **salary** and **bonus**"
   ]
  },
  {
   "cell_type": "code",
   "execution_count": 14,
   "metadata": {
    "collapsed": false
   },
   "outputs": [],
   "source": [
    "def bivar_exp(feature_name):\n",
    "    '''a func for exploring relationship btw response variable-POI and explainatory variable.\n",
    "       Given that most the features are numerical, outcome variable is categorical variable, (True vs False),\n",
    "       a boxplot will be plotted to demonstrate the distribution difference.\n",
    "    '''\n",
    "    boxplot_data = [features_data[feature_name][(labels_data==1).values].values,\\\n",
    "                features_data[feature_name][(labels_data==0).values].values]\n",
    "    plt.boxplot(boxplot_data, labels= ['POI', 'non-POI'])\n",
    "    return"
   ]
  },
  {
   "cell_type": "code",
   "execution_count": 15,
   "metadata": {
    "collapsed": false
   },
   "outputs": [
    {
     "data": {
      "text/plain": [
       "<matplotlib.collections.PathCollection at 0x11257ded0>"
      ]
     },
     "execution_count": 15,
     "metadata": {},
     "output_type": "execute_result"
    },
    {
     "data": {
      "image/png": "[encoded data removed]",
      "text/plain": [
       "<matplotlib.figure.Figure at 0x110090f50>"
      ]
     },
     "metadata": {},
     "output_type": "display_data"
    }
   ],
   "source": [
    "plt.scatter(features_data['salary'], features_data['bonus'], c=labels_data.values)"
   ]
  },
  {
   "cell_type": "markdown",
   "metadata": {},
   "source": [
    "Identify an abvious outlier. Investigate the outlier."
   ]
  },
  {
   "cell_type": "code",
   "execution_count": 16,
   "metadata": {
    "collapsed": false
   },
   "outputs": [],
   "source": [
    "outlier1_index = features_data.index[features_data['salary']==features_data['salary'].max()]"
   ]
  },
  {
   "cell_type": "markdown",
   "metadata": {},
   "source": [
    "Remove index 'TOTAL' as an outlier. Replot the scatter plot."
   ]
  },
  {
   "cell_type": "code",
   "execution_count": 17,
   "metadata": {
    "collapsed": false
   },
   "outputs": [],
   "source": [
    "features_data.drop(outlier1_index, inplace=True)\n",
    "labels_data.drop(outlier1_index, inplace=True)"
   ]
  },
  {
   "cell_type": "code",
   "execution_count": 18,
   "metadata": {
    "collapsed": false
   },
   "outputs": [
    {
     "data": {
      "text/plain": [
       "<matplotlib.text.Text at 0x112b2be50>"
      ]
     },
     "execution_count": 18,
     "metadata": {},
     "output_type": "execute_result"
    },
    {
     "data": {
      "image/png": "[encoded data removed]",
      "text/plain": [
       "<matplotlib.figure.Figure at 0x1125b25d0>"
      ]
     },
     "metadata": {},
     "output_type": "display_data"
    }
   ],
   "source": [
    "plt.scatter(features_data['salary'], features_data['bonus'], c=labels_data.values, s=200)\n",
    "plt.xlabel('salary')\n",
    "plt.ylabel('bonus')"
   ]
  },
  {
   "cell_type": "markdown",
   "metadata": {},
   "source": [
    "Scatter plot shows that, **salary** and **bonus** have certain level of linear correlation, response variable **poi** does not stand alone in certain area in the scatter plot. Whether **salary** and/or **bonus** will be a good predictor for **poi** requires individual investigation."
   ]
  },
  {
   "cell_type": "code",
   "execution_count": 19,
   "metadata": {
    "collapsed": false
   },
   "outputs": [
    {
     "data": {
      "text/plain": [
       "<matplotlib.text.Text at 0x112bd5d50>"
      ]
     },
     "execution_count": 19,
     "metadata": {},
     "output_type": "execute_result"
    },
    {
     "data": {
      "image/png": "[encoded data removed]",
      "text/plain": [
       "<matplotlib.figure.Figure at 0x112b3e890>"
      ]
     },
     "metadata": {},
     "output_type": "display_data"
    }
   ],
   "source": [
    "boxplot_salary = [features_data['salary'][(labels_data==1).values].values,\\\n",
    "                features_data['salary'][(labels_data==0).values].values]\n",
    "plt.boxplot(boxplot_salary, labels= ['POI', 'non-POI'])\n",
    "plt.title('salary')"
   ]
  },
  {
   "cell_type": "code",
   "execution_count": 20,
   "metadata": {
    "collapsed": false
   },
   "outputs": [
    {
     "data": {
      "text/plain": [
       "<matplotlib.text.Text at 0x112b2b8d0>"
      ]
     },
     "execution_count": 20,
     "metadata": {},
     "output_type": "execute_result"
    },
    {
     "data": {
      "image/png": "[encoded data removed]",
      "text/plain": [
       "<matplotlib.figure.Figure at 0x1098190d0>"
      ]
     },
     "metadata": {},
     "output_type": "display_data"
    }
   ],
   "source": [
    "boxplot_bonus = [features_data['bonus'][(labels_data==1).values].values,\\\n",
    "                features_data['bonus'][(labels_data==0).values].values]\n",
    "plt.boxplot(boxplot_bonus, labels= ['POI', 'non-POI'])\n",
    "plt.title('bonus')"
   ]
  },
  {
   "cell_type": "code",
   "execution_count": 21,
   "metadata": {
    "collapsed": false
   },
   "outputs": [],
   "source": [
    "lg = LinearRegression()\n",
    "lg.fit(np.reshape(features_data['salary'], (len(features_data),1)), features_data['bonus'])\n",
    "pred = lg.predict(np.reshape(features_data['salary'], (len(features_data),1)))\n",
    "residuals = pred - features_data['bonus']"
   ]
  },
  {
   "cell_type": "code",
   "execution_count": 22,
   "metadata": {
    "collapsed": false
   },
   "outputs": [
    {
     "data": {
      "text/plain": [
       "<matplotlib.text.Text at 0x113a3ff90>"
      ]
     },
     "execution_count": 22,
     "metadata": {},
     "output_type": "execute_result"
    },
    {
     "data": {
      "image/png": "[encoded data removed]",
      "text/plain": [
       "<matplotlib.figure.Figure at 0x112b83950>"
      ]
     },
     "metadata": {},
     "output_type": "display_data"
    }
   ],
   "source": [
    "plt.subplot(1,3,1)\n",
    "boxplot_salary = [features_data['salary'][(labels_data==1).values].values,\\\n",
    "                features_data['salary'][(labels_data==0).values].values]\n",
    "plt.boxplot(boxplot_salary, labels= ['POI', 'non-POI'])\n",
    "plt.title('salary')\n",
    "plt.subplot(1,3,2)\n",
    "boxplot_salary = [features_data['bonus'][(labels_data==1).values].values,\\\n",
    "                features_data['bonus'][(labels_data==0).values].values]\n",
    "plt.boxplot(boxplot_salary, labels= ['POI', 'non-POI'])\n",
    "plt.title('salary')\n",
    "plt.subplot(1,3,3)\n",
    "boxplot_rsd = [residuals[(labels_data==1).values].values,\\\n",
    "               residuals[(labels_data==0).values].values]\n",
    "plt.boxplot(boxplot_bonus, labels= ['POI', 'non-POI'])\n",
    "plt.title('residuals')"
   ]
  },
  {
   "cell_type": "code",
   "execution_count": 23,
   "metadata": {
    "collapsed": false
   },
   "outputs": [
    {
     "data": {
      "text/plain": [
       "<matplotlib.collections.PathCollection at 0x113e05c10>"
      ]
     },
     "execution_count": 23,
     "metadata": {},
     "output_type": "execute_result"
    },
    {
     "data": {
      "image/png": "[encoded data removed]",
      "text/plain": [
       "<matplotlib.figure.Figure at 0x112e74250>"
      ]
     },
     "metadata": {},
     "output_type": "display_data"
    }
   ],
   "source": [
    "plt.subplot(1,2,1)\n",
    "plt.scatter(features_data['salary'][(labels_data==1).values].values,\\\n",
    "            features_data['bonus'][(labels_data==1).values].values)\n",
    "plt.subplot(1,2,2)\n",
    "plt.scatter(features_data['salary'][(labels_data==0).values].values,\\\n",
    "            features_data['bonus'][(labels_data==0).values].values)"
   ]
  },
  {
   "cell_type": "markdown",
   "metadata": {},
   "source": [
    "The distributions of salary and bonus are distringuishable: the values of **salary** and **bonus** of **POI** tend to be higher than **non-POI**. But in both **POI** and **non-POI**, the increasing **salary** is correlated with an increasing **bonus**. The residuals distribution is mostly similar to the **bonus** distribution, the seperation of **median** between **POI** and **non-POI** in **bonus** might make **bonus** a better indicator than **salary**.\n",
    "***\n",
    "* **expenses**"
   ]
  },
  {
   "cell_type": "code",
   "execution_count": 24,
   "metadata": {
    "collapsed": false
   },
   "outputs": [
    {
     "data": {
      "text/plain": [
       "{'boxes': [<matplotlib.lines.Line2D at 0x113f8d790>,\n",
       "  <matplotlib.lines.Line2D at 0x113fa7e50>],\n",
       " 'caps': [<matplotlib.lines.Line2D at 0x113f9b6d0>,\n",
       "  <matplotlib.lines.Line2D at 0x113f9bd10>,\n",
       "  <matplotlib.lines.Line2D at 0x113fc0310>,\n",
       "  <matplotlib.lines.Line2D at 0x113fc0950>],\n",
       " 'fliers': [<matplotlib.lines.Line2D at 0x113fa79d0>,\n",
       "  <matplotlib.lines.Line2D at 0x114101610>],\n",
       " 'means': [],\n",
       " 'medians': [<matplotlib.lines.Line2D at 0x113fa7390>,\n",
       "  <matplotlib.lines.Line2D at 0x113fc0f90>],\n",
       " 'whiskers': [<matplotlib.lines.Line2D at 0x113f8d990>,\n",
       "  <matplotlib.lines.Line2D at 0x113f9b090>,\n",
       "  <matplotlib.lines.Line2D at 0x113fb4650>,\n",
       "  <matplotlib.lines.Line2D at 0x113fb4c90>]}"
      ]
     },
     "execution_count": 24,
     "metadata": {},
     "output_type": "execute_result"
    },
    {
     "data": {
      "image/png": "[encoded data removed]",
      "text/plain": [
       "<matplotlib.figure.Figure at 0x112a7ff10>"
      ]
     },
     "metadata": {},
     "output_type": "display_data"
    }
   ],
   "source": [
    "boxplot_exp = [features_data['expenses'][(labels_data==1).values].values,\\\n",
    "                features_data['expenses'][(labels_data==0).values].values]\n",
    "plt.boxplot(boxplot_exp, labels= ['POI', 'non-POI'])"
   ]
  },
  {
   "cell_type": "code",
   "execution_count": 278,
   "metadata": {
    "collapsed": false
   },
   "outputs": [
    {
     "data": {
      "text/plain": [
       "<matplotlib.text.Text at 0x115733250>"
      ]
     },
     "execution_count": 278,
     "metadata": {},
     "output_type": "execute_result"
    },
    {
     "data": {
      "image/png": "[encoded data removed]",
      "text/plain": [
       "<matplotlib.figure.Figure at 0x1158e2210>"
      ]
     },
     "metadata": {},
     "output_type": "display_data"
    }
   ],
   "source": [
    "#plt.subplot(1,2,1)\n",
    "plt.scatter(features_data['total_stock_value'], features_data['total_payments'], c=labels_data.values, s=200)\n",
    "plt.xlabel('total_stock_value')\n",
    "plt.ylabel('total_payments')"
   ]
  },
  {
   "cell_type": "markdown",
   "metadata": {},
   "source": [
    "**expenses** of **POI** seems to be higher than **non-POI** generally, but not a very distinguishable seperation. **salary** demonstrates certain level of linear correlation with respect to expenses, **bonus** has a weaker linear correlation. But the **POI** points and **non-POI** points are all blend in with each other. Drop **expenses** as a features.\n",
    "***\n",
    "* **total_payments** and **total_stock_value**"
   ]
  },
  {
   "cell_type": "code",
   "execution_count": 26,
   "metadata": {
    "collapsed": false
   },
   "outputs": [
    {
     "data": {
      "text/plain": [
       "{'boxes': [<matplotlib.lines.Line2D at 0x114566ad0>,\n",
       "  <matplotlib.lines.Line2D at 0x114843210>],\n",
       " 'caps': [<matplotlib.lines.Line2D at 0x11481e890>,\n",
       "  <matplotlib.lines.Line2D at 0x11481eed0>,\n",
       "  <matplotlib.lines.Line2D at 0x11484e4d0>,\n",
       "  <matplotlib.lines.Line2D at 0x11484eb10>],\n",
       " 'fliers': [<matplotlib.lines.Line2D at 0x114836b90>,\n",
       "  <matplotlib.lines.Line2D at 0x11485b7d0>],\n",
       " 'means': [],\n",
       " 'medians': [<matplotlib.lines.Line2D at 0x114836550>,\n",
       "  <matplotlib.lines.Line2D at 0x11485b190>],\n",
       " 'whiskers': [<matplotlib.lines.Line2D at 0x114566610>,\n",
       "  <matplotlib.lines.Line2D at 0x11481e250>,\n",
       "  <matplotlib.lines.Line2D at 0x114843810>,\n",
       "  <matplotlib.lines.Line2D at 0x114843e50>]}"
      ]
     },
     "execution_count": 26,
     "metadata": {},
     "output_type": "execute_result"
    },
    {
     "data": {
      "image/png": "[encoded data removed]",
      "text/plain": [
       "<matplotlib.figure.Figure at 0x11452ab10>"
      ]
     },
     "metadata": {},
     "output_type": "display_data"
    }
   ],
   "source": [
    "plt.subplot(1,2,1)\n",
    "boxplot_totpay = [features_data['total_payments'][(labels_data==1).values].values,\\\n",
    "                features_data['total_payments'][(labels_data==0).values].values]\n",
    "plt.boxplot(boxplot_totpay, labels= ['POI', 'non-POI'])\n",
    "plt.subplot(1,2,2)\n",
    "boxplot_totstc = [features_data['total_stock_value'][(labels_data==1).values].values,\\\n",
    "                features_data['total_stock_value'][(labels_data==0).values].values]\n",
    "plt.boxplot(boxplot_totstc, labels= ['POI', 'non-POI'])"
   ]
  },
  {
   "cell_type": "code",
   "execution_count": 27,
   "metadata": {
    "collapsed": false
   },
   "outputs": [],
   "source": [
    "# Remove the outlier in **total_payments** to see the districution characteristics\n",
    "features_temp = features_data.drop(\\\n",
    "                features_data.index[features_data['total_payments']==features_data['total_payments'].max()])\n",
    "labels_temp = labels_data.drop(\\\n",
    "              features_data.index[features_data['total_payments']==features_data['total_payments'].max()])"
   ]
  },
  {
   "cell_type": "code",
   "execution_count": 28,
   "metadata": {
    "collapsed": false
   },
   "outputs": [
    {
     "data": {
      "text/plain": [
       "{'boxes': [<matplotlib.lines.Line2D at 0x1149d51d0>,\n",
       "  <matplotlib.lines.Line2D at 0x1149eca50>],\n",
       " 'caps': [<matplotlib.lines.Line2D at 0x1149e1110>,\n",
       "  <matplotlib.lines.Line2D at 0x1149e1750>,\n",
       "  <matplotlib.lines.Line2D at 0x1149fad10>,\n",
       "  <matplotlib.lines.Line2D at 0x114a05390>],\n",
       " 'fliers': [<matplotlib.lines.Line2D at 0x1149ec410>,\n",
       "  <matplotlib.lines.Line2D at 0x114a10050>],\n",
       " 'means': [],\n",
       " 'medians': [<matplotlib.lines.Line2D at 0x1149e1d90>,\n",
       "  <matplotlib.lines.Line2D at 0x114a059d0>],\n",
       " 'whiskers': [<matplotlib.lines.Line2D at 0x1149d53d0>,\n",
       "  <matplotlib.lines.Line2D at 0x1149d5a90>,\n",
       "  <matplotlib.lines.Line2D at 0x1149fa090>,\n",
       "  <matplotlib.lines.Line2D at 0x1149fa6d0>]}"
      ]
     },
     "execution_count": 28,
     "metadata": {},
     "output_type": "execute_result"
    },
    {
     "data": {
      "image/png": "[encoded data removed]",
      "text/plain": [
       "<matplotlib.figure.Figure at 0x114544410>"
      ]
     },
     "metadata": {},
     "output_type": "display_data"
    }
   ],
   "source": [
    "boxplot_temp = [features_temp['total_payments'][(labels_temp==1).values].values,\\\n",
    "                features_temp['total_payments'][(labels_temp==0).values].values]\n",
    "plt.boxplot(boxplot_temp, labels= ['POI', 'non-POI'])"
   ]
  },
  {
   "cell_type": "code",
   "execution_count": null,
   "metadata": {
    "collapsed": true
   },
   "outputs": [],
   "source": [
    "plt.subplot(1,2,1)\n",
    "plt.scatter(features_data['salary'], features_data['bonus'], c=labels_data.values, s=200)\n",
    "plt.xlabel('salary')\n",
    "plt.ylabel('expenses')\n",
    "plt.subplot(1,2,2)\n",
    "plt.scatter(features_data['bonus'], features_data['expenses'], c=labels_data.values, s=200)\n",
    "plt.xlabel('bonus')\n",
    "plt.ylabel('expenses')"
   ]
  },
  {
   "cell_type": "markdown",
   "metadata": {},
   "source": [
    "**total_stock_value** could potentially be a good predictor for **POI**, drop **total_payments** as a feature.\n",
    "***\n",
    "* **from_messages** and **from_this_person_to_poi**"
   ]
  },
  {
   "cell_type": "code",
   "execution_count": 29,
   "metadata": {
    "collapsed": false
   },
   "outputs": [],
   "source": [
    "index = features_data.index[features_data['from_this_person_to_poi']>200]\n",
    "temp_features = features_data.drop(index)\n",
    "temp_labels = labels_data.drop(index)"
   ]
  },
  {
   "cell_type": "code",
   "execution_count": 30,
   "metadata": {
    "collapsed": false
   },
   "outputs": [
    {
     "data": {
      "text/plain": [
       "{'boxes': [<matplotlib.lines.Line2D at 0x114b5d450>,\n",
       "  <matplotlib.lines.Line2D at 0x114b78cd0>],\n",
       " 'caps': [<matplotlib.lines.Line2D at 0x114b6b390>,\n",
       "  <matplotlib.lines.Line2D at 0x114b6b9d0>,\n",
       "  <matplotlib.lines.Line2D at 0x114b83f90>,\n",
       "  <matplotlib.lines.Line2D at 0x114b8e610>],\n",
       " 'fliers': [<matplotlib.lines.Line2D at 0x114b78690>,\n",
       "  <matplotlib.lines.Line2D at 0x114b9b2d0>],\n",
       " 'means': [],\n",
       " 'medians': [<matplotlib.lines.Line2D at 0x114b78050>,\n",
       "  <matplotlib.lines.Line2D at 0x114b8ec50>],\n",
       " 'whiskers': [<matplotlib.lines.Line2D at 0x114b5d650>,\n",
       "  <matplotlib.lines.Line2D at 0x114b5dd10>,\n",
       "  <matplotlib.lines.Line2D at 0x114b83310>,\n",
       "  <matplotlib.lines.Line2D at 0x114b83950>]}"
      ]
     },
     "execution_count": 30,
     "metadata": {},
     "output_type": "execute_result"
    },
    {
     "data": {
      "image/png": "[encoded data removed]",
      "text/plain": [
       "<matplotlib.figure.Figure at 0x113e9c590>"
      ]
     },
     "metadata": {},
     "output_type": "display_data"
    }
   ],
   "source": [
    "boxplot_to_poi = [temp_features['from_this_person_to_poi'][(temp_labels==1).values].values,\\\n",
    "                  temp_features['from_this_person_to_poi'][(temp_labels==0).values].values]\n",
    "plt.boxplot(boxplot_to_poi, labels= ['POI', 'non-POI'])"
   ]
  },
  {
   "cell_type": "markdown",
   "metadata": {},
   "source": [
    "**from_this_person_to_poi** is not a good predictor. It also might makes sense since a lot of the **POI** are important person in the company, therefore a lot of people might send emails to them due to work necessity. Drop **from_this_person_to_poi** as a predictor."
   ]
  },
  {
   "cell_type": "code",
   "execution_count": 31,
   "metadata": {
    "collapsed": false
   },
   "outputs": [],
   "source": [
    "def comp_ratio_from(row):\n",
    "    if row['from_messages']==0:\n",
    "        return None\n",
    "    else:\n",
    "        return float(row['from_this_person_to_poi'])/row['from_messages']\n",
    "from_ratio = features_data.apply(comp_ratio_from,axis=1)"
   ]
  },
  {
   "cell_type": "code",
   "execution_count": 32,
   "metadata": {
    "collapsed": false
   },
   "outputs": [
    {
     "data": {
      "text/plain": [
       "{'boxes': [<matplotlib.lines.Line2D at 0x114deea50>,\n",
       "  <matplotlib.lines.Line2D at 0x114e14310>],\n",
       " 'caps': [<matplotlib.lines.Line2D at 0x114dfd990>,\n",
       "  <matplotlib.lines.Line2D at 0x114dfdfd0>,\n",
       "  <matplotlib.lines.Line2D at 0x114e215d0>,\n",
       "  <matplotlib.lines.Line2D at 0x114e21c10>],\n",
       " 'fliers': [<matplotlib.lines.Line2D at 0x114e09c90>,\n",
       "  <matplotlib.lines.Line2D at 0x114e2d8d0>],\n",
       " 'means': [],\n",
       " 'medians': [<matplotlib.lines.Line2D at 0x114e09650>,\n",
       "  <matplotlib.lines.Line2D at 0x114e2d290>],\n",
       " 'whiskers': [<matplotlib.lines.Line2D at 0x114deec50>,\n",
       "  <matplotlib.lines.Line2D at 0x114dfd350>,\n",
       "  <matplotlib.lines.Line2D at 0x114e14910>,\n",
       "  <matplotlib.lines.Line2D at 0x114e14f50>]}"
      ]
     },
     "execution_count": 32,
     "metadata": {},
     "output_type": "execute_result"
    },
    {
     "data": {
      "image/png": "[encoded data removed]",
      "text/plain": [
       "<matplotlib.figure.Figure at 0x114a68e10>"
      ]
     },
     "metadata": {},
     "output_type": "display_data"
    }
   ],
   "source": [
    "boxplot_from_ratio = [from_ratio[(labels_data==1).values].dropna().values,\\\n",
    "                      from_ratio[(labels_data==0).values].dropna().values]\n",
    "plt.boxplot(boxplot_from_ratio, labels= ['POI', 'non-POI'])"
   ]
  },
  {
   "cell_type": "code",
   "execution_count": 33,
   "metadata": {
    "collapsed": false
   },
   "outputs": [
    {
     "name": "stdout",
     "output_type": "stream",
     "text": [
      "mean of POI's from_person_to_poi/from_messages ratio:  0.345469813626\n",
      "mean of non-POI's from_person_to_poi/from_messages ratio:  0.152669361977\n"
     ]
    }
   ],
   "source": [
    "print \"mean of POI's from_person_to_poi/from_messages ratio: \", boxplot_from_ratio[0].mean()\n",
    "print \"mean of non-POI's from_person_to_poi/from_messages ratio: \", boxplot_from_ratio[1].mean()"
   ]
  },
  {
   "cell_type": "code",
   "execution_count": 34,
   "metadata": {
    "collapsed": false
   },
   "outputs": [
    {
     "name": "stdout",
     "output_type": "stream",
     "text": [
      "overall mean:  0.184055482013\n"
     ]
    }
   ],
   "source": [
    "print \"overall mean: \", (boxplot_from_ratio[0].mean()*len(boxplot_from_ratio[0])+ \\\n",
    "                         boxplot_from_ratio[1].mean()*len(boxplot_from_ratio[1]))/ \\\n",
    "                        (len(boxplot_from_ratio[0]) + len(boxplot_from_ratio[1]))"
   ]
  },
  {
   "cell_type": "markdown",
   "metadata": {},
   "source": [
    "The ratio of **from_this_person_to_poi**/**from_messages** is potentially a good indicator for predicting **POI**.\n",
    "\n",
    "Investigate the points with missing **from_messages**."
   ]
  },
  {
   "cell_type": "code",
   "execution_count": 35,
   "metadata": {
    "collapsed": false
   },
   "outputs": [
    {
     "name": "stdout",
     "output_type": "stream",
     "text": [
      "57\n"
     ]
    }
   ],
   "source": [
    "miss_from_index = set(from_ratio.index[from_ratio.isnull()])\n",
    "print len(miss_from_index)"
   ]
  },
  {
   "cell_type": "code",
   "execution_count": 36,
   "metadata": {
    "collapsed": true
   },
   "outputs": [],
   "source": [
    "pois = set(labels_data.index[labels_data==1])"
   ]
  },
  {
   "cell_type": "code",
   "execution_count": 37,
   "metadata": {
    "collapsed": false
   },
   "outputs": [
    {
     "name": "stdout",
     "output_type": "stream",
     "text": [
      "set(['HIRKO JOSEPH', 'FASTOW ANDREW S', 'KOPPER MICHAEL J', 'YEAGER F SCOTT'])\n"
     ]
    }
   ],
   "source": [
    "print (miss_from_index & pois)"
   ]
  },
  {
   "cell_type": "code",
   "execution_count": 38,
   "metadata": {
    "collapsed": false
   },
   "outputs": [
    {
     "data": {
      "image/png": "[encoded data removed]",
      "text/plain": [
       "<matplotlib.figure.Figure at 0x113e6a090>"
      ]
     },
     "metadata": {},
     "output_type": "display_data"
    }
   ],
   "source": [
    "bivar_exp('from_this_person_to_poi') #bivar_exp(\"from_messages\")"
   ]
  },
  {
   "cell_type": "markdown",
   "metadata": {},
   "source": [
    "Among the 57 samples with missing values in **from_messages**, there are 4 samples are POI. Since filling in values with 0 will cause the result biased towards **non-POI**, whereas filling in a value too high will biase towards **POI**. Therefore plan to fill in the missing value with the overall mean of available values: **0.1841**. Since it's above the average of **non-POI**, but lower than the average of **POI**. Drop **from_this_person_to_poi** and **from_messages** as features.\n",
    "***\n",
    "* **to_messages** and **from_poi_to_this_person**"
   ]
  },
  {
   "cell_type": "code",
   "execution_count": 39,
   "metadata": {
    "collapsed": true
   },
   "outputs": [],
   "source": [
    "def comp_ratio_to(row):\n",
    "    if row['to_messages']==0:\n",
    "        return None\n",
    "    else:\n",
    "        return float(row['from_poi_to_this_person'])/row['to_messages']\n",
    "to_ratio = features_data.apply(comp_ratio_to,axis=1)"
   ]
  },
  {
   "cell_type": "code",
   "execution_count": 40,
   "metadata": {
    "collapsed": false
   },
   "outputs": [
    {
     "data": {
      "text/plain": [
       "{'boxes': [<matplotlib.lines.Line2D at 0x1150e0a10>,\n",
       "  <matplotlib.lines.Line2D at 0x1151072d0>],\n",
       " 'caps': [<matplotlib.lines.Line2D at 0x1150ee950>,\n",
       "  <matplotlib.lines.Line2D at 0x1150eef90>,\n",
       "  <matplotlib.lines.Line2D at 0x115112590>,\n",
       "  <matplotlib.lines.Line2D at 0x115112bd0>],\n",
       " 'fliers': [<matplotlib.lines.Line2D at 0x1150fbc50>,\n",
       "  <matplotlib.lines.Line2D at 0x11511e890>],\n",
       " 'means': [],\n",
       " 'medians': [<matplotlib.lines.Line2D at 0x1150fb610>,\n",
       "  <matplotlib.lines.Line2D at 0x11511e250>],\n",
       " 'whiskers': [<matplotlib.lines.Line2D at 0x1150e0c10>,\n",
       "  <matplotlib.lines.Line2D at 0x1150ee310>,\n",
       "  <matplotlib.lines.Line2D at 0x1151078d0>,\n",
       "  <matplotlib.lines.Line2D at 0x115107f10>]}"
      ]
     },
     "execution_count": 40,
     "metadata": {},
     "output_type": "execute_result"
    },
    {
     "data": {
      "image/png": "[encoded data removed]",
      "text/plain": [
       "<matplotlib.figure.Figure at 0x114a262d0>"
      ]
     },
     "metadata": {},
     "output_type": "display_data"
    }
   ],
   "source": [
    "boxplot_to_ratio = [to_ratio[(labels_data==1).values].dropna().values,\\\n",
    "                      to_ratio[(labels_data==0).values].dropna().values]\n",
    "plt.boxplot(boxplot_to_ratio, labels= ['POI', 'non-POI'])"
   ]
  },
  {
   "cell_type": "code",
   "execution_count": 41,
   "metadata": {
    "collapsed": false
   },
   "outputs": [
    {
     "name": "stdout",
     "output_type": "stream",
     "text": [
      "mean of POI's from_poi_to_this_person/to_messages ratio:  0.0475067013416\n",
      "mean of non-POI's from_poi_to_this_person/to_messages ratio:  0.0361072546128\n"
     ]
    }
   ],
   "source": [
    "print \"mean of POI's from_poi_to_this_person/to_messages ratio: \", boxplot_to_ratio[0].mean()\n",
    "print \"mean of non-POI's from_poi_to_this_person/to_messages ratio: \", boxplot_to_ratio[1].mean()"
   ]
  },
  {
   "cell_type": "code",
   "execution_count": 42,
   "metadata": {
    "collapsed": false
   },
   "outputs": [
    {
     "name": "stdout",
     "output_type": "stream",
     "text": [
      "overall mean:  0.0379629784989\n"
     ]
    }
   ],
   "source": [
    "print \"overall mean: \", (boxplot_to_ratio[0].mean()*len(boxplot_to_ratio[0])+ \\\n",
    "                         boxplot_to_ratio[1].mean()*len(boxplot_to_ratio[1]))/ \\\n",
    "                        (len(boxplot_to_ratio[0]) + len(boxplot_to_ratio[1]))"
   ]
  },
  {
   "cell_type": "code",
   "execution_count": 43,
   "metadata": {
    "collapsed": false
   },
   "outputs": [
    {
     "name": "stdout",
     "output_type": "stream",
     "text": [
      "57\n"
     ]
    }
   ],
   "source": [
    "miss_to_index = set(from_ratio.index[from_ratio.isnull()])\n",
    "print len(miss_to_index)"
   ]
  },
  {
   "cell_type": "code",
   "execution_count": 44,
   "metadata": {
    "collapsed": false
   },
   "outputs": [
    {
     "name": "stdout",
     "output_type": "stream",
     "text": [
      "set(['HIRKO JOSEPH', 'FASTOW ANDREW S', 'KOPPER MICHAEL J', 'YEAGER F SCOTT'])\n"
     ]
    }
   ],
   "source": [
    "print (miss_to_index & pois)"
   ]
  },
  {
   "cell_type": "markdown",
   "metadata": {},
   "source": [
    "The **from_poi_to_this_person**/**to_message** ratio does not distinguish **POI** and **non-POI** groups ver well. Although the samples with missing values in **to_message** and **from_messages** are probably the same samples."
   ]
  },
  {
   "cell_type": "code",
   "execution_count": 45,
   "metadata": {
    "collapsed": false
   },
   "outputs": [
    {
     "data": {
      "text/plain": [
       "{'boxes': [<matplotlib.lines.Line2D at 0x114fae390>,\n",
       "  <matplotlib.lines.Line2D at 0x114e98250>],\n",
       " 'caps': [<matplotlib.lines.Line2D at 0x114bd5bd0>,\n",
       "  <matplotlib.lines.Line2D at 0x114d04510>,\n",
       "  <matplotlib.lines.Line2D at 0x114e85350>,\n",
       "  <matplotlib.lines.Line2D at 0x114e853d0>],\n",
       " 'fliers': [<matplotlib.lines.Line2D at 0x114e60150>,\n",
       "  <matplotlib.lines.Line2D at 0x114fd6210>],\n",
       " 'means': [],\n",
       " 'medians': [<matplotlib.lines.Line2D at 0x114bc5350>,\n",
       "  <matplotlib.lines.Line2D at 0x114e580d0>],\n",
       " 'whiskers': [<matplotlib.lines.Line2D at 0x114a59dd0>,\n",
       "  <matplotlib.lines.Line2D at 0x114e7a7d0>,\n",
       "  <matplotlib.lines.Line2D at 0x114e98890>,\n",
       "  <matplotlib.lines.Line2D at 0x114d0e710>]}"
      ]
     },
     "execution_count": 45,
     "metadata": {},
     "output_type": "execute_result"
    },
    {
     "data": {
      "image/png": "[encoded data removed]",
      "text/plain": [
       "<matplotlib.figure.Figure at 0x114ff72d0>"
      ]
     },
     "metadata": {},
     "output_type": "display_data"
    }
   ],
   "source": [
    "plt.subplot(1,2,1)\n",
    "boxplot_from_poi = [features_data['from_poi_to_this_person'][(labels_data==1).values].values,\\\n",
    "                features_data['from_poi_to_this_person'][(labels_data==0).values].values]\n",
    "plt.boxplot(boxplot_from_poi, labels= ['POI', 'non-POI'])"
   ]
  },
  {
   "cell_type": "code",
   "execution_count": 46,
   "metadata": {
    "collapsed": false
   },
   "outputs": [
    {
     "data": {
      "image/png": "[encoded data removed]",
      "text/plain": [
       "<matplotlib.figure.Figure at 0x114a32050>"
      ]
     },
     "metadata": {},
     "output_type": "display_data"
    }
   ],
   "source": [
    "bivar_exp(\"to_messages\")"
   ]
  },
  {
   "cell_type": "markdown",
   "metadata": {},
   "source": [
    "Drop **to_messages** as a feature, keep **from_poi_to_this_person** as a feature.\n",
    "***\n",
    "* **shared_receipt_with_poi**"
   ]
  },
  {
   "cell_type": "code",
   "execution_count": 47,
   "metadata": {
    "collapsed": false
   },
   "outputs": [
    {
     "data": {
      "text/plain": [
       "{'boxes': [<matplotlib.lines.Line2D at 0x11548c1d0>,\n",
       "  <matplotlib.lines.Line2D at 0x1154a3a50>],\n",
       " 'caps': [<matplotlib.lines.Line2D at 0x115497110>,\n",
       "  <matplotlib.lines.Line2D at 0x115497750>,\n",
       "  <matplotlib.lines.Line2D at 0x1154b1d10>,\n",
       "  <matplotlib.lines.Line2D at 0x1154bd390>],\n",
       " 'fliers': [<matplotlib.lines.Line2D at 0x1154a3410>,\n",
       "  <matplotlib.lines.Line2D at 0x1154c8050>],\n",
       " 'means': [],\n",
       " 'medians': [<matplotlib.lines.Line2D at 0x115497d90>,\n",
       "  <matplotlib.lines.Line2D at 0x1154bd9d0>],\n",
       " 'whiskers': [<matplotlib.lines.Line2D at 0x11548c3d0>,\n",
       "  <matplotlib.lines.Line2D at 0x11548ca90>,\n",
       "  <matplotlib.lines.Line2D at 0x1154b1090>,\n",
       "  <matplotlib.lines.Line2D at 0x1154b16d0>]}"
      ]
     },
     "execution_count": 47,
     "metadata": {},
     "output_type": "execute_result"
    },
    {
     "data": {
      "image/png": "[encoded data removed]",
      "text/plain": [
       "<matplotlib.figure.Figure at 0x114f8c4d0>"
      ]
     },
     "metadata": {},
     "output_type": "display_data"
    }
   ],
   "source": [
    "boxplot_shared = [features_data['shared_receipt_with_poi'][(labels_data==1).values].values,\\\n",
    "                features_data['shared_receipt_with_poi'][(labels_data==0).values].values]\n",
    "plt.boxplot(boxplot_shared, labels= ['POI', 'non-POI'])"
   ]
  },
  {
   "cell_type": "markdown",
   "metadata": {},
   "source": [
    "***\n",
    "* Investigate correlation btw **total_payments** and **total_stock_value** with respect to **salary**, **bonus**. Strategies for filling in missing values in **salary** and **bonus**"
   ]
  },
  {
   "cell_type": "markdown",
   "metadata": {},
   "source": [
    "***\n",
    "**Summary**\n",
    "\n",
    "* selecting features: **salary**, **bonus**, **total_stock_value**, **shared_recepit_with_poi**, **from_this_person_to_poi**\n",
    "* engineering features: **from_this_person_to_poi/from_messages**\n",
    "* strategy for dealing with missing values: **filling 0 for NaN**"
   ]
  },
  {
   "cell_type": "code",
   "execution_count": 48,
   "metadata": {
    "collapsed": false
   },
   "outputs": [
    {
     "data": {
      "text/html": [
       "<div>\n",
       "<table border=\"1\" class=\"dataframe\">\n",
       "  <thead>\n",
       "    <tr style=\"text-align: right;\">\n",
       "      <th></th>\n",
       "      <th>salary</th>\n",
       "      <th>bonus</th>\n",
       "      <th>total_stock_value</th>\n",
       "      <th>shared_receipt_with_poi</th>\n",
       "      <th>from_poi_to_this_person</th>\n",
       "      <th>from_messages</th>\n",
       "      <th>from_this_person_to_poi</th>\n",
       "    </tr>\n",
       "  </thead>\n",
       "  <tbody>\n",
       "    <tr>\n",
       "      <th>ALLEN PHILLIP K</th>\n",
       "      <td>201955</td>\n",
       "      <td>4175000</td>\n",
       "      <td>1729541</td>\n",
       "      <td>1407</td>\n",
       "      <td>47</td>\n",
       "      <td>2195</td>\n",
       "      <td>65</td>\n",
       "    </tr>\n",
       "    <tr>\n",
       "      <th>BADUM JAMES P</th>\n",
       "      <td>0</td>\n",
       "      <td>0</td>\n",
       "      <td>257817</td>\n",
       "      <td>0</td>\n",
       "      <td>0</td>\n",
       "      <td>0</td>\n",
       "      <td>0</td>\n",
       "    </tr>\n",
       "  </tbody>\n",
       "</table>\n",
       "</div>"
      ],
      "text/plain": [
       "                 salary    bonus  total_stock_value  shared_receipt_with_poi  \\\n",
       "ALLEN PHILLIP K  201955  4175000            1729541                     1407   \n",
       "BADUM JAMES P         0        0             257817                        0   \n",
       "\n",
       "                 from_poi_to_this_person  from_messages  \\\n",
       "ALLEN PHILLIP K                       47           2195   \n",
       "BADUM JAMES P                          0              0   \n",
       "\n",
       "                 from_this_person_to_poi  \n",
       "ALLEN PHILLIP K                       65  \n",
       "BADUM JAMES P                          0  "
      ]
     },
     "execution_count": 48,
     "metadata": {},
     "output_type": "execute_result"
    }
   ],
   "source": [
    "select_features = ['salary', 'bonus', 'total_stock_value', 'shared_receipt_with_poi', 'from_poi_to_this_person',\n",
    "                   'from_messages', \"from_this_person_to_poi\"\n",
    "                  ]\n",
    "features_data_sel = features_data[select_features]\n",
    "features_data_sel.head(2)"
   ]
  },
  {
   "cell_type": "code",
   "execution_count": 49,
   "metadata": {
    "collapsed": true
   },
   "outputs": [],
   "source": [
    "def fill_from_ratio(row):\n",
    "    if row['from_messages']==0:\n",
    "        return 0.1841\n",
    "    else:\n",
    "        return float(row['from_this_person_to_poi'])/row['from_messages']\n",
    "from_ratio = features_data.apply(comp_ratio_from,axis=1)"
   ]
  },
  {
   "cell_type": "code",
   "execution_count": 50,
   "metadata": {
    "collapsed": false
   },
   "outputs": [
    {
     "name": "stderr",
     "output_type": "stream",
     "text": [
      "/Users/Zhongyu/anaconda/lib/python2.7/site-packages/ipykernel/__main__.py:1: SettingWithCopyWarning: \n",
      "A value is trying to be set on a copy of a slice from a DataFrame.\n",
      "Try using .loc[row_indexer,col_indexer] = value instead\n",
      "\n",
      "See the the caveats in the documentation: http://pandas.pydata.org/pandas-docs/stable/indexing.html#indexing-view-versus-copy\n",
      "  if __name__ == '__main__':\n",
      "/Users/Zhongyu/anaconda/lib/python2.7/site-packages/ipykernel/__main__.py:2: SettingWithCopyWarning: \n",
      "A value is trying to be set on a copy of a slice from a DataFrame\n",
      "\n",
      "See the the caveats in the documentation: http://pandas.pydata.org/pandas-docs/stable/indexing.html#indexing-view-versus-copy\n",
      "  from ipykernel import kernelapp as app\n",
      "/Users/Zhongyu/anaconda/lib/python2.7/site-packages/pandas/core/frame.py:2524: SettingWithCopyWarning: \n",
      "A value is trying to be set on a copy of a slice from a DataFrame\n",
      "\n",
      "See the the caveats in the documentation: http://pandas.pydata.org/pandas-docs/stable/indexing.html#indexing-view-versus-copy\n",
      "  **kwargs)\n"
     ]
    },
    {
     "data": {
      "text/html": [
       "<div>\n",
       "<table border=\"1\" class=\"dataframe\">\n",
       "  <thead>\n",
       "    <tr style=\"text-align: right;\">\n",
       "      <th></th>\n",
       "      <th>salary</th>\n",
       "      <th>bonus</th>\n",
       "      <th>total_stock_value</th>\n",
       "      <th>shared_receipt_with_poi</th>\n",
       "      <th>poi_to_this_person</th>\n",
       "      <th>from_ratio</th>\n",
       "    </tr>\n",
       "  </thead>\n",
       "  <tbody>\n",
       "    <tr>\n",
       "      <th>ALLEN PHILLIP K</th>\n",
       "      <td>201955</td>\n",
       "      <td>4175000</td>\n",
       "      <td>1729541</td>\n",
       "      <td>1407</td>\n",
       "      <td>47</td>\n",
       "      <td>0.029613</td>\n",
       "    </tr>\n",
       "    <tr>\n",
       "      <th>BADUM JAMES P</th>\n",
       "      <td>0</td>\n",
       "      <td>0</td>\n",
       "      <td>257817</td>\n",
       "      <td>0</td>\n",
       "      <td>0</td>\n",
       "      <td>0.184100</td>\n",
       "    </tr>\n",
       "  </tbody>\n",
       "</table>\n",
       "</div>"
      ],
      "text/plain": [
       "                 salary    bonus  total_stock_value  shared_receipt_with_poi  \\\n",
       "ALLEN PHILLIP K  201955  4175000            1729541                     1407   \n",
       "BADUM JAMES P         0        0             257817                        0   \n",
       "\n",
       "                 poi_to_this_person  from_ratio  \n",
       "ALLEN PHILLIP K                  47    0.029613  \n",
       "BADUM JAMES P                     0    0.184100  "
      ]
     },
     "execution_count": 50,
     "metadata": {},
     "output_type": "execute_result"
    }
   ],
   "source": [
    "features_data_sel['from_ratio'] = features_data_sel.apply(fill_from_ratio, axis=1)\n",
    "features_data_sel.drop(['from_messages','from_this_person_to_poi'], axis=1, inplace=True)\n",
    "features_data_sel.rename(columns={'from_poi_to_this_person':'poi_to_this_person'}, inplace=True)\n",
    "features_data_sel.head(2)"
   ]
  },
  {
   "cell_type": "markdown",
   "metadata": {},
   "source": [
    "## Split Data, Train Simple Models, Select Features Based on Performance on Simple Models\n",
    "***\n",
    "### Split Data into training and testing set"
   ]
  },
  {
   "cell_type": "code",
   "execution_count": 51,
   "metadata": {
    "collapsed": true
   },
   "outputs": [],
   "source": [
    "features_train, features_test, labels_train, labels_test = train_test_split(features_data_sel, labels_data,\n",
    "                                                                            test_size=0.3, random_state=89)"
   ]
  },
  {
   "cell_type": "markdown",
   "metadata": {},
   "source": [
    "***\n",
    "### Train and Evaluate Classifiers (all features): GaussianNB, KNN, Adaptive Boost, Random Forest, Decision Tree\n",
    "Note SVC takes too long to train and terminate, therefore discard SVC as classifier options here\n",
    "* **Train classifier based on all features**"
   ]
  },
  {
   "cell_type": "code",
   "execution_count": 52,
   "metadata": {
    "collapsed": true
   },
   "outputs": [],
   "source": [
    "def classifier(clf_obj):\n",
    "    clf_obj.fit(features_train, labels_train)\n",
    "    pred_clf = clf_obj.predict(features_test)\n",
    "    print \"F1 score on training set: \", f1_score(labels_train, clf_obj.predict(features_train))\n",
    "    print \"F1 score on testing set: \", f1_score(labels_test, pred_clf)\n",
    "    print confusion_matrix(labels_test, pred_clf)\n",
    "    return clf_obj"
   ]
  },
  {
   "cell_type": "code",
   "execution_count": 53,
   "metadata": {
    "collapsed": false,
    "scrolled": true
   },
   "outputs": [
    {
     "name": "stdout",
     "output_type": "stream",
     "text": [
      "F1 score on training set:  0.190476190476\n",
      "F1 score on testing set:  0.5\n",
      "[[37  0]\n",
      " [ 4  2]]\n"
     ]
    }
   ],
   "source": [
    "# GaussianNB\n",
    "clf_gnb = GaussianNB()\n",
    "clf_gnb.fit(features_train, labels_train)\n",
    "pred_gnb = clf_gnb.predict(features_test)\n",
    "print \"F1 score on training set: \", f1_score(labels_train, clf_gnb.predict(features_train))\n",
    "print \"F1 score on testing set: \", f1_score(labels_test, pred_gnb)\n",
    "print confusion_matrix(labels_test, pred_gnb)"
   ]
  },
  {
   "cell_type": "code",
   "execution_count": 54,
   "metadata": {
    "collapsed": false
   },
   "outputs": [
    {
     "name": "stdout",
     "output_type": "stream",
     "text": [
      "F1 score on training set:  1.0\n",
      "F1 score on testing set:  0.25\n",
      "[[36  1]\n",
      " [ 5  1]]\n"
     ]
    }
   ],
   "source": [
    "# KNN\n",
    "clf_knn = KNeighborsClassifier(n_neighbors=5,weights='distance')\n",
    "clf_knn = classifier(clf_knn)"
   ]
  },
  {
   "cell_type": "code",
   "execution_count": 131,
   "metadata": {
    "collapsed": false
   },
   "outputs": [
    {
     "name": "stdout",
     "output_type": "stream",
     "text": [
      "F1 score on training set:  0.923076923077\n",
      "F1 score on testing set:  0.545454545455\n",
      "[[35  2]\n",
      " [ 3  3]]\n"
     ]
    }
   ],
   "source": [
    "# Decision Tree - Not very stable when random_state set to None\n",
    "clf_dt = DecisionTreeClassifier(criterion='entropy', splitter='best', min_samples_split=5,\n",
    "                                min_samples_leaf=2 ,random_state=None)\n",
    "clf_dt = classifier(clf_dt)"
   ]
  },
  {
   "cell_type": "code",
   "execution_count": 132,
   "metadata": {
    "collapsed": false
   },
   "outputs": [
    {
     "name": "stdout",
     "output_type": "stream",
     "text": [
      "F1 score on training set:  1.0\n",
      "F1 score on testing set:  0.833333333333\n",
      "[[36  1]\n",
      " [ 1  5]]\n"
     ]
    }
   ],
   "source": [
    "# Adaptive Boost - pretty stable not matter how clf_dt's performance is\n",
    "clf_adb = AdaBoostClassifier(base_estimator=clf_dt, learning_rate=0.01, random_state=None)\n",
    "clf_adb = classifier(clf_adb)"
   ]
  },
  {
   "cell_type": "code",
   "execution_count": 133,
   "metadata": {
    "collapsed": false
   },
   "outputs": [
    {
     "name": "stdout",
     "output_type": "stream",
     "text": [
      "F1 score on training set:  0.782608695652\n",
      "F1 score on testing set:  0.545454545455\n",
      "[[35  2]\n",
      " [ 3  3]]\n"
     ]
    }
   ],
   "source": [
    "# Random Forest - not stable when random_state set to None\n",
    "clf_rdf = RandomForestClassifier(n_estimators=5, criterion='entropy', min_samples_split=5,\n",
    "                                 min_samples_leaf=2, random_state = None)\n",
    "clf_rdf = classifier(clf_rdf)"
   ]
  },
  {
   "cell_type": "markdown",
   "metadata": {
    "collapsed": true
   },
   "source": [
    "* **Investigate classifier performance with one feature at a time**"
   ]
  },
  {
   "cell_type": "code",
   "execution_count": 134,
   "metadata": {
    "collapsed": true
   },
   "outputs": [],
   "source": [
    "def classifier_select_feature(clf_obj, select_feature):\n",
    "    clf_obj.fit(features_train[select_feature], labels_train)\n",
    "    pred_clf = clf_obj.predict(features_test[select_feature])\n",
    "    print \"F1 score on training set: \", f1_score(labels_train, clf_obj.predict(features_train[select_feature]))\n",
    "    print \"F1 score on testing set: \", f1_score(labels_test, pred_clf)\n",
    "    print confusion_matrix(labels_test, pred_clf)\n",
    "    return clf_obj"
   ]
  },
  {
   "cell_type": "code",
   "execution_count": 235,
   "metadata": {
    "collapsed": true
   },
   "outputs": [],
   "source": [
    "def examine_feature(all_features):\n",
    "    for f in all_features:\n",
    "        print \"===============\", f,\"=========================\"\n",
    "        print \"------- GaussianNB Classifier -----------\"\n",
    "        clf_gnb1 = GaussianNB()\n",
    "        clf_gnb1 = classifier_select_feature(clf_gnb1, [f])\n",
    "        print \"------- DecisionTree Classifier -----------\"\n",
    "        clf_dt1 = DecisionTreeClassifier(criterion='entropy', splitter='best', min_samples_split=5,\n",
    "                                min_samples_leaf=2 ,random_state=None)\n",
    "        clf_dt1 = classifier_select_feature(clf_dt1, [f])\n",
    "        print \"------- AdaBoost Classifier -----------\"\n",
    "        clf_adb1 = AdaBoostClassifier(base_estimator=clf_dt1, learning_rate=0.01, random_state=None)\n",
    "        clf_adb1 = classifier_select_feature(clf_adb1, [f])"
   ]
  },
  {
   "cell_type": "markdown",
   "metadata": {},
   "source": [
    "* Missing values are filled with 0"
   ]
  },
  {
   "cell_type": "code",
   "execution_count": 273,
   "metadata": {
    "collapsed": false
   },
   "outputs": [
    {
     "name": "stdout",
     "output_type": "stream",
     "text": [
      "=============== salary =========================\n",
      "------- GaussianNB Classifier -----------\n",
      "F1 score on training set:  0.0\n",
      "F1 score on testing set:  0.0\n",
      "[[37  0]\n",
      " [ 6  0]]\n",
      "------- DecisionTree Classifier -----------\n",
      "F1 score on training set:  0.470588235294\n",
      "F1 score on testing set:  0.0\n",
      "[[37  0]\n",
      " [ 6  0]]\n",
      "------- AdaBoost Classifier -----------\n",
      "F1 score on training set:  0.782608695652\n",
      "F1 score on testing set:  0.0\n",
      "[[35  2]\n",
      " [ 6  0]]\n",
      "=============== bonus =========================\n",
      "------- GaussianNB Classifier -----------\n",
      "F1 score on training set:  0.133333333333\n",
      "F1 score on testing set:  0.5\n",
      "[[37  0]\n",
      " [ 4  2]]\n",
      "------- DecisionTree Classifier -----------\n",
      "F1 score on training set:  0.285714285714\n",
      "F1 score on testing set:  0.285714285714\n",
      "[[37  0]\n",
      " [ 5  1]]\n",
      "------- AdaBoost Classifier -----------\n",
      "F1 score on training set:  0.285714285714\n",
      "F1 score on testing set:  0.285714285714\n",
      "[[37  0]\n",
      " [ 5  1]]\n",
      "=============== total_stock_value =========================\n",
      "------- GaussianNB Classifier -----------\n",
      "F1 score on training set:  0.235294117647\n",
      "F1 score on testing set:  0.666666666667\n",
      "[[37  0]\n",
      " [ 3  3]]\n",
      "------- DecisionTree Classifier -----------\n",
      "F1 score on training set:  0.266666666667\n",
      "F1 score on testing set:  0.0\n",
      "[[36  1]\n",
      " [ 6  0]]\n",
      "------- AdaBoost Classifier -----------\n",
      "F1 score on training set:  0.916666666667\n",
      "F1 score on testing set:  0.166666666667\n",
      "[[32  5]\n",
      " [ 5  1]]\n",
      "=============== shared_receipt_with_poi =========================\n",
      "------- GaussianNB Classifier -----------\n",
      "F1 score on training set:  0.117647058824\n",
      "F1 score on testing set:  0.0\n",
      "[[36  1]\n",
      " [ 6  0]]\n",
      "------- DecisionTree Classifier -----------\n",
      "F1 score on training set:  0.6\n",
      "F1 score on testing set:  0.2\n",
      "[[34  3]\n",
      " [ 5  1]]\n",
      "------- AdaBoost Classifier -----------\n",
      "F1 score on training set:  0.727272727273\n",
      "F1 score on testing set:  0.363636363636\n",
      "[[34  3]\n",
      " [ 4  2]]\n",
      "=============== poi_to_this_person =========================\n",
      "------- GaussianNB Classifier -----------\n",
      "F1 score on training set:  0.0\n",
      "F1 score on testing set:  0.0\n",
      "[[37  0]\n",
      " [ 6  0]]\n",
      "------- DecisionTree Classifier -----------\n",
      "F1 score on training set:  0.444444444444\n",
      "F1 score on testing set:  0.0\n",
      "[[37  0]\n",
      " [ 6  0]]\n",
      "------- AdaBoost Classifier -----------\n",
      "F1 score on training set:  0.526315789474\n",
      "F1 score on testing set:  0.0\n",
      "[[37  0]\n",
      " [ 6  0]]\n",
      "=============== from_ratio =========================\n",
      "------- GaussianNB Classifier -----------\n",
      "F1 score on training set:  0.0\n",
      "F1 score on testing set:  0.0\n",
      "[[37  0]\n",
      " [ 6  0]]\n",
      "------- DecisionTree Classifier -----------\n",
      "F1 score on training set:  0.666666666667\n",
      "F1 score on testing set:  0.222222222222\n",
      "[[35  2]\n",
      " [ 5  1]]\n",
      "------- AdaBoost Classifier -----------\n",
      "F1 score on training set:  0.727272727273\n",
      "F1 score on testing set:  0.222222222222\n",
      "[[35  2]\n",
      " [ 5  1]]\n"
     ]
    }
   ],
   "source": [
    "all_features = ['salary','bonus','total_stock_value','shared_receipt_with_poi','poi_to_this_person','from_ratio']\n",
    "examine_feature(all_features)"
   ]
  },
  {
   "cell_type": "markdown",
   "metadata": {},
   "source": [
    "* Fill missing value with average"
   ]
  },
  {
   "cell_type": "code",
   "execution_count": 268,
   "metadata": {
    "collapsed": true
   },
   "outputs": [],
   "source": [
    "def fill_with_mean():\n",
    "    fill_cols = features_train.columns[:-1]\n",
    "    for col in fill_cols:\n",
    "        non_miss_index = features_train.index[features_train[col]!=0]\n",
    "        avg = np.mean(features_train[col][non_miss_index])\n",
    "        features_train[col].replace(0, avg, inplace=True)\n",
    "        features_test[col].replace(0, avg, inplace=True)\n",
    "    return"
   ]
  },
  {
   "cell_type": "code",
   "execution_count": 269,
   "metadata": {
    "collapsed": false
   },
   "outputs": [
    {
     "name": "stderr",
     "output_type": "stream",
     "text": [
      "/Users/Zhongyu/anaconda/lib/python2.7/site-packages/pandas/core/generic.py:2859: SettingWithCopyWarning: \n",
      "A value is trying to be set on a copy of a slice from a DataFrame\n",
      "\n",
      "See the the caveats in the documentation: http://pandas.pydata.org/pandas-docs/stable/indexing.html#indexing-view-versus-copy\n",
      "  self._update_inplace(new_data)\n"
     ]
    }
   ],
   "source": [
    "fill_with_mean()"
   ]
  },
  {
   "cell_type": "code",
   "execution_count": 270,
   "metadata": {
    "collapsed": false
   },
   "outputs": [
    {
     "data": {
      "text/html": [
       "<div>\n",
       "<table border=\"1\" class=\"dataframe\">\n",
       "  <thead>\n",
       "    <tr style=\"text-align: right;\">\n",
       "      <th></th>\n",
       "      <th>salary</th>\n",
       "      <th>bonus</th>\n",
       "      <th>total_stock_value</th>\n",
       "      <th>shared_receipt_with_poi</th>\n",
       "      <th>poi_to_this_person</th>\n",
       "      <th>from_ratio</th>\n",
       "    </tr>\n",
       "  </thead>\n",
       "  <tbody>\n",
       "    <tr>\n",
       "      <th>KISHKILL JOSEPH G</th>\n",
       "      <td>174246.000000</td>\n",
       "      <td>1163926.232143</td>\n",
       "      <td>1034346.000000</td>\n",
       "      <td>1234.112903</td>\n",
       "      <td>79.290909</td>\n",
       "      <td>0.184100</td>\n",
       "    </tr>\n",
       "    <tr>\n",
       "      <th>FUGH JOHN L</th>\n",
       "      <td>263149.477612</td>\n",
       "      <td>1163926.232143</td>\n",
       "      <td>176378.000000</td>\n",
       "      <td>1234.112903</td>\n",
       "      <td>79.290909</td>\n",
       "      <td>0.184100</td>\n",
       "    </tr>\n",
       "    <tr>\n",
       "      <th>CARTER REBECCA C</th>\n",
       "      <td>261809.000000</td>\n",
       "      <td>300000.000000</td>\n",
       "      <td>3004434.908046</td>\n",
       "      <td>196.000000</td>\n",
       "      <td>29.000000</td>\n",
       "      <td>0.466667</td>\n",
       "    </tr>\n",
       "  </tbody>\n",
       "</table>\n",
       "</div>"
      ],
      "text/plain": [
       "                          salary           bonus  total_stock_value  \\\n",
       "KISHKILL JOSEPH G  174246.000000  1163926.232143     1034346.000000   \n",
       "FUGH JOHN L        263149.477612  1163926.232143      176378.000000   \n",
       "CARTER REBECCA C   261809.000000   300000.000000     3004434.908046   \n",
       "\n",
       "                   shared_receipt_with_poi  poi_to_this_person  from_ratio  \n",
       "KISHKILL JOSEPH G              1234.112903           79.290909    0.184100  \n",
       "FUGH JOHN L                    1234.112903           79.290909    0.184100  \n",
       "CARTER REBECCA C                196.000000           29.000000    0.466667  "
      ]
     },
     "execution_count": 270,
     "metadata": {},
     "output_type": "execute_result"
    }
   ],
   "source": [
    "features_train.head(3)"
   ]
  },
  {
   "cell_type": "code",
   "execution_count": 272,
   "metadata": {
    "collapsed": false
   },
   "outputs": [
    {
     "name": "stdout",
     "output_type": "stream",
     "text": [
      "=============== salary =========================\n",
      "------- GaussianNB Classifier -----------\n",
      "F1 score on training set:  0.0\n",
      "F1 score on testing set:  0.0\n",
      "[[37  0]\n",
      " [ 6  0]]\n",
      "------- DecisionTree Classifier -----------\n",
      "F1 score on training set:  0.470588235294\n",
      "F1 score on testing set:  0.0\n",
      "[[37  0]\n",
      " [ 6  0]]\n",
      "------- AdaBoost Classifier -----------\n",
      "F1 score on training set:  0.782608695652\n",
      "F1 score on testing set:  0.0\n",
      "[[35  2]\n",
      " [ 6  0]]\n",
      "=============== bonus =========================\n",
      "------- GaussianNB Classifier -----------\n",
      "F1 score on training set:  0.133333333333\n",
      "F1 score on testing set:  0.5\n",
      "[[37  0]\n",
      " [ 4  2]]\n",
      "------- DecisionTree Classifier -----------\n",
      "F1 score on training set:  0.285714285714\n",
      "F1 score on testing set:  0.285714285714\n",
      "[[37  0]\n",
      " [ 5  1]]\n",
      "------- AdaBoost Classifier -----------\n",
      "F1 score on training set:  0.285714285714\n",
      "F1 score on testing set:  0.285714285714\n",
      "[[37  0]\n",
      " [ 5  1]]\n",
      "=============== total_stock_value =========================\n",
      "------- GaussianNB Classifier -----------\n",
      "F1 score on training set:  0.235294117647\n",
      "F1 score on testing set:  0.666666666667\n",
      "[[37  0]\n",
      " [ 3  3]]\n",
      "------- DecisionTree Classifier -----------\n",
      "F1 score on training set:  0.266666666667\n",
      "F1 score on testing set:  0.0\n",
      "[[36  1]\n",
      " [ 6  0]]\n",
      "------- AdaBoost Classifier -----------\n",
      "F1 score on training set:  0.916666666667\n",
      "F1 score on testing set:  0.166666666667\n",
      "[[32  5]\n",
      " [ 5  1]]\n",
      "=============== shared_receipt_with_poi =========================\n",
      "------- GaussianNB Classifier -----------\n",
      "F1 score on training set:  0.117647058824\n",
      "F1 score on testing set:  0.0\n",
      "[[36  1]\n",
      " [ 6  0]]\n",
      "------- DecisionTree Classifier -----------\n",
      "F1 score on training set:  0.6\n",
      "F1 score on testing set:  0.2\n",
      "[[34  3]\n",
      " [ 5  1]]\n",
      "------- AdaBoost Classifier -----------\n",
      "F1 score on training set:  0.727272727273\n",
      "F1 score on testing set:  0.363636363636\n",
      "[[34  3]\n",
      " [ 4  2]]\n",
      "=============== poi_to_this_person =========================\n",
      "------- GaussianNB Classifier -----------\n",
      "F1 score on training set:  0.0\n",
      "F1 score on testing set:  0.0\n",
      "[[37  0]\n",
      " [ 6  0]]\n",
      "------- DecisionTree Classifier -----------\n",
      "F1 score on training set:  0.444444444444\n",
      "F1 score on testing set:  0.0\n",
      "[[37  0]\n",
      " [ 6  0]]\n",
      "------- AdaBoost Classifier -----------\n",
      "F1 score on training set:  0.526315789474\n",
      "F1 score on testing set:  0.0\n",
      "[[37  0]\n",
      " [ 6  0]]\n",
      "=============== from_ratio =========================\n",
      "------- GaussianNB Classifier -----------\n",
      "F1 score on training set:  0.0\n",
      "F1 score on testing set:  0.0\n",
      "[[37  0]\n",
      " [ 6  0]]\n",
      "------- DecisionTree Classifier -----------\n",
      "F1 score on training set:  0.666666666667\n",
      "F1 score on testing set:  0.222222222222\n",
      "[[35  2]\n",
      " [ 5  1]]\n",
      "------- AdaBoost Classifier -----------\n",
      "F1 score on training set:  0.727272727273\n",
      "F1 score on testing set:  0.222222222222\n",
      "[[35  2]\n",
      " [ 5  1]]\n"
     ]
    }
   ],
   "source": [
    "all_features = ['salary','bonus','total_stock_value','shared_receipt_with_poi','poi_to_this_person','from_ratio']\n",
    "examine_feature(all_features)"
   ]
  },
  {
   "cell_type": "markdown",
   "metadata": {},
   "source": [
    "**Summary**\n",
    "Drop **salary** and **poi_to_this_person** as features. "
   ]
  },
  {
   "cell_type": "markdown",
   "metadata": {},
   "source": [
    "Some final experiments to explore the performance of selected variables"
   ]
  },
  {
   "cell_type": "code",
   "execution_count": 281,
   "metadata": {
    "collapsed": true
   },
   "outputs": [],
   "source": [
    "sel_features = ['bonus','total_stock_value','shared_receipt_with_poi','poi_to_this_person']"
   ]
  },
  {
   "cell_type": "code",
   "execution_count": 308,
   "metadata": {
    "collapsed": false
   },
   "outputs": [
    {
     "name": "stdout",
     "output_type": "stream",
     "text": [
      "F1 score on training set:  1.0\n",
      "F1 score on testing set:  0.5\n",
      "[[34  3]\n",
      " [ 3  3]]\n"
     ]
    }
   ],
   "source": [
    "clf_adb = AdaBoostClassifier(base_estimator=clf_dt, learning_rate=0.1, random_state=None)\n",
    "clf_adb = classifier_select_feature(clf_adb, sel_features )"
   ]
  },
  {
   "cell_type": "code",
   "execution_count": 323,
   "metadata": {
    "collapsed": false
   },
   "outputs": [
    {
     "name": "stdout",
     "output_type": "stream",
     "text": [
      "F1 score on training set:  0.526315789474\n",
      "F1 score on testing set:  0.444444444444\n",
      "[[36  1]\n",
      " [ 4  2]]\n"
     ]
    }
   ],
   "source": [
    "clf_rdf = RandomForestClassifier(n_estimators=5, criterion='entropy', min_samples_split=5,\n",
    "                                 min_samples_leaf=2, random_state = 94)\n",
    "clf_rdf = classifier_select_feature(clf_rdf, sel_features)"
   ]
  },
  {
   "cell_type": "code",
   "execution_count": 326,
   "metadata": {
    "collapsed": false
   },
   "outputs": [
    {
     "name": "stdout",
     "output_type": "stream",
     "text": [
      "F1 score on training set:  0.190476190476\n",
      "F1 score on testing set:  0.666666666667\n",
      "[[37  0]\n",
      " [ 3  3]]\n"
     ]
    }
   ],
   "source": [
    "clf_gnb = GaussianNB()\n",
    "clf_gnb = classifier_select_feature(clf_gnb, sel_features)"
   ]
  },
  {
   "cell_type": "code",
   "execution_count": null,
   "metadata": {
    "collapsed": true
   },
   "outputs": [],
   "source": []
  }
 ],
 "metadata": {
  "kernelspec": {
   "display_name": "Python 2",
   "language": "python",
   "name": "python2"
  },
  "language_info": {
   "codemirror_mode": {
    "name": "ipython",
    "version": 2
   },
   "file_extension": ".py",
   "mimetype": "text/x-python",
   "name": "python",
   "nbconvert_exporter": "python",
   "pygments_lexer": "ipython2",
   "version": "2.7.12"
  }
 },
 "nbformat": 4,
 "nbformat_minor": 0
}
